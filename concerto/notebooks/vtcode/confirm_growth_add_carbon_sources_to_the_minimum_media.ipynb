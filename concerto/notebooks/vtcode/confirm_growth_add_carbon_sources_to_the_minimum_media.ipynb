{
 "cells": [
  {
   "cell_type": "raw",
   "id": "6f8f6a4d-a413-4973-b8dc-5f63c7f04b9c",
   "metadata": {},
   "source": []
  },
  {
   "cell_type": "markdown",
   "id": "1277f0fa-b2cb-4896-8e28-7c8a0fafdecc",
   "metadata": {},
   "source": [
    "# This code will help you confirm if there was growth by adding each carbon source from the PM02 biolog file to the model's carbonless minimal media\n",
    "- Carbon minimal media: has some N,P,S sources + vitamins but no carbon sources\n",
    "- Should be observing a number (threshold) to compare to how much it grows on glucose.\n",
    "- Uncertainties can be marked\n",
    "  "
   ]
  },
  {
   "cell_type": "code",
   "execution_count": 1,
   "id": "0c462b0f-20c7-4d5f-9230-ac584b842c60",
   "metadata": {},
   "outputs": [],
   "source": [
    "#Import the necessary libraries.\n",
    "import cobra\n",
    "import re\n",
    "import pandas as pd\n",
    "from cobra.medium import minimal_medium\n",
    "from cobra.io import read_sbml_model"
   ]
  },
  {
   "cell_type": "markdown",
   "id": "71f810aa-f24c-4860-a20d-98521776b17e",
   "metadata": {},
   "source": [
    "Create function that extracts the minimal media from the model and extracts the exchange that does not contain a specific element.\n",
    "- giving it a model that is already defined, but model could NOT be a minimal media.\n",
    "- min.medium figures out the smallest number of media components that will still enable growth "
   ]
  },
  {
   "cell_type": "markdown",
   "id": "57d01832-c7da-45ec-8e6b-6fbf21232294",
   "metadata": {},
   "source": [
    "Some predictive reaction assignments in the model may not entirely reflect real experimental conditions, so trying to find these exchange reactions"
   ]
  },
  {
   "cell_type": "code",
   "execution_count": 22,
   "id": "5f96ea53-130b-4cc5-8e0a-44b0712a0afd",
   "metadata": {},
   "outputs": [],
   "source": [
    "#extracts minimal media of certain model, looks for all metabolites that don't contain a certain element\n",
    "#THIS CHUNK CANNOT BE SEPARATED\n",
    "def getMinMedias(model, element, model_name):\n",
    "    '''\n",
    "    PARAMETERS:\n",
    "    PARAMETERS:\n",
    "    model: The model that you want to generate the rich media csv file.\n",
    "    element: The element you want to exclude from the csv file.\n",
    "    model_name: A string whos only purpose is to help rename the new generated csv file.'''\n",
    "\n",
    "    min_medium_model = cobra.medium.minimal_medium(model) #Extracting the minimal media from the file; \n",
    "    #is computationally removing carbon sources from rich media. \n",
    "    #Happens in a list format --> goes into Memote\n",
    "    matches = re.findall(r\"(EX_.+_e)\\s\", str(min_medium_model)) #Extracting the exchange reactions of the \n",
    "    #minimal media.\n",
    "    # We create a variable that will store the exchange reactions of the minimal media. \n",
    "    #Here I have added other reactions that do not contain carbon that may benefit growth.\n",
    "    Info = \"exchange,uptake\\nEX_h2o_e,1000\\nEX_h_e,1000\\nEX_na1_e,1000\\nEX_nh4_e,1000\\nEX_ni2_e,1000\\nEX_pi_e,1000\\n\"\n",
    "    # We iterate through each exchange reaction.\n",
    "    for medium in matches:\n",
    "        #print(type(medium))\n",
    "        # we extract the reaction formula of each exchange reaction.\n",
    "        reaction = model.reactions.get_by_id(medium)\n",
    "        #print(medium)\n",
    "        #print(reaction.metabolites)\n",
    "        #print(reaction)\n",
    "        # We extract the metabolite in each of the exchange reactions.\n",
    "        for metabolite in reaction.metabolites:\n",
    "            #print(metabolite)\n",
    "            #print(metabolite.formula)\n",
    "            #print(element)\n",
    "            #print(\"____\")\n",
    "            # Here we extract only the exchange reactions that do not contain the specified element on their metabolite chemical formula.\n",
    "            if not re.search(str(element), str(metabolite.formula)) and metabolite.formula != None:\n",
    "                #If the conditions are met, then we add it to the Info variable.\n",
    "                Info = Info + medium + \",\" + \"1000\\n\"\n",
    "                #print(Info)\n",
    "                #print(metabolite)\n",
    "                #print(metabolite.formula)\n",
    "            # This condition also extracts the exchange reactions that do not contain the element but have a similar chemical symbol. In example, while filtering for \"C\" we do not filter \"Ca\" or \"Cu\" elements.\n",
    "            elif re.search(str(element + \"[a-z]\"), str(metabolite.formula)):\n",
    "                #print(metabolite)\n",
    "                #print(metabolite.formula)\n",
    "                #If the conditions are met, then we add it to the Info variable.\n",
    "                Info = Info + medium + \",\" + \"1000\\n\"\n",
    "    # We create a new file and write the Info variable in it.\n",
    "    newfile = open(\"minimal_media_no_carbon_csc031.csv\", \"w\") #new output file based on minmedia computations\n",
    "    newfile.write(Info)\n",
    "    return Info"
   ]
  },
  {
   "cell_type": "markdown",
   "id": "983b1056-8a8c-4537-9059-3c1965aca9ad",
   "metadata": {},
   "source": [
    "Want to calibrate the exchange conditions to Biolog observations; Biolog conditions are conditions that need to be met in the following:"
   ]
  },
  {
   "cell_type": "markdown",
   "id": "ab23afe1-a327-4132-a14e-8451e54450b1",
   "metadata": {},
   "source": [
    "Read in the (growth?) model and apply the getMinMedias function"
   ]
  },
  {
   "cell_type": "code",
   "execution_count": null,
   "id": "d1829814-aca1-4021-a02a-f38498146326",
   "metadata": {},
   "outputs": [],
   "source": [
    "#We extract the model and apply the function to it.\n",
    "#xml file was gotten from carveme\n",
    "model_csc031 = read_sbml_model(\"C:/Users/lint730/concerto/concerto/vtfiles/GapfilledCSC031.xml\")\n",
    "getMinMedias(model_csc031, \"C\", \"min_medium_csc031\")\n",
    "#min_media_file = pd.read_csv(\"/Users/rodr579/Library/CloudStorage/OneDrive-PNNL/venv/Testing_New_Media031V2.csv\")\n",
    "#print(min_media_file)\n",
    "\n",
    "#We open the file that we just created.\n",
    "min_media_no_carbon = pd.read_csv(\"/Users/rodr579/Library/CloudStorage/OneDrive-PNNL/venv/minimal_media_no_carbon_csc031.csv\")\n",
    "min_media_dict = {} # We open an empty dictionary.\n",
    "\n",
    "# We iterate through each exchange reaction found in the file.\n",
    "for i in range(len(min_media_no_carbon[\"exchange\"])):\n",
    "    # We add each exchange reaction to the dictionary.\n",
    "    min_media_dict[min_media_no_carbon[\"exchange\"][i]] = float(min_media_no_carbon[\"uptake\"][i])"
   ]
  },
  {
   "cell_type": "markdown",
   "id": "07045c6e-f273-461a-994c-ae656254fd08",
   "metadata": {},
   "source": [
    "Trying different reactions that may help growth, using 1000 as a qualitative (y/n) threshold for growth"
   ]
  },
  {
   "cell_type": "code",
   "execution_count": null,
   "id": "b09871e3-7890-4cb7-bc1c-61514a831898",
   "metadata": {},
   "outputs": [],
   "source": [
    "# Here are some exchange reactions that we a readding to the dictionary that may benefit growth.\n",
    "#min_media_dict[\"EX_glc__D_e\"] = 1000.0\n",
    "min_media_dict[\"EX_h2o_e\"] = 1000.0\n",
    "min_media_dict[\"EX_h_e\"] = 1000.0\n",
    "min_media_dict[\"EX_na1_e\"] = 1000.0\n",
    "min_media_dict[\"EX_nh4_e\"] = 1000.0\n",
    "min_media_dict[\"EX_ni2_e\"] = 1000.0\n",
    "min_media_dict[\"EX_pi_e\"] = 1000.0"
   ]
  },
  {
   "cell_type": "code",
   "execution_count": null,
   "id": "b62c91fd-84c0-4ec4-9fc9-ae3282c32d20",
   "metadata": {},
   "outputs": [],
   "source": [
    "# We open the file that contains the exchange reactions of each carbon source of the biolog file.\n",
    "biolog_names = pd.read_csv(\"/Users/rodr579/Library/CloudStorage/OneDrive-PNNL/venv/PM02OnlyNamesAndBiGG.csv\")\n",
    "\n",
    "# We iterate through each of the biolog reactions.\n",
    "for reaction in biolog_names[\"BiGG\"]:\n",
    "    min_media_dict[reaction] = 1000.0 #Here we add each biolog reaction to the media dictionary.\n",
    "    print(\"REACTION: \" + reaction)\n",
    "    print(\"MEDIA: \" + str(min_media_dict))\n",
    "    model_csc031.medium = min_media_dict # We apply this dictionary as the media of the model.\n",
    "    print(\"GROWTH: \" + str(model_csc031.slim_optimize())) #We calculate the growth of the model in the new media condition.\n",
    "    print(\"\\n\")\n",
    "    min_media_dict.pop(reaction) #After calculating the growth we remove the current biolog exchange reaction to make room for the next one.\n",
    "\n",
    "#model_csc031.metabolites.glc__D_e.reactions\n",
    "#print(model_csc031.reactions.GLCabc.reaction)\n",
    "#print(model_csc031.reactions.BG_CELLB.reaction)\n",
    "#print(model_csc031.reactions.GLCpts.reaction)\n",
    "#med = cobra.medium.minimal_medium(model_csc031)\n",
    "#print(min_media_dict)\n",
    "#model_csc031.medium = min_media_dict\n",
    "#model_csc031.optimize()"
   ]
  }
 ],
 "metadata": {
  "kernelspec": {
   "display_name": "Python 3 (ipykernel)",
   "language": "python",
   "name": "python3"
  },
  "language_info": {
   "codemirror_mode": {
    "name": "ipython",
    "version": 3
   },
   "file_extension": ".py",
   "mimetype": "text/x-python",
   "name": "python",
   "nbconvert_exporter": "python",
   "pygments_lexer": "ipython3",
   "version": "3.12.4"
  }
 },
 "nbformat": 4,
 "nbformat_minor": 5
}

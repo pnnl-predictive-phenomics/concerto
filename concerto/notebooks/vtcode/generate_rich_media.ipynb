{
 "cells": [
  {
   "cell_type": "markdown",
   "id": "21ae227a-f569-4753-a2b6-a949f95d1199",
   "metadata": {},
   "source": [
    "# Create a csv file in the format that memote will accept (experiments.yml) to run\n",
    "- ASK: what is the purpose of rich media vs minimal media--what differences do we anticipate, and how does that help the community model\n",
    "- ASK: where does exchange/uptake happen int he model (how do we know that this is the result of an exchange or an uptake of metabolites)\n",
    "- Requires running of carve.me model generation first"
   ]
  },
  {
   "cell_type": "code",
   "execution_count": 1,
   "id": "c0374e1e",
   "metadata": {},
   "outputs": [
    {
     "ename": "OSError",
     "evalue": "The file with '../victor_files_n_codes/Generation_of_rich_media_csv_file/updated_modelcsc031FixedCompartments.xml' does not exist, or is not an SBML string. Provide the path to an existing SBML file or a valid SBML string representation:\n",
     "output_type": "error",
     "traceback": [
      "\u001b[1;31m---------------------------------------------------------------------------\u001b[0m",
      "\u001b[1;31mOSError\u001b[0m                                   Traceback (most recent call last)",
      "Cell \u001b[1;32mIn[1], line 9\u001b[0m\n\u001b[0;32m      6\u001b[0m \u001b[38;5;28;01mfrom\u001b[39;00m \u001b[38;5;21;01mcobra\u001b[39;00m\u001b[38;5;21;01m.\u001b[39;00m\u001b[38;5;21;01mmedium\u001b[39;00m \u001b[38;5;28;01mimport\u001b[39;00m minimal_medium\n\u001b[0;32m      8\u001b[0m \u001b[38;5;66;03m#We load the model that we want to generate a minimal media csv file.\u001b[39;00m\n\u001b[1;32m----> 9\u001b[0m model_csc031 \u001b[38;5;241m=\u001b[39m \u001b[43mread_sbml_model\u001b[49m\u001b[43m(\u001b[49m\u001b[38;5;124;43m\"\u001b[39;49m\u001b[38;5;124;43m../victor_files_n_codes/Generation_of_rich_media_csv_file/updated_modelcsc031FixedCompartments.xml\u001b[39;49m\u001b[38;5;124;43m\"\u001b[39;49m\u001b[43m)\u001b[49m\n\u001b[0;32m     11\u001b[0m \u001b[38;5;28;01mdef\u001b[39;00m \u001b[38;5;21mgetMedias\u001b[39m(model, element, model_name):\n\u001b[0;32m     12\u001b[0m \u001b[38;5;250m    \u001b[39m\u001b[38;5;124;03m'''\u001b[39;00m\n\u001b[0;32m     13\u001b[0m \u001b[38;5;124;03m    PARAMETERS:\u001b[39;00m\n\u001b[0;32m     14\u001b[0m \u001b[38;5;124;03m    model: The model that you want to generate the rich media csv file.\u001b[39;00m\n\u001b[0;32m     15\u001b[0m \u001b[38;5;124;03m    element: The element you want to exclude from the csv file (not necessary for getting the rich media.)\u001b[39;00m\n\u001b[0;32m     16\u001b[0m \u001b[38;5;124;03m    model_name: A string whos only purpose is to help rename the new generated csv file.'''\u001b[39;00m\n",
      "File \u001b[1;32m~\\AppData\\Local\\Programs\\Python\\Python312\\Lib\\site-packages\\cobra\\io\\sbml.py:460\u001b[0m, in \u001b[0;36mread_sbml_model\u001b[1;34m(filename, number, f_replace, **kwargs)\u001b[0m\n\u001b[0;32m    458\u001b[0m     \u001b[38;5;28;01mreturn\u001b[39;00m _sbml_to_model(doc, number\u001b[38;5;241m=\u001b[39mnumber, f_replace\u001b[38;5;241m=\u001b[39mf_replace, \u001b[38;5;241m*\u001b[39m\u001b[38;5;241m*\u001b[39mkwargs)\n\u001b[0;32m    459\u001b[0m \u001b[38;5;28;01mexcept\u001b[39;00m \u001b[38;5;167;01mIOError\u001b[39;00m \u001b[38;5;28;01mas\u001b[39;00m e:\n\u001b[1;32m--> 460\u001b[0m     \u001b[38;5;28;01mraise\u001b[39;00m e\n\u001b[0;32m    462\u001b[0m \u001b[38;5;28;01mexcept\u001b[39;00m \u001b[38;5;167;01mException\u001b[39;00m \u001b[38;5;28;01mas\u001b[39;00m original_error:\n\u001b[0;32m    463\u001b[0m     cobra_error \u001b[38;5;241m=\u001b[39m CobraSBMLError(\n\u001b[0;32m    464\u001b[0m         \u001b[38;5;124m\"\u001b[39m\u001b[38;5;124mSomething went wrong reading the SBML model. Most likely the SBML\u001b[39m\u001b[38;5;124m\"\u001b[39m\n\u001b[0;32m    465\u001b[0m         \u001b[38;5;124m\"\u001b[39m\u001b[38;5;124m model is not valid. Please check that your model is valid using \u001b[39m\u001b[38;5;124m\"\u001b[39m\n\u001b[1;32m   (...)\u001b[0m\n\u001b[0;32m    470\u001b[0m         \u001b[38;5;124m\"\u001b[39m\u001b[38;5;124mat https://github.com/opencobra/cobrapy/issues .\u001b[39m\u001b[38;5;124m\"\u001b[39m\n\u001b[0;32m    471\u001b[0m     )\n",
      "File \u001b[1;32m~\\AppData\\Local\\Programs\\Python\\Python312\\Lib\\site-packages\\cobra\\io\\sbml.py:457\u001b[0m, in \u001b[0;36mread_sbml_model\u001b[1;34m(filename, number, f_replace, **kwargs)\u001b[0m\n\u001b[0;32m    402\u001b[0m \u001b[38;5;250m\u001b[39m\u001b[38;5;124;03m\"\"\"Read SBML model from given filename.\u001b[39;00m\n\u001b[0;32m    403\u001b[0m \n\u001b[0;32m    404\u001b[0m \u001b[38;5;124;03mIf the given filename ends with the suffix ''.gz'' (for example,\u001b[39;00m\n\u001b[1;32m   (...)\u001b[0m\n\u001b[0;32m    454\u001b[0m \u001b[38;5;124;03mFile handles to compressed files are not supported yet.\u001b[39;00m\n\u001b[0;32m    455\u001b[0m \u001b[38;5;124;03m\"\"\"\u001b[39;00m\n\u001b[0;32m    456\u001b[0m \u001b[38;5;28;01mtry\u001b[39;00m:\n\u001b[1;32m--> 457\u001b[0m     doc \u001b[38;5;241m=\u001b[39m \u001b[43m_get_doc_from_filename\u001b[49m\u001b[43m(\u001b[49m\u001b[43mfilename\u001b[49m\u001b[43m)\u001b[49m\n\u001b[0;32m    458\u001b[0m     \u001b[38;5;28;01mreturn\u001b[39;00m _sbml_to_model(doc, number\u001b[38;5;241m=\u001b[39mnumber, f_replace\u001b[38;5;241m=\u001b[39mf_replace, \u001b[38;5;241m*\u001b[39m\u001b[38;5;241m*\u001b[39mkwargs)\n\u001b[0;32m    459\u001b[0m \u001b[38;5;28;01mexcept\u001b[39;00m \u001b[38;5;167;01mIOError\u001b[39;00m \u001b[38;5;28;01mas\u001b[39;00m e:\n",
      "File \u001b[1;32m~\\AppData\\Local\\Programs\\Python\\Python312\\Lib\\site-packages\\cobra\\io\\sbml.py:504\u001b[0m, in \u001b[0;36m_get_doc_from_filename\u001b[1;34m(filename)\u001b[0m\n\u001b[0;32m    501\u001b[0m         doc: libsbml\u001b[38;5;241m.\u001b[39mSBMLDocument \u001b[38;5;241m=\u001b[39m libsbml\u001b[38;5;241m.\u001b[39mreadSBMLFromFile(filename)\n\u001b[0;32m    502\u001b[0m     \u001b[38;5;28;01melse\u001b[39;00m:\n\u001b[0;32m    503\u001b[0m         \u001b[38;5;66;03m# string representation\u001b[39;00m\n\u001b[1;32m--> 504\u001b[0m         \u001b[38;5;28;01mraise\u001b[39;00m \u001b[38;5;167;01mIOError\u001b[39;00m(\n\u001b[0;32m    505\u001b[0m             \u001b[38;5;124mf\u001b[39m\u001b[38;5;124m\"\u001b[39m\u001b[38;5;124mThe file with \u001b[39m\u001b[38;5;124m'\u001b[39m\u001b[38;5;132;01m{\u001b[39;00mfilename\u001b[38;5;132;01m}\u001b[39;00m\u001b[38;5;124m'\u001b[39m\u001b[38;5;124m does not exist, \u001b[39m\u001b[38;5;124m\"\u001b[39m\n\u001b[0;32m    506\u001b[0m             \u001b[38;5;124mf\u001b[39m\u001b[38;5;124m\"\u001b[39m\u001b[38;5;124mor is not an SBML string. Provide the path to \u001b[39m\u001b[38;5;124m\"\u001b[39m\n\u001b[0;32m    507\u001b[0m             \u001b[38;5;124mf\u001b[39m\u001b[38;5;124m\"\u001b[39m\u001b[38;5;124man existing SBML file or a valid SBML string representation:\u001b[39m\u001b[38;5;130;01m\\n\u001b[39;00m\u001b[38;5;124m\"\u001b[39m\n\u001b[0;32m    508\u001b[0m         )\n\u001b[0;32m    509\u001b[0m \u001b[38;5;28;01melif\u001b[39;00m \u001b[38;5;28mhasattr\u001b[39m(filename, \u001b[38;5;124m\"\u001b[39m\u001b[38;5;124mread\u001b[39m\u001b[38;5;124m\"\u001b[39m):\n\u001b[0;32m    510\u001b[0m     \u001b[38;5;66;03m# file handle\u001b[39;00m\n\u001b[0;32m    511\u001b[0m     doc: libsbml\u001b[38;5;241m.\u001b[39mSBMLDocument \u001b[38;5;241m=\u001b[39m libsbml\u001b[38;5;241m.\u001b[39mreadSBMLFromString(filename\u001b[38;5;241m.\u001b[39mread())\n",
      "\u001b[1;31mOSError\u001b[0m: The file with '../victor_files_n_codes/Generation_of_rich_media_csv_file/updated_modelcsc031FixedCompartments.xml' does not exist, or is not an SBML string. Provide the path to an existing SBML file or a valid SBML string representation:\n"
     ]
    }
   ],
   "source": [
    "#We load the necessary libraries.\n",
    "import pandas as pd\n",
    "import re\n",
    "import cobra\n",
    "from cobra.io import read_sbml_model\n",
    "from cobra.medium import minimal_medium\n",
    "\n",
    "#We load the model that we want to generate a minimal media csv file.\n",
    "model_csc031 = read_sbml_model(\"../victor_files_n_codes/Generation_of_rich_media_csv_file/updated_modelcsc031FixedCompartments.xml\")\n",
    "\n",
    "def getMedias(model, element, model_name):\n",
    "    '''\n",
    "    PARAMETERS:\n",
    "    model: The model that you want to generate the rich media csv file.\n",
    "    element: The element you want to exclude from the csv file (not necessary for getting the rich media.)\n",
    "    model_name: A string whos only purpose is to help rename the new generated csv file.'''\n",
    "    \n",
    "    Info = \"exchange,uptake\\n\" #We create a string that will contain the information that we want to extract from the model.\n",
    "    for medium in model.medium: #We iterate trough each of the exchange reactions found in the model.\n",
    "        #print(type(medium))\n",
    "        reaction = model.reactions.get_by_id(medium) #We extract the exchange reaaction and store it on a variable.\n",
    "        Info = Info + medium + \",1000\\n\" #We concatenate each of the exchange reaction with an uptake of 1000.\n",
    "        #print(medium)\n",
    "        #print(reaction.metabolites)\n",
    "        #print(reaction)\n",
    "        #for metabolite in reaction.metabolites:\n",
    "            #print(metabolite)\n",
    "            #print(metabolite.formula)\n",
    "            #print(element)\n",
    "            #print(\"____\")\n",
    "            #if not re.search(element, metabolite.formula): #UNCOMMENT THIS PART TO FILTER THROUGH A SPECIFIC ELEMENT.\n",
    "                #Info = Info + medium + \",\" + \"1000\\n\"\n",
    "                #print(Info)\n",
    "                #print(metabolite)\n",
    "                #print(metabolite.formula)\n",
    "    newfile = open(str(model_name) + str(element) + \"-less_mediaRichMedia.csv\", \"w\")\n",
    "    newfile.write(Info)\n",
    "    return #print(Info) # UNCOMMENT THIS PRINT TO SEE THE CONTENTS OF THE CSV FILE.\n",
    "\n",
    "getMedias(model_csc031, \"C\", \"csc031\") #filters through for reaction in Carbon"
   ]
  },
  {
   "cell_type": "code",
   "execution_count": null,
   "id": "bb32d722",
   "metadata": {},
   "outputs": [],
   "source": []
  }
 ],
 "metadata": {
  "kernelspec": {
   "display_name": "Python 3 (ipykernel)",
   "language": "python",
   "name": "python3"
  },
  "language_info": {
   "codemirror_mode": {
    "name": "ipython",
    "version": 3
   },
   "file_extension": ".py",
   "mimetype": "text/x-python",
   "name": "python",
   "nbconvert_exporter": "python",
   "pygments_lexer": "ipython3",
   "version": "3.12.4"
  }
 },
 "nbformat": 4,
 "nbformat_minor": 5
}

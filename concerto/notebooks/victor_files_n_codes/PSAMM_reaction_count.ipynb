{
 "cells": [
  {
   "cell_type": "code",
   "execution_count": 5,
   "id": "13a85dd4",
   "metadata": {},
   "outputs": [
    {
     "name": "stderr",
     "output_type": "stream",
     "text": [
      "'' is not a valid SBML 'SId'.\n",
      "'' is not a valid SBML 'SId'.\n"
     ]
    },
    {
     "name": "stdout",
     "output_type": "stream",
     "text": [
      "2369\n",
      "2369\n"
     ]
    }
   ],
   "source": [
    "from cobra.io import read_sbml_model\n",
    "from cobra.medium import minimal_medium\n",
    "import pandas as pd\n",
    "import re\n",
    "\n",
    "old_file = read_sbml_model(\"csc031.xml\")\n",
    "new_file = read_sbml_model(\"new_model_nonfastgapfilled.xml\")\n",
    "\n",
    "print(len(old_file.reactions))\n",
    "print(len(new_file.reactions))"
   ]
  },
  {
   "cell_type": "code",
   "execution_count": 6,
   "id": "86fbca9b",
   "metadata": {},
   "outputs": [
    {
     "name": "stderr",
     "output_type": "stream",
     "text": [
      "'' is not a valid SBML 'SId'.\n"
     ]
    },
    {
     "ename": "AttributeError",
     "evalue": "module 'psamm' has no attribute 'gapfilling'",
     "output_type": "error",
     "traceback": [
      "\u001b[0;31m---------------------------------------------------------------------------\u001b[0m",
      "\u001b[0;31mAttributeError\u001b[0m                            Traceback (most recent call last)",
      "Cell \u001b[0;32mIn[6], line 4\u001b[0m\n\u001b[1;32m      1\u001b[0m \u001b[38;5;28;01mimport\u001b[39;00m \u001b[38;5;21;01mpsamm\u001b[39;00m\n\u001b[1;32m      3\u001b[0m old_file \u001b[38;5;241m=\u001b[39m read_sbml_model(\u001b[38;5;124m\"\u001b[39m\u001b[38;5;124mcsc031.xml\u001b[39m\u001b[38;5;124m\"\u001b[39m)\n\u001b[0;32m----> 4\u001b[0m \u001b[43mpsamm\u001b[49m\u001b[38;5;241;43m.\u001b[39;49m\u001b[43mgapfilling\u001b[49m\u001b[38;5;241m.\u001b[39madd_all_exchange_reactions(old_file, allow_duplicates\u001b[38;5;241m=\u001b[39m\u001b[38;5;28;01mFalse\u001b[39;00m)\n",
      "\u001b[0;31mAttributeError\u001b[0m: module 'psamm' has no attribute 'gapfilling'"
     ]
    }
   ],
   "source": [
    "import psamm\n",
    "\n",
    "old_file = read_sbml_model(\"csc031.xml\")\n",
    "psamm.gapfilling.add_all_exchange_reactions(old_file, allow_duplicates=False)"
   ]
  },
  {
   "cell_type": "code",
   "execution_count": null,
   "id": "b6b957e3",
   "metadata": {},
   "outputs": [],
   "source": []
  }
 ],
 "metadata": {
  "kernelspec": {
   "display_name": "Python 3 (ipykernel)",
   "language": "python",
   "name": "python3"
  },
  "language_info": {
   "codemirror_mode": {
    "name": "ipython",
    "version": 3
   },
   "file_extension": ".py",
   "mimetype": "text/x-python",
   "name": "python",
   "nbconvert_exporter": "python",
   "pygments_lexer": "ipython3",
   "version": "3.9.6"
  }
 },
 "nbformat": 4,
 "nbformat_minor": 5
}

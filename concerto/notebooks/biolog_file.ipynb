{
 "cells": [
  {
   "cell_type": "code",
   "execution_count": 46,
   "id": "6ec53173",
   "metadata": {
    "scrolled": false
   },
   "outputs": [
    {
     "name": "stderr",
     "output_type": "stream",
     "text": [
      "Could not identify an external compartment by name and choosing one with the most boundary reactions. That might be complete nonsense or change suddenly. Consider renaming your compartments using `Model.compartments` to fix this.\n",
      "/Users/rodr579/Library/CloudStorage/OneDrive-PNNL/venv/lib/python3.9/site-packages/cobra/medium/boundary_types.py:97: FutureWarning: Series.__getitem__ treating keys as positions is deprecated. In a future version, integer keys will always be treated as labels (consistent with DataFrame behavior). To access a value by position, use `ser.iloc[pos]`\n",
      "  return most[0]\n",
      "Could not identify an external compartment by name and choosing one with the most boundary reactions. That might be complete nonsense or change suddenly. Consider renaming your compartments using `Model.compartments` to fix this.\n",
      "/Users/rodr579/Library/CloudStorage/OneDrive-PNNL/venv/lib/python3.9/site-packages/cobra/medium/boundary_types.py:97: FutureWarning: Series.__getitem__ treating keys as positions is deprecated. In a future version, integer keys will always be treated as labels (consistent with DataFrame behavior). To access a value by position, use `ser.iloc[pos]`\n",
      "  return most[0]\n",
      "Could not identify an external compartment by name and choosing one with the most boundary reactions. That might be complete nonsense or change suddenly. Consider renaming your compartments using `Model.compartments` to fix this.\n",
      "/Users/rodr579/Library/CloudStorage/OneDrive-PNNL/venv/lib/python3.9/site-packages/cobra/medium/boundary_types.py:97: FutureWarning: Series.__getitem__ treating keys as positions is deprecated. In a future version, integer keys will always be treated as labels (consistent with DataFrame behavior). To access a value by position, use `ser.iloc[pos]`\n",
      "  return most[0]\n",
      "Could not identify an external compartment by name and choosing one with the most boundary reactions. That might be complete nonsense or change suddenly. Consider renaming your compartments using `Model.compartments` to fix this.\n"
     ]
    },
    {
     "name": "stdout",
     "output_type": "stream",
     "text": [
      "{'EX_12ppd__R_e': 1000.0, 'EX_2hxmp_e': 1000.0, 'EX_2m35mdntha_e': 1000.0, 'EX_34dhpac_e': 1000.0, 'EX_35dnta_e': 1000.0, 'EX_3h4atb_e': 1000.0, 'EX_4abut_e': 1000.0, 'EX_4abz_e': 1000.0, 'EX_4ahmmp_e': 1000.0, 'EX_4hbz_e': 1000.0, 'EX_4hpro_LT_e': 1000.0, 'EX_5aptn_e': 1000.0, 'EX_5dglcn_e': 1000.0, 'EX_5mcsn_e': 1000.0, 'EX_6atha_e': 1000.0, 'EX_LalaDgluMdapDala_e': 1000.0, 'EX_LalaDgluMdap_e': 1000.0, 'EX_LalaLglu_e': 1000.0, 'EX_Larab_e': 1000.0, 'EX_abt__L_e': 1000.0, 'EX_abt_e': 1000.0, 'EX_ac_e': 1000.0, 'EX_acald_e': 1000.0, 'EX_acgam_e': 1000.0, 'EX_acmum_e': 1000.0, 'EX_acnam_e': 1000.0, 'EX_actn__R_e': 1000.0, 'EX_acysbmn_e': 1000.0, 'EX_ade_e': 1000.0, 'EX_agm_e': 1000.0, 'EX_ala_L_asp__L_e': 1000.0, 'EX_ala_L_glu__L_e': 1000.0, 'EX_ala_L_thr__L_e': 1000.0, 'EX_ala__L_e': 1000.0, 'EX_ala_gln_e': 1000.0, 'EX_ala_his_e': 1000.0, 'EX_ala_leu_e': 1000.0, 'EX_alaala_e': 1000.0, 'EX_alagly_e': 1000.0, 'EX_alahis_e': 1000.0, 'EX_alaleu_e': 1000.0, 'EX_alathr_e': 1000.0, 'EX_alatrp_e': 1000.0, 'EX_alltn_e': 1000.0, 'EX_arab__D_e': 1000.0, 'EX_arab__L_e': 1000.0, 'EX_arbt_e': 1000.0, 'EX_arg__L_e': 1000.0, 'EX_asn__L_e': 1000.0, 'EX_asp__L_e': 1000.0, 'EX_bmn_e': 1000.0, 'EX_bz_e': 1000.0, 'EX_bzal_e': 1000.0, 'EX_ca2_e': 1000.0, 'EX_carn_e': 1000.0, 'EX_cellb_e': 1000.0, 'EX_cgly_e': 1000.0, 'EX_chol_e': 1000.0, 'EX_chor_e': 1000.0, 'EX_cit_e': 1000.0, 'EX_cl_e': 1000.0, 'EX_cmcbtt_e': 1000.0, 'EX_co2_e': 1000.0, 'EX_cobalt2_e': 1000.0, 'EX_csn_e': 1000.0, 'EX_cu2_e': 1000.0, 'EX_cyan_e': 1000.0, 'EX_cys__L_e': 1000.0, 'EX_dca_e': 1000.0, 'EX_dopa_e': 1000.0, 'EX_drib_e': 1000.0, 'EX_enter_e': 1000.0, 'EX_fe3_e': 1000.0, 'EX_fe3pyovd_kt_e': 1000.0, 'EX_feenter_e': 1000.0, 'EX_fru_e': 1000.0, 'EX_fum_e': 1000.0, 'EX_g3pc_e': 1000.0, 'EX_g3pe_e': 1000.0, 'EX_gal_bD_e': 1000.0, 'EX_gal_e': 1000.0, 'EX_galct__D_e': 1000.0, 'EX_galman4_e': 1000.0, 'EX_galman6_e': 1000.0, 'EX_galur_e': 1000.0, 'EX_gam_e': 1000.0, 'EX_glc__aD_e': 1000.0, 'EX_glcman4_e': 1000.0, 'EX_glcman6_e': 1000.0, 'EX_glcn_e': 1000.0, 'EX_glcr_e': 1000.0, 'EX_glcur_e': 1000.0, 'EX_gln__L_e': 1000.0, 'EX_glu__L_e': 1000.0, 'EX_glucan4_e': 1000.0, 'EX_glucan6_e': 1000.0, 'EX_gly_asn__L_e': 1000.0, 'EX_gly_asp__L_e': 1000.0, 'EX_gly_cys_e': 1000.0, 'EX_gly_e': 1000.0, 'EX_gly_gln_e': 1000.0, 'EX_gly_glu__L_e': 1000.0, 'EX_gly_leu_e': 1000.0, 'EX_gly_met_e': 1000.0, 'EX_gly_phe_e': 1000.0, 'EX_gly_pro__L_e': 1000.0, 'EX_gly_tyr_e': 1000.0, 'EX_glyald_e': 1000.0, 'EX_glyb_e': 1000.0, 'EX_glyc3p_e': 1000.0, 'EX_glyc_e': 1000.0, 'EX_glygln_e': 1000.0, 'EX_glyglu_e': 1000.0, 'EX_glygly_e': 1000.0, 'EX_glyglygln_e': 1000.0, 'EX_glymet_e': 1000.0, 'EX_glyphe_e': 1000.0, 'EX_glyser_e': 1000.0, 'EX_gthrd_e': 1000.0, 'EX_gua_e': 1000.0, 'EX_h2_e': 1000.0, 'EX_h2o_e': 1000.0, 'EX_h2s_e': 1000.0, 'EX_h_e': 1000.0, 'EX_his__L_e': 1000.0, 'EX_hisgly_e': 1000.0, 'EX_hishis_e': 1000.0, 'EX_hom__L_e': 1000.0, 'EX_hqn_e': 1000.0, 'EX_hxa_e': 1000.0, 'EX_hxan_e': 1000.0, 'EX_icit_e': 1000.0, 'EX_ile__L_e': 1000.0, 'EX_ind3ac_e': 1000.0, 'EX_inost_e': 1000.0, 'EX_isetac_e': 1000.0, 'EX_k_e': 1000.0, 'EX_lcts_e': 1000.0, 'EX_leu__L_e': 1000.0, 'EX_leuleu_e': 1000.0, 'EX_lmn2_e': 1000.0, 'EX_lnlc_e': 1000.0, 'EX_lys__L_e': 1000.0, 'EX_lysglugly_e': 1000.0, 'EX_mal__L_e': 1000.0, 'EX_malt_e': 1000.0, 'EX_malthp_e': 1000.0, 'EX_malthx_e': 1000.0, 'EX_malttr_e': 1000.0, 'EX_man1p_e': 1000.0, 'EX_man_e': 1000.0, 'EX_manb_e': 1000.0, 'EX_mantr_e': 1000.0, 'EX_manttr_e': 1000.0, 'EX_melib_e': 1000.0, 'EX_met_L_ala__L_e': 1000.0, 'EX_met__D_e': 1000.0, 'EX_met__L_e': 1000.0, 'EX_metox_e': 1000.0, 'EX_metsox_R__L_e': 1000.0, 'EX_metsox_S__L_e': 1000.0, 'EX_mg2_e': 1000.0, 'EX_mn2_e': 1000.0, 'EX_mnl_e': 1000.0, 'EX_mso3_e': 1000.0, 'EX_n2o_e': 1000.0, 'EX_nh4_e': 1000.0, 'EX_no2_e': 1000.0, 'EX_no3_e': 1000.0, 'EX_no_e': 1000.0, 'EX_nona_e': 1000.0, 'EX_o2_e': 1000.0, 'EX_oaa_e': 1000.0, 'EX_octa_e': 1000.0, 'EX_orn_e': 1000.0, 'EX_orot_e': 1000.0, 'EX_pacald_e': 1000.0, 'EX_pdima_e': 1000.0, 'EX_pea_e': 1000.0, 'EX_peamn_e': 1000.0, 'EX_phe__L_e': 1000.0, 'EX_pheme_e': 1000.0, 'EX_pi_e': 1000.0, 'EX_ppap_e': 1000.0, 'EX_pro__L_e': 1000.0, 'EX_progly_e': 1000.0, 'EX_ptrc_e': 1000.0, 'EX_pydxn_e': 1000.0, 'EX_pyovd_kt_e': 1000.0, 'EX_raffin_e': 1000.0, 'EX_rib__D_e': 1000.0, 'EX_rmn_e': 1000.0, 'EX_s_e': 1000.0, 'EX_salc_e': 1000.0, 'EX_salchs4_e': 1000.0, 'EX_salchs4fe_e': 1000.0, 'EX_salcn_e': 1000.0, 'EX_sbt__D_e': 1000.0, 'EX_ser__L_e': 1000.0, 'EX_serglugly_e': 1000.0, 'EX_skm_e': 1000.0, 'EX_so3_e': 1000.0, 'EX_so4_e': 1000.0, 'EX_succ_e': 1000.0, 'EX_sucr_e': 1000.0, 'EX_tcynt_e': 1000.0, 'EX_tet_e': 1000.0, 'EX_thm_e': 1000.0, 'EX_thr__L_e': 1000.0, 'EX_tnt_e': 1000.0, 'EX_tre6p_e': 1000.0, 'EX_tre_e': 1000.0, 'EX_trp__L_e': 1000.0, 'EX_tsul_e': 1000.0, 'EX_tyr__L_e': 1000.0, 'EX_ump_e': 1000.0, 'EX_ura_e': 1000.0, 'EX_urea_e': 1000.0, 'EX_val__L_e': 1000.0, 'EX_xyl3_e': 1000.0, 'EX_xyl__D_e': 1000.0, 'EX_xylan4_e': 1000.0, 'EX_xylb_e': 1000.0, 'EX_zn2_e': 1000.0}\n"
     ]
    },
    {
     "name": "stderr",
     "output_type": "stream",
     "text": [
      "/Users/rodr579/Library/CloudStorage/OneDrive-PNNL/venv/lib/python3.9/site-packages/cobra/medium/boundary_types.py:97: FutureWarning: Series.__getitem__ treating keys as positions is deprecated. In a future version, integer keys will always be treated as labels (consistent with DataFrame behavior). To access a value by position, use `ser.iloc[pos]`\n",
      "  return most[0]\n"
     ]
    },
    {
     "ename": "KeyError",
     "evalue": "'exchange'",
     "output_type": "error",
     "traceback": [
      "\u001b[0;31m---------------------------------------------------------------------------\u001b[0m",
      "\u001b[0;31mKeyError\u001b[0m                                  Traceback (most recent call last)",
      "Cell \u001b[0;32mIn[46], line 33\u001b[0m\n\u001b[1;32m     31\u001b[0m \u001b[38;5;28mprint\u001b[39m(model_csc009\u001b[38;5;241m.\u001b[39mmedium)\n\u001b[1;32m     32\u001b[0m \u001b[38;5;28;01mwith\u001b[39;00m model_csc009:\n\u001b[0;32m---> 33\u001b[0m     \u001b[43mmodel_csc009\u001b[49m\u001b[38;5;241;43m.\u001b[39;49m\u001b[43mmedium\u001b[49m \u001b[38;5;241m=\u001b[39m min_medium_no_carbon\n\u001b[1;32m     34\u001b[0m     solution \u001b[38;5;241m=\u001b[39m model_csc009\u001b[38;5;241m.\u001b[39moptimize()\n\u001b[1;32m     35\u001b[0m     \u001b[38;5;66;03m#print(solution.fluxes)\u001b[39;00m\n",
      "File \u001b[0;32m~/Library/CloudStorage/OneDrive-PNNL/venv/lib/python3.9/site-packages/cobra/core/model.py:355\u001b[0m, in \u001b[0;36mModel.medium\u001b[0;34m(self, medium)\u001b[0m\n\u001b[1;32m    353\u001b[0m exchange_rxns \u001b[38;5;241m=\u001b[39m \u001b[38;5;28mfrozenset\u001b[39m(\u001b[38;5;28mself\u001b[39m\u001b[38;5;241m.\u001b[39mexchanges)\n\u001b[1;32m    354\u001b[0m \u001b[38;5;28;01mfor\u001b[39;00m rxn_id, rxn_bound \u001b[38;5;129;01min\u001b[39;00m medium\u001b[38;5;241m.\u001b[39mitems():\n\u001b[0;32m--> 355\u001b[0m     rxn \u001b[38;5;241m=\u001b[39m \u001b[38;5;28;43mself\u001b[39;49m\u001b[38;5;241;43m.\u001b[39;49m\u001b[43mreactions\u001b[49m\u001b[38;5;241;43m.\u001b[39;49m\u001b[43mget_by_id\u001b[49m\u001b[43m(\u001b[49m\u001b[43mrxn_id\u001b[49m\u001b[43m)\u001b[49m\n\u001b[1;32m    356\u001b[0m     \u001b[38;5;28;01mif\u001b[39;00m rxn \u001b[38;5;129;01mnot\u001b[39;00m \u001b[38;5;129;01min\u001b[39;00m exchange_rxns:\n\u001b[1;32m    357\u001b[0m         logger\u001b[38;5;241m.\u001b[39mwarning(\n\u001b[1;32m    358\u001b[0m             \u001b[38;5;124mf\u001b[39m\u001b[38;5;124m\"\u001b[39m\u001b[38;5;132;01m{\u001b[39;00mrxn\u001b[38;5;241m.\u001b[39mid\u001b[38;5;132;01m}\u001b[39;00m\u001b[38;5;124m does not seem to be an an exchange reaction. \u001b[39m\u001b[38;5;124m\"\u001b[39m\n\u001b[1;32m    359\u001b[0m             \u001b[38;5;124mf\u001b[39m\u001b[38;5;124m\"\u001b[39m\u001b[38;5;124mApplying bounds anyway.\u001b[39m\u001b[38;5;124m\"\u001b[39m\n\u001b[1;32m    360\u001b[0m         )\n",
      "File \u001b[0;32m~/Library/CloudStorage/OneDrive-PNNL/venv/lib/python3.9/site-packages/cobra/core/dictlist.py:73\u001b[0m, in \u001b[0;36mDictList.get_by_id\u001b[0;34m(self, id)\u001b[0m\n\u001b[1;32m     71\u001b[0m \u001b[38;5;28;01mdef\u001b[39;00m \u001b[38;5;21mget_by_id\u001b[39m(\u001b[38;5;28mself\u001b[39m, \u001b[38;5;28mid\u001b[39m: Union[Object, \u001b[38;5;28mstr\u001b[39m]) \u001b[38;5;241m-\u001b[39m\u001b[38;5;241m>\u001b[39m Object:\n\u001b[1;32m     72\u001b[0m \u001b[38;5;250m    \u001b[39m\u001b[38;5;124;03m\"\"\"Return the element with a matching id.\"\"\"\u001b[39;00m\n\u001b[0;32m---> 73\u001b[0m     \u001b[38;5;28;01mreturn\u001b[39;00m \u001b[38;5;28mlist\u001b[39m\u001b[38;5;241m.\u001b[39m\u001b[38;5;21m__getitem__\u001b[39m(\u001b[38;5;28mself\u001b[39m, \u001b[38;5;28;43mself\u001b[39;49m\u001b[38;5;241;43m.\u001b[39;49m\u001b[43m_dict\u001b[49m\u001b[43m[\u001b[49m\u001b[38;5;28;43mid\u001b[39;49m\u001b[43m]\u001b[49m)\n",
      "\u001b[0;31mKeyError\u001b[0m: 'exchange'"
     ]
    }
   ],
   "source": [
    "from cobra.io import read_sbml_model\n",
    "from cobra.medium import minimal_medium\n",
    "import pandas as pd\n",
    "import re\n",
    "\n",
    "biolog_file = pd.read_csv(\"/Users/rodr579/Library/CloudStorage/OneDrive-PNNL/venv/carbon_biolog.csv\")\n",
    "exchange = biolog_file[\"exchange\"]\n",
    "for reaction in exchange:\n",
    "    #print(reaction)\n",
    "    pass\n",
    "#print(exchange)\n",
    "model_csc009 = read_sbml_model(\"updated_csc009.xml\")\n",
    "max_growth_csc009 = model_csc009.slim_optimize()\n",
    "min_medium_csc009 = minimal_medium(model_csc009, max_growth_csc009)\n",
    "str_min_medium_csc009 = str(min_medium_csc009)\n",
    "reactionss = re.findall(r\"(EX_.+\\_e)\\s+\\d\\.\\d+\\n\", str_min_medium_csc009)\n",
    "#print(ractionss)\n",
    "uptakess = re.findall(r\"EX_.+\\_e\\s+(\\d\\.\\d+)\\n\", str_min_medium_csc009)\n",
    "#print(uptakess)\n",
    "min_medium_no_carbon = pd.read_csv(\"/Users/rodr579/Library/CloudStorage/OneDrive-PNNL/venv/min_medium_csc009C-less_media.csv\")\n",
    "#print(model_csc009.medium)\n",
    "min_media_dict = {}\n",
    "for i in range(len(reactionss)):\n",
    "    min_media_dict[reactionss[i]] = uptakess[i]\n",
    "#print(min_media_dict)\n",
    "#print(min_medium_no_carbon)\n",
    "min_media_dict_no_carbon = {}\n",
    "for i in range(len(min_medium_no_carbon[\"exchange\"])):\n",
    "    min_media_dict_no_carbon[min_medium_no_carbon[\"exchange\"][i]] = float(min_medium_no_carbon[\" uptake\"][i])\n",
    "#print(min_media_dict_no_carbon)\n",
    "print(model_csc009.medium)\n",
    "with model_csc009:\n",
    "    model_csc009.medium = min_medium_no_carbon\n",
    "    solution = model_csc009.optimize()\n",
    "    #print(solution.fluxes)"
   ]
  },
  {
   "cell_type": "code",
   "execution_count": null,
   "id": "baa8b46c",
   "metadata": {},
   "outputs": [],
   "source": []
  }
 ],
 "metadata": {
  "kernelspec": {
   "display_name": "Python 3 (ipykernel)",
   "language": "python",
   "name": "python3"
  },
  "language_info": {
   "codemirror_mode": {
    "name": "ipython",
    "version": 3
   },
   "file_extension": ".py",
   "mimetype": "text/x-python",
   "name": "python",
   "nbconvert_exporter": "python",
   "pygments_lexer": "ipython3",
   "version": "3.9.6"
  }
 },
 "nbformat": 4,
 "nbformat_minor": 5
}

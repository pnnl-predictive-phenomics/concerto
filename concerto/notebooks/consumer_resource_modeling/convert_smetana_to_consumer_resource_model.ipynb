{
 "cells": [
  {
   "cell_type": "markdown",
   "metadata": {},
   "source": [
    "-  for each line in smetana outputs, generate a triple in a consumer resource model consisting of donor organism, exchange metabolite, and recipient organism\n",
    "- convert triple into reactions in antimony as save as SBML\n",
    "- load SBML into MIRA\n",
    "- load MIRA into pyCIEMSS (specify priors)\n",
    "- simulate the model in pyCIEMSS (specify initial conditions)"
   ]
  },
  {
   "cell_type": "markdown",
   "metadata": {},
   "source": [
    "### for each line in smetana outputs, generate a triple in a consumer resource model consisting of donor organism, exchange metabolite, and recipient organism"
   ]
  },
  {
   "cell_type": "code",
   "execution_count": null,
   "metadata": {},
   "outputs": [],
   "source": [
    "import pandas as pd\n",
    "import tellurium as te\n",
    "import antimony as at\n",
    "import simplesbml \n",
    "import mira\n",
    "import libsbml\n",
    "import numpy as np\n"
   ]
  },
  {
   "cell_type": "code",
   "execution_count": null,
   "metadata": {},
   "outputs": [],
   "source": [
    "smetana_file = \"../data/smetana_results/smetana_results_gurobi_victor_detailed.tsv\"\n",
    "\n",
    "smetana_df = pd.read_csv(smetana_file, sep='\\t')\n",
    "\n",
    "smetana_df"
   ]
  },
  {
   "cell_type": "code",
   "execution_count": null,
   "metadata": {},
   "outputs": [],
   "source": [
    "np.random.seed(0)\n",
    "\n",
    "reaction_list = []\n",
    "parameter_list = []\n",
    "initial_values_set = set()\n",
    "\n",
    "\n",
    "for index, row in smetana_df.iterrows():\n",
    "    donor_reaction = f'\\t{row.donor} -> {row.compound}; k_d{index}*{row.donor}'\n",
    "    receiver_reaction = f'\\t{row.compound} -> {row.receiver}; k_r{index}*{row.compound}'\n",
    "    reaction_list.extend([donor_reaction,receiver_reaction])\n",
    "    parameter_list.extend([f'\\tk_d{index}={row.scs}',f'\\tk_r{index}={row.mus}'])\n",
    "    initial_values_set.add(row.donor)\n",
    "    initial_values_set.add(row.compound)\n",
    "    initial_values_set.add(row.receiver)\n",
    "\n",
    "initial_values_string = \"\\n\".join([f\"\\t{name}={np.random.uniform(0,1)}\" for name in initial_values_set])\n",
    "species_names_string = \"\\n\".join([f'\\t{species} is \"{species}\"' for species in initial_values_set])\n",
    "\n",
    "reaction_string = \"\\n\".join(reaction_list)\n",
    "parameter_string = \"\\n\".join(parameter_list)\n",
    "\n",
    "antimony_file = f\"\"\"\n",
    "model smetana\n",
    "{reaction_string}\n",
    "{parameter_string}\n",
    "{initial_values_string}\n",
    "{species_names_string}\n",
    "end\n",
    "\"\"\"\n",
    "\n",
    "print(antimony_file)"
   ]
  },
  {
   "cell_type": "markdown",
   "metadata": {},
   "source": [
    "### convert triple into reactions in antimony as save as SBML"
   ]
  },
  {
   "cell_type": "code",
   "execution_count": null,
   "metadata": {},
   "outputs": [],
   "source": [
    "smbl_file = 'smetana_carbstor_consumer_resource.xml'\n",
    "rr_model = te.loada(antimony_file)\n",
    "rr_model.exportToSBML(smbl_file)\n",
    "\n",
    "# simulate and plot\n",
    "rr_model.simulate(0, 500, 500)\n",
    "rr_model.plot()"
   ]
  },
  {
   "cell_type": "code",
   "execution_count": null,
   "metadata": {},
   "outputs": [],
   "source": [
    "import libsbml\n",
    "corrected_smbl_file = 'smetana_carbstor_consumer_resource_corrected.xml'\n",
    "\n",
    "d = libsbml.readSBMLFromFile(smbl_file)\n",
    "m = d.getModel()\n",
    "# for initial in m.getListOfInitialAssignments():\n",
    "#     print(initial)\n",
    "\n",
    "for species in m.getListOfSpecies():\n",
    "    species.name = species.id\n",
    "    species.initial_concentration = species.initial_amount\n",
    "    species.has_only_substance_units = False\n",
    "\n",
    "libsbml.writeSBMLToFile(d,corrected_smbl_file)"
   ]
  },
  {
   "cell_type": "markdown",
   "metadata": {},
   "source": [
    "### load SBML into MIRA\n"
   ]
  },
  {
   "cell_type": "code",
   "execution_count": null,
   "metadata": {},
   "outputs": [],
   "source": [
    "from mira.sources.sbml import template_model_from_sbml_file\n",
    "\n"
   ]
  },
  {
   "cell_type": "code",
   "execution_count": null,
   "metadata": {},
   "outputs": [],
   "source": [
    "smetana_model = template_model_from_sbml_file(corrected_smbl_file)\n",
    "\n",
    "smetana_model.initials\n"
   ]
  },
  {
   "cell_type": "code",
   "execution_count": null,
   "metadata": {},
   "outputs": [],
   "source": [
    "from mira.metamodel import Distribution\n",
    "\n",
    "\n",
    "dist = Distribution(\n",
    "                    type= \"Uniform1\",\n",
    "                    parameters= {\"minimum\": 0.0,\"maximum\": 1.0 }     \n",
    "                     )\n",
    "\n",
    "for name,parameter in smetana_model.parameters.items():\n",
    "    if name != \"default_compartment\":\n",
    "        parameter.distribution = dist\n",
    "\n",
    "parameter"
   ]
  },
  {
   "cell_type": "code",
   "execution_count": null,
   "metadata": {},
   "outputs": [],
   "source": []
  },
  {
   "cell_type": "code",
   "execution_count": null,
   "metadata": {},
   "outputs": [],
   "source": [
    "# initial conditions \n"
   ]
  },
  {
   "cell_type": "markdown",
   "metadata": {},
   "source": [
    "### load MIRA into pyCIEMSS (specify priors)\n",
    "### simulate the model in pyCIEMSS (specify initial conditions)\n",
    "\n",
    "see: https://github.com/ciemss/pyciemss/blob/main/docs/source/interfaces.ipynb\n"
   ]
  },
  {
   "cell_type": "code",
   "execution_count": null,
   "metadata": {},
   "outputs": [],
   "source": [
    "import os\n",
    "import pyciemss\n",
    "import torch\n",
    "import pandas as pd\n",
    "import numpy as np\n",
    "from typing import Dict, List, Callable\n",
    "\n",
    "import pyciemss.visuals.plots as plots\n",
    "import pyciemss.visuals.vega as vega\n",
    "import pyciemss.visuals.trajectories as trajectories\n",
    "\n",
    "from pyciemss.integration_utils.intervention_builder import (\n",
    "    param_value_objective,\n",
    "    start_time_objective,\n",
    "    start_time_param_value_objective,\n",
    ")\n",
    "\n",
    "smoke_test = \"CI\" in os.environ\n",
    "\n"
   ]
  },
  {
   "cell_type": "code",
   "execution_count": null,
   "metadata": {},
   "outputs": [],
   "source": [
    "\n",
    "\n",
    "# load model\n",
    "# load data\n",
    "\n",
    "# \n",
    "\n",
    "# set parameters\n",
    "start_time = 0.0\n",
    "end_time = 500.0\n",
    "logging_step_size = 1.0\n",
    "num_samples = 100"
   ]
  },
  {
   "cell_type": "code",
   "execution_count": null,
   "metadata": {},
   "outputs": [],
   "source": [
    "result1 = pyciemss.sample(smetana_model, end_time, logging_step_size, num_samples, start_time=start_time)\n",
    "display(result1['data'].head())\n"
   ]
  },
  {
   "cell_type": "code",
   "execution_count": null,
   "metadata": {},
   "outputs": [],
   "source": [
    "result1.keys()"
   ]
  },
  {
   "cell_type": "code",
   "execution_count": null,
   "metadata": {},
   "outputs": [],
   "source": [
    "# Plot results for all states\n",
    "schema = plots.trajectories(result1[\"data\"], keep=\".*_state\")\n",
    "plots.save_schema(schema, \"_schema.json\")\n",
    "plots.ipy_display(schema, dpi=150)"
   ]
  },
  {
   "cell_type": "code",
   "execution_count": null,
   "metadata": {},
   "outputs": [],
   "source": []
  }
 ],
 "metadata": {
  "kernelspec": {
   "display_name": "CROP_env",
   "language": "python",
   "name": "python3"
  },
  "language_info": {
   "codemirror_mode": {
    "name": "ipython",
    "version": 3
   },
   "file_extension": ".py",
   "mimetype": "text/x-python",
   "name": "python",
   "nbconvert_exporter": "python",
   "pygments_lexer": "ipython3",
   "version": "3.10.14"
  }
 },
 "nbformat": 4,
 "nbformat_minor": 2
}

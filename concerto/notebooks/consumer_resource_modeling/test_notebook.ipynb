{
 "cells": [
  {
   "cell_type": "code",
   "execution_count": 1,
   "metadata": {},
   "outputs": [],
   "source": []
  },
  {
   "cell_type": "code",
   "execution_count": 16,
   "metadata": {},
   "outputs": [],
   "source": [
    "import pandas as pd\n",
    "import tellurium as te\n",
    "import antimony as at\n",
    "import simplesbml \n",
    "import mira\n",
    "import libsbml\n",
    "import numpy as np\n",
    "from mira.sources.sbml import template_model_from_sbml_file\n",
    "from mira.metamodel import Distribution\n",
    "\n",
    "import os\n",
    "import pyciemss\n",
    "import torch\n",
    "\n",
    "import pyciemss.visuals.plots as plots\n",
    "import pyciemss.visuals.vega as vega\n",
    "import pyciemss.visuals.trajectories as trajectories\n",
    "\n",
    "from pyciemss.integration_utils.intervention_builder import (\n",
    "    param_value_objective,\n",
    "    start_time_objective,\n",
    "    start_time_param_value_objective,\n",
    ")\n",
    "import math\n",
    "\n",
    "from mira.modeling.amr.petrinet import AMRPetriNetModel\n",
    "from mira.modeling import Model\n",
    "\n",
    "def convert_antimony_to_petri_net_model(antimony_str, sbml_file, corrected_sbml_file, petri_net_file, name='test_name', desc='test_desc', seed=0):\n",
    "    \n",
    "    np.random.seed(seed)\n",
    "\n",
    "    # load antimony and save as SBML\n",
    "    rr_model = te.loada(antimony_str)\n",
    "    rr_model.exportToSBML(sbml_file)\n",
    "\n",
    "    # correct SBML file to include IDs, initial_concentrations, etc.\n",
    "    d = libsbml.readSBMLFromFile(sbml_file)\n",
    "    m = d.getModel()\n",
    "    for species in m.getListOfSpecies():\n",
    "        species.name = species.id\n",
    "        if math.isnan(species.initial_concentration):\n",
    "            species.initial_concentration = species.initial_amount\n",
    "        species.has_only_substance_units = False\n",
    "\n",
    "    # for reaction in m.reactions:\n",
    "    #     rate_law = reaction.getKineticLaw()\n",
    "    #     print(reaction)\n",
    "    #     print(rate_law)\n",
    "    #     print(rate_law.formula)\n",
    "    #     for parameter in rate_law.parameters:\n",
    "    #         print('test')\n",
    "    #         print(parameter, parameter.name, parameter.id, parameter.value)\n",
    "\n",
    "\n",
    "    libsbml.writeSBMLToFile(d,corrected_sbml_file) \n",
    "\n",
    "    # create mira model from corrected SBML file and assign priors \n",
    "    mira_model = template_model_from_sbml_file(corrected_sbml_file)\n",
    "    \n",
    "    rate_constant_dist = Distribution(\n",
    "                    type= \"Uniform1\",\n",
    "                    parameters= {\"minimum\": 1e-3,\"maximum\": 1.0 }     \n",
    "                     )\n",
    "    for name,parameter in mira_model.parameters.items():\n",
    "        if name.startswith('k'): # only assign priors for rate constants\n",
    "            parameter.distribution = rate_constant_dist\n",
    "\n",
    "    if not mira_model.templates:\n",
    "        print(\"ERROR: No templates found in MIRA Model!\")\n",
    "    else:\n",
    "        print(\"MIRA Model contains templates.\")\n",
    "\n",
    "    # create petri net model from mira model and save as json\n",
    "    petrinet_model = AMRPetriNetModel(Model(mira_model))\n",
    "    petrinet_model.to_json_file(\n",
    "            petri_net_file,\n",
    "            name=name,\n",
    "            description=desc,\n",
    "            indent=2,\n",
    "        )\n",
    "    return petrinet_model, mira_model"
   ]
  },
  {
   "cell_type": "code",
   "execution_count": 21,
   "metadata": {},
   "outputs": [
    {
     "name": "stdout",
     "output_type": "stream",
     "text": [
      "MIRA Model contains templates.\n"
     ]
    }
   ],
   "source": [
    "antimony_str = 'test_antimony_file.txt'\n",
    "sbml_file = 'test1.xml'\n",
    "corrected_sbml_file = 'test1_corrected.xml'\n",
    "petri_net_file = 'test1.json'\n",
    "\n",
    "test_petri_net_model, test_mira_model = convert_antimony_to_petri_net_model(antimony_str, sbml_file, corrected_sbml_file, petri_net_file)\n"
   ]
  },
  {
   "cell_type": "code",
   "execution_count": null,
   "metadata": {},
   "outputs": [],
   "source": [
    "\n",
    "print(test_petri_net_model.states)\n",
    "print(test_petri_net_model.transitions)\n",
    "# Debug: Printing important MIRA model attributes\n",
    "print(\"MIRA Model Parameters:\", test_mira_model.parameters)\n",
    "print(\"MIRA Model Templates:\", test_mira_model.templates)\n",
    "print(\"MIRA Model Initials:\", test_mira_model.initials)\n",
    "print(\"MIRA Model Observables:\", test_mira_model.observables)"
   ]
  },
  {
   "cell_type": "code",
   "execution_count": null,
   "metadata": {},
   "outputs": [],
   "source": [
    "test_mira_model.templates"
   ]
  },
  {
   "cell_type": "code",
   "execution_count": null,
   "metadata": {},
   "outputs": [],
   "source": [
    "start_time = 0.0\n",
    "end_time = 10.0\n",
    "logging_step_size = 0.1\n",
    "num_samples = 10\n",
    "result1 = pyciemss.sample(petri_net_file, end_time, logging_step_size, num_samples, start_time=start_time)\n",
    "display(result1['data'].head())\n",
    "\n",
    "# Plot results for all states\n",
    "schema = plots.trajectories(result1[\"data\"], keep=\".*_state\")\n",
    "plots.save_schema(schema, \"_schema.json\")\n",
    "plots.ipy_display(schema, dpi=150)"
   ]
  },
  {
   "cell_type": "code",
   "execution_count": 13,
   "metadata": {},
   "outputs": [
    {
     "name": "stdout",
     "output_type": "stream",
     "text": [
      "<Reaction reaction_ureolysis>\n",
      "<KineticLaw>\n",
      "V_max_urease * urea / (K_m_urease + urea)\n",
      "<Reaction reaction_protonation_NH3>\n",
      "<KineticLaw>\n",
      "k2f * pow(ammonia, 2) * pow(water, 2) - k2r * pow(ammonium, 2) * pow(hydroxide, 2)\n",
      "<Reaction reaction_CO2_hydrolysis>\n",
      "<KineticLaw>\n",
      "K_cat_CA * CA_conc * carbon_dioxide / (K_m_CA + carbon_dioxide)\n",
      "<Reaction reaction_dissociation_H2CO3>\n",
      "<KineticLaw>\n",
      "k4f * carbonic_acid * hydroxide - k4r * bicarbonate * water\n",
      "<Reaction reaction_dissociation_HCO3>\n",
      "<KineticLaw>\n",
      "k5f * bicarbonate * hydroxide - k5r * carbonate * water\n",
      "<Reaction reaction_CaCO3_precipitation>\n",
      "<KineticLaw>\n",
      "k6f * carbonate * calcium_ion - k6r * calcium_carbonate\n",
      "ERROR: No templates found in MIRA Model!\n"
     ]
    }
   ],
   "source": [
    "antimony_str2 = './microbial_induced_calcium_carbonate_precipitation_model.txt'\n",
    "sbml_file2 = 'test2.xml'\n",
    "corrected_sbml_file2 = 'test2_corrected.xml'\n",
    "petri_net_file2 = 'test2.json'\n",
    "\n",
    "test_petri_net_model2, test_mira_model2  = convert_antimony_to_petri_net_model(antimony_str2, sbml_file2, corrected_sbml_file2, petri_net_file2)\n"
   ]
  },
  {
   "cell_type": "code",
   "execution_count": null,
   "metadata": {},
   "outputs": [],
   "source": [
    "\n",
    "\n",
    "print(test_petri_net_model2.states)\n",
    "print(test_petri_net_model2.transitions)\n",
    "# Debug: Printing important MIRA model attributes\n",
    "print(\"MIRA Model Parameters:\", test_mira_model2.parameters)\n",
    "print(\"MIRA Model Templates:\", test_mira_model2.templates)\n",
    "print(\"MIRA Model Initials:\", test_mira_model2.initials)\n",
    "print(\"MIRA Model Observables:\", test_mira_model2.observables)\n"
   ]
  },
  {
   "cell_type": "code",
   "execution_count": null,
   "metadata": {},
   "outputs": [],
   "source": []
  },
  {
   "cell_type": "code",
   "execution_count": null,
   "metadata": {},
   "outputs": [],
   "source": [
    "result2 = pyciemss.sample(petri_net_file2, end_time, logging_step_size, num_samples, start_time=start_time)\n",
    "display(result2['data'].head())\n",
    "\n",
    "# Plot results for all states\n",
    "schema2 = plots.trajectories(result2[\"data\"], keep=\".*_state\")\n",
    "plots.save_schema(schema2, \"_schema.json\")\n",
    "plots.ipy_display(schema2, dpi=150)"
   ]
  },
  {
   "cell_type": "code",
   "execution_count": 17,
   "metadata": {},
   "outputs": [
    {
     "name": "stdout",
     "output_type": "stream",
     "text": [
      "ERROR: No templates found in MIRA Model!\n",
      "MIRA Model Templates: []\n"
     ]
    }
   ],
   "source": [
    "antimony_str3 = './antimony_model_test3.txt'\n",
    "sbml_file3 = 'test3.xml'\n",
    "corrected_sbml_file3 = 'test3_corrected.xml'\n",
    "petri_net_file3 = 'test3.json'\n",
    "\n",
    "test_petri_net_model3, test_mira_model3  = convert_antimony_to_petri_net_model(antimony_str3, sbml_file3, corrected_sbml_file3, petri_net_file3)\n",
    "\n",
    "\n",
    "print(\"MIRA Model Templates:\", test_mira_model3.templates)"
   ]
  },
  {
   "cell_type": "code",
   "execution_count": 8,
   "metadata": {},
   "outputs": [],
   "source": [
    "#!pip install pygraphviz\n",
    "test_mira_model3.draw_graph('test3_graph')"
   ]
  },
  {
   "cell_type": "code",
   "execution_count": 18,
   "metadata": {},
   "outputs": [
    {
     "name": "stdout",
     "output_type": "stream",
     "text": [
      "MIRA Model Parameters: {'k1f': Parameter(name='k1f', display_name=None, description='', identifiers={}, context={}, units=None, value=1.0, distribution=Distribution(type='Uniform1', parameters={'minimum': 0.001, 'maximum': 1.0})), 'k1r': Parameter(name='k1r', display_name=None, description='', identifiers={}, context={}, units=None, value=1.0, distribution=Distribution(type='Uniform1', parameters={'minimum': 0.001, 'maximum': 1.0})), 'default_compartment': Parameter(name='default_compartment', display_name=None, description='', identifiers={}, context={}, units=None, value=1.0, distribution=None)}\n",
      "MIRA Model Templates: []\n",
      "MIRA Model Initials: {'S1': Initial(concept=Concept(name='S1', display_name='S1', description=None, identifiers={}, context={}, units=None), expression=1.0), 'S2': Initial(concept=Concept(name='S2', display_name='S2', description=None, identifiers={}, context={}, units=None), expression=1.0), 'S3': Initial(concept=Concept(name='S3', display_name='S3', description=None, identifiers={}, context={}, units=None), expression=1.0)}\n",
      "MIRA Model Observables: {}\n"
     ]
    }
   ],
   "source": [
    "print(\"MIRA Model Parameters:\", test_mira_model3.parameters)\n",
    "print(\"MIRA Model Templates:\", test_mira_model3.templates)\n",
    "print(\"MIRA Model Initials:\", test_mira_model3.initials)\n",
    "print(\"MIRA Model Observables:\", test_mira_model3.observables)\n"
   ]
  },
  {
   "cell_type": "code",
   "execution_count": 1,
   "metadata": {},
   "outputs": [
    {
     "ename": "ModuleNotFoundError",
     "evalue": "No module named 'mira'",
     "output_type": "error",
     "traceback": [
      "\u001b[0;31m---------------------------------------------------------------------------\u001b[0m",
      "\u001b[0;31mModuleNotFoundError\u001b[0m                       Traceback (most recent call last)",
      "Cell \u001b[0;32mIn[1], line 4\u001b[0m\n\u001b[1;32m      1\u001b[0m \u001b[38;5;28;01mimport\u001b[39;00m \u001b[38;5;21;01mrequests\u001b[39;00m\n\u001b[1;32m      2\u001b[0m \u001b[38;5;28;01mimport\u001b[39;00m \u001b[38;5;21;01mtellurium\u001b[39;00m\n\u001b[0;32m----> 4\u001b[0m \u001b[38;5;28;01mfrom\u001b[39;00m \u001b[38;5;21;01mmira\u001b[39;00m\u001b[38;5;21;01m.\u001b[39;00m\u001b[38;5;21;01msources\u001b[39;00m\u001b[38;5;21;01m.\u001b[39;00m\u001b[38;5;21;01msbml\u001b[39;00m \u001b[38;5;28;01mimport\u001b[39;00m template_model_from_sbml_file\n\u001b[1;32m      5\u001b[0m \u001b[38;5;28;01mfrom\u001b[39;00m \u001b[38;5;21;01mmira\u001b[39;00m\u001b[38;5;21;01m.\u001b[39;00m\u001b[38;5;21;01mmodeling\u001b[39;00m \u001b[38;5;28;01mimport\u001b[39;00m Model\n\u001b[1;32m      6\u001b[0m \u001b[38;5;28;01mfrom\u001b[39;00m \u001b[38;5;21;01mmira\u001b[39;00m\u001b[38;5;21;01m.\u001b[39;00m\u001b[38;5;21;01mmodeling\u001b[39;00m\u001b[38;5;21;01m.\u001b[39;00m\u001b[38;5;21;01mode\u001b[39;00m \u001b[38;5;28;01mimport\u001b[39;00m OdeModel\n",
      "\u001b[0;31mModuleNotFoundError\u001b[0m: No module named 'mira'"
     ]
    }
   ],
   "source": [
    "import requests\n",
    "import tellurium\n",
    "\n",
    "from mira.sources.sbml import template_model_from_sbml_file\n",
    "from mira.modeling import Model\n",
    "from mira.modeling.ode import OdeModel\n",
    "from mira.modeling.viz import GraphicalModel"
   ]
  },
  {
   "cell_type": "code",
   "execution_count": null,
   "metadata": {},
   "outputs": [],
   "source": []
  }
 ],
 "metadata": {
  "kernelspec": {
   "display_name": "syn_bmca_env",
   "language": "python",
   "name": "python3"
  },
  "language_info": {
   "codemirror_mode": {
    "name": "ipython",
    "version": 3
   },
   "file_extension": ".py",
   "mimetype": "text/x-python",
   "name": "python",
   "nbconvert_exporter": "python",
   "pygments_lexer": "ipython3",
   "version": "3.10.13"
  }
 },
 "nbformat": 4,
 "nbformat_minor": 2
}

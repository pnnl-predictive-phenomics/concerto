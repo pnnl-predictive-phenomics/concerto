{
 "cells": [
  {
   "cell_type": "markdown",
   "metadata": {
    "pycharm": {
     "name": "#%% md\n"
    }
   },
   "source": [
    "# Notebook to demonstrate visualizing external metabolite exchanges and reaction fluxes between multiple organisms"
   ]
  },
  {
   "cell_type": "markdown",
   "metadata": {
    "pycharm": {
     "name": "#%% md\n"
    }
   },
   "source": [
    "## Load modules"
   ]
  },
  {
   "cell_type": "code",
   "execution_count": 1,
   "metadata": {
    "pycharm": {
     "name": "#%%\n"
    }
   },
   "outputs": [],
   "source": [
    "import cobra\n",
    "import pandas as pd\n",
    "import numpy as np\n",
    "from concerto.visualizations import viz_utils\n",
    "import plotly.graph_objects as go\n",
    "import plotly.express as px"
   ]
  },
  {
   "cell_type": "markdown",
   "metadata": {
    "pycharm": {
     "name": "#%% md\n"
    }
   },
   "source": [
    "## Load Organism Models"
   ]
  },
  {
   "cell_type": "code",
   "execution_count": 2,
   "metadata": {
    "pycharm": {
     "name": "#%%\n"
    }
   },
   "outputs": [
    {
     "name": "stdout",
     "output_type": "stream",
     "text": [
      "Set parameter Username\n",
      "Set parameter GURO_PAR_SPECIAL\n",
      "Set parameter TokenServer to value \"leghorn\"\n"
     ]
    }
   ],
   "source": [
    "from concerto.helpers.load_model_from_git import load_model_from_git\n",
    "\n",
    "av = load_model_from_git('Azotobacter')\n",
    "syn = load_model_from_git('Synechococcus')\n",
    "rt = load_model_from_git('Rhodosporidium')\n",
    "\n",
    "# Override synechococcus model since the sucrose\n",
    "# will be removed soon and can utilize above\n",
    "# syn = cobra.io.read_sbml_model('../models/synechococcus_elongatus_pcc_7942/iJB785_w_sucrose_transport.xml')"
   ]
  },
  {
   "cell_type": "markdown",
   "metadata": {
    "pycharm": {
     "name": "#%% md\n"
    }
   },
   "source": [
    "### Update model ids: \n",
    "The \"Id_Id\" format prevents erasing org name entirely for each organism node in visualization"
   ]
  },
  {
   "cell_type": "code",
   "execution_count": 3,
   "metadata": {
    "pycharm": {
     "name": "#%%\n"
    }
   },
   "outputs": [],
   "source": [
    "# format ==> \"Id_Id\"\n",
    "\n",
    "\n",
    "# will this be needed without d3flux?\n",
    "\n",
    "syn.id = \"Se_Se\"\n",
    "rt.id = \"Rt_Rt\"\n",
    "av.id = \"Av_Av\"\n",
    "# Order matters!!! Should match order of row names in flux dataframe\n",
    "org_ids = [av.id, rt.id, syn.id]\n",
    "\n",
    "num_orgs = len(org_ids)"
   ]
  },
  {
   "cell_type": "markdown",
   "metadata": {
    "pycharm": {
     "name": "#%% md\n"
    }
   },
   "source": [
    "## Demonstrate default d3flux visualization for combined models"
   ]
  },
  {
   "cell_type": "markdown",
   "metadata": {
    "pycharm": {
     "name": "#%% md\n"
    }
   },
   "source": [
    "### Create organized d3flux map using the combined model and only shared external metabolites"
   ]
  },
  {
   "cell_type": "code",
   "execution_count": 24,
   "metadata": {
    "pycharm": {
     "name": "#%%\n"
    }
   },
   "outputs": [
    {
     "ename": "IndexError",
     "evalue": "list index out of range",
     "output_type": "error",
     "traceback": [
      "\u001B[1;31m---------------------------------------------------------------------------\u001B[0m",
      "\u001B[1;31mIndexError\u001B[0m                                Traceback (most recent call last)",
      "Cell \u001B[1;32mIn [24], line 17\u001B[0m\n\u001B[0;32m     10\u001B[0m y_vals \u001B[38;5;241m=\u001B[39m {\n\u001B[0;32m     11\u001B[0m     \u001B[38;5;124m'\u001B[39m\u001B[38;5;124mmin\u001B[39m\u001B[38;5;124m'\u001B[39m: \u001B[38;5;241m10\u001B[39m,\n\u001B[0;32m     12\u001B[0m     \u001B[38;5;124m'\u001B[39m\u001B[38;5;124mmax\u001B[39m\u001B[38;5;124m'\u001B[39m: \u001B[38;5;241m720\u001B[39m,\n\u001B[0;32m     13\u001B[0m     \u001B[38;5;124m'\u001B[39m\u001B[38;5;124mspace\u001B[39m\u001B[38;5;124m'\u001B[39m: \u001B[38;5;241m16\u001B[39m\n\u001B[0;32m     14\u001B[0m }\n\u001B[0;32m     16\u001B[0m \u001B[38;5;66;03m# Generate organism-metabolite map\u001B[39;00m\n\u001B[1;32m---> 17\u001B[0m fluxmap_dict \u001B[38;5;241m=\u001B[39m \u001B[43mviz_utils\u001B[49m\u001B[38;5;241;43m.\u001B[39;49m\u001B[43mmake_3organism_extmetab_viz\u001B[49m\u001B[43m(\u001B[49m\n\u001B[0;32m     18\u001B[0m \u001B[43m    \u001B[49m\u001B[43m[\u001B[49m\u001B[43mav\u001B[49m\u001B[43m,\u001B[49m\u001B[43m  \u001B[49m\u001B[43mrt\u001B[49m\u001B[43m]\u001B[49m\u001B[43m,\u001B[49m\n\u001B[0;32m     19\u001B[0m \u001B[43m    \u001B[49m\u001B[43mmodel_name\u001B[49m\u001B[43m \u001B[49m\u001B[38;5;241;43m=\u001B[39;49m\u001B[43m \u001B[49m\u001B[43mcombined_model_name\u001B[49m\u001B[43m,\u001B[49m\n\u001B[0;32m     20\u001B[0m \u001B[43m    \u001B[49m\n\u001B[0;32m     21\u001B[0m \u001B[43m    \u001B[49m\u001B[43mx_min\u001B[49m\u001B[43m \u001B[49m\u001B[38;5;241;43m=\u001B[39;49m\u001B[43m \u001B[49m\u001B[43mx_vals\u001B[49m\u001B[43m[\u001B[49m\u001B[38;5;124;43m'\u001B[39;49m\u001B[38;5;124;43mmin\u001B[39;49m\u001B[38;5;124;43m'\u001B[39;49m\u001B[43m]\u001B[49m\u001B[43m,\u001B[49m\n\u001B[0;32m     22\u001B[0m \u001B[43m    \u001B[49m\u001B[43mx_max\u001B[49m\u001B[43m \u001B[49m\u001B[38;5;241;43m=\u001B[39;49m\u001B[43m \u001B[49m\u001B[43mx_vals\u001B[49m\u001B[43m[\u001B[49m\u001B[38;5;124;43m'\u001B[39;49m\u001B[38;5;124;43mmax\u001B[39;49m\u001B[38;5;124;43m'\u001B[39;49m\u001B[43m]\u001B[49m\u001B[43m,\u001B[49m\n\u001B[0;32m     23\u001B[0m \u001B[43m    \u001B[49m\u001B[43md_x\u001B[49m\u001B[43m \u001B[49m\u001B[38;5;241;43m=\u001B[39;49m\u001B[43m \u001B[49m\u001B[43mx_vals\u001B[49m\u001B[43m[\u001B[49m\u001B[38;5;124;43m'\u001B[39;49m\u001B[38;5;124;43mspace\u001B[39;49m\u001B[38;5;124;43m'\u001B[39;49m\u001B[43m]\u001B[49m\u001B[43m,\u001B[49m\n\u001B[0;32m     24\u001B[0m \u001B[43m    \u001B[49m\n\u001B[0;32m     25\u001B[0m \u001B[43m    \u001B[49m\u001B[43my_min\u001B[49m\u001B[43m \u001B[49m\u001B[38;5;241;43m=\u001B[39;49m\u001B[43m \u001B[49m\u001B[43my_vals\u001B[49m\u001B[43m[\u001B[49m\u001B[38;5;124;43m'\u001B[39;49m\u001B[38;5;124;43mmin\u001B[39;49m\u001B[38;5;124;43m'\u001B[39;49m\u001B[43m]\u001B[49m\u001B[43m,\u001B[49m\n\u001B[0;32m     26\u001B[0m \u001B[43m    \u001B[49m\u001B[43my_max\u001B[49m\u001B[43m \u001B[49m\u001B[38;5;241;43m=\u001B[39;49m\u001B[43m \u001B[49m\u001B[43my_vals\u001B[49m\u001B[43m[\u001B[49m\u001B[38;5;124;43m'\u001B[39;49m\u001B[38;5;124;43mmax\u001B[39;49m\u001B[38;5;124;43m'\u001B[39;49m\u001B[43m]\u001B[49m\u001B[43m,\u001B[49m\n\u001B[0;32m     27\u001B[0m \u001B[43m    \u001B[49m\u001B[43md_y\u001B[49m\u001B[43m \u001B[49m\u001B[38;5;241;43m=\u001B[39;49m\u001B[43m \u001B[49m\u001B[43my_vals\u001B[49m\u001B[43m[\u001B[49m\u001B[38;5;124;43m'\u001B[39;49m\u001B[38;5;124;43mspace\u001B[39;49m\u001B[38;5;124;43m'\u001B[39;49m\u001B[43m]\u001B[49m\u001B[43m,\u001B[49m\n\u001B[0;32m     28\u001B[0m \u001B[43m)\u001B[49m\n",
      "File \u001B[1;32m~\\PycharmProjects\\CONCERTO\\notebooks\\viz_utils.py:652\u001B[0m, in \u001B[0;36mmake_3organism_extmetab_viz\u001B[1;34m(org_list, model_name, multi_org_model, reorg_after_filter, flux_df, exclude_0flux, flux_threshold, x_min, x_max, d_x, y_min, y_max, d_y)\u001B[0m\n\u001B[0;32m    646\u001B[0m     shared_ext_m \u001B[38;5;241m=\u001B[39m ex_metab_reorg(\n\u001B[0;32m    647\u001B[0m         org_list, flux_df, exclude_0flux, flux_threshold\n\u001B[0;32m    648\u001B[0m     )\n\u001B[0;32m    649\u001B[0m \u001B[38;5;28;01melse\u001B[39;00m:\n\u001B[0;32m    650\u001B[0m     \u001B[38;5;66;03m# First create model/dict using all metabolites, then generate the\u001B[39;00m\n\u001B[0;32m    651\u001B[0m     \u001B[38;5;66;03m# d3flux map using exclusion info (later)\u001B[39;00m\n\u001B[1;32m--> 652\u001B[0m     shared_ext_m \u001B[38;5;241m=\u001B[39m \u001B[43mex_metab_reorg\u001B[49m\u001B[43m(\u001B[49m\n\u001B[0;32m    653\u001B[0m \u001B[43m        \u001B[49m\u001B[43morg_list\u001B[49m\u001B[43m,\u001B[49m\u001B[43m \u001B[49m\u001B[43mflux_df\u001B[49m\u001B[43m,\u001B[49m\u001B[43m \u001B[49m\u001B[43mexclude_0flux\u001B[49m\u001B[43m,\u001B[49m\u001B[43m \u001B[49m\u001B[43mflux_threshold\u001B[49m\n\u001B[0;32m    654\u001B[0m \u001B[43m    \u001B[49m\u001B[43m)\u001B[49m\n\u001B[0;32m    656\u001B[0m \u001B[38;5;66;03m# Assign positions for single nodes for the three organisms\u001B[39;00m\n\u001B[0;32m    657\u001B[0m org_pos \u001B[38;5;241m=\u001B[39m get_org_pos(shared_ext_m, x_min, x_max, y_min, y_max)\n",
      "File \u001B[1;32m~\\PycharmProjects\\CONCERTO\\notebooks\\viz_utils.py:125\u001B[0m, in \u001B[0;36mex_metab_reorg\u001B[1;34m(org_list, flux_df, exclude_0flux, flux_threshold)\u001B[0m\n\u001B[0;32m    113\u001B[0m \u001B[38;5;28;01mdef\u001B[39;00m \u001B[38;5;21mex_metab_reorg\u001B[39m(org_list, flux_df, exclude_0flux, flux_threshold):\n\u001B[0;32m    114\u001B[0m     \u001B[38;5;66;03m# Collect external metabolites from each of the three organisms\u001B[39;00m\n\u001B[0;32m    115\u001B[0m     org_ext_m \u001B[38;5;241m=\u001B[39m {\n\u001B[0;32m    116\u001B[0m         \u001B[38;5;241m1\u001B[39m: {\n\u001B[0;32m    117\u001B[0m             \u001B[38;5;124m'\u001B[39m\u001B[38;5;124mname\u001B[39m\u001B[38;5;124m'\u001B[39m: org_list[\u001B[38;5;241m0\u001B[39m]\u001B[38;5;241m.\u001B[39mid,\n\u001B[0;32m    118\u001B[0m             \u001B[38;5;124m'\u001B[39m\u001B[38;5;124mext_m\u001B[39m\u001B[38;5;124m'\u001B[39m: get_ex_metabs(org_list[\u001B[38;5;241m0\u001B[39m]),\n\u001B[0;32m    119\u001B[0m         },\n\u001B[0;32m    120\u001B[0m         \u001B[38;5;241m2\u001B[39m: {\n\u001B[0;32m    121\u001B[0m             \u001B[38;5;124m'\u001B[39m\u001B[38;5;124mname\u001B[39m\u001B[38;5;124m'\u001B[39m: org_list[\u001B[38;5;241m1\u001B[39m]\u001B[38;5;241m.\u001B[39mid,\n\u001B[0;32m    122\u001B[0m             \u001B[38;5;124m'\u001B[39m\u001B[38;5;124mext_m\u001B[39m\u001B[38;5;124m'\u001B[39m: get_ex_metabs(org_list[\u001B[38;5;241m1\u001B[39m]),\n\u001B[0;32m    123\u001B[0m         },\n\u001B[0;32m    124\u001B[0m         \u001B[38;5;241m3\u001B[39m: {\n\u001B[1;32m--> 125\u001B[0m             \u001B[38;5;124m'\u001B[39m\u001B[38;5;124mname\u001B[39m\u001B[38;5;124m'\u001B[39m: \u001B[43morg_list\u001B[49m\u001B[43m[\u001B[49m\u001B[38;5;241;43m2\u001B[39;49m\u001B[43m]\u001B[49m\u001B[38;5;241m.\u001B[39mid,\n\u001B[0;32m    126\u001B[0m             \u001B[38;5;124m'\u001B[39m\u001B[38;5;124mext_m\u001B[39m\u001B[38;5;124m'\u001B[39m: get_ex_metabs(org_list[\u001B[38;5;241m2\u001B[39m]),\n\u001B[0;32m    127\u001B[0m         }\n\u001B[0;32m    128\u001B[0m     }\n\u001B[0;32m    130\u001B[0m     \u001B[38;5;66;03m# Remove metabolites for reactions according to flux map and user defined criteria\u001B[39;00m\n\u001B[0;32m    131\u001B[0m     \u001B[38;5;28;01mif\u001B[39;00m flux_df \u001B[38;5;129;01mis\u001B[39;00m \u001B[38;5;129;01mnot\u001B[39;00m \u001B[38;5;28;01mNone\u001B[39;00m:\n",
      "\u001B[1;31mIndexError\u001B[0m: list index out of range"
     ]
    }
   ],
   "source": [
    "# Create a model name used to label the new cobra model and save corresponding json files\n",
    "combined_model_name = \"AvRtSe_Metabolite_Exchange_Model_SharedOnly\"\n",
    "\n",
    "# Define figure boundaries and spacing between nodes for x & y directions\n",
    "x_vals = {\n",
    "    'min': -80,\n",
    "    'max': 830,\n",
    "    'space': 133\n",
    "}\n",
    "y_vals = {\n",
    "    'min': 10,\n",
    "    'max': 720,\n",
    "    'space': 16\n",
    "}\n",
    "\n",
    "# Generate organism-metabolite map\n",
    "fluxmap_dict = viz_utils.make_3organism_extmetab_viz(\n",
    "    [av, syn, rt],\n",
    "    model_name = combined_model_name,\n",
    "    \n",
    "    x_min = x_vals['min'],\n",
    "    x_max = x_vals['max'],\n",
    "    d_x = x_vals['space'],\n",
    "    \n",
    "    y_min = y_vals['min'],\n",
    "    y_max = y_vals['max'],\n",
    "    d_y = y_vals['space'],\n",
    ")\n",
    "\n",
    "# Display map\n",
    "#display(fluxmap_dict[\"map\"])"
   ]
  },
  {
   "cell_type": "markdown",
   "metadata": {
    "pycharm": {
     "name": "#%% md\n"
    }
   },
   "source": [
    "### Create combined model for three organisms, now including all external metabolites"
   ]
  },
  {
   "cell_type": "code",
   "execution_count": 5,
   "metadata": {
    "pycharm": {
     "name": "#%%\n"
    }
   },
   "outputs": [],
   "source": [
    "combined_model_name_all = \"AvRtSe_Metabolite_Exchange_Model_All\"\n",
    "\n",
    "av_syn_rt_exchange_model_all_ext_m = viz_utils.make_combined_model_external_mets(\n",
    "    [av, syn, rt],\n",
    "    model_name = combined_model_name_all\n",
    ")"
   ]
  },
  {
   "cell_type": "code",
   "execution_count": 6,
   "metadata": {
    "scrolled": true,
    "pycharm": {
     "name": "#%%\n"
    }
   },
   "outputs": [
    {
     "data": {
      "text/plain": "<Model AvRtSe_Metabolite_Exchange_Model_All at 0x25731ea28f0>",
      "text/html": "\n        <table>\n            <tr>\n                <td><strong>Name</strong></td>\n                <td>AvRtSe_Metabolite_Exchange_Model_All</td>\n            </tr><tr>\n                <td><strong>Memory address</strong></td>\n                <td>0x025731ea28f0</td>\n            </tr><tr>\n                <td><strong>Number of metabolites</strong></td>\n                <td>489</td>\n            </tr><tr>\n                <td><strong>Number of reactions</strong></td>\n                <td>821</td>\n            </tr><tr>\n                <td><strong>Number of groups</strong></td>\n                <td>0</td>\n            </tr><tr>\n                <td><strong>Objective expression</strong></td>\n                <td>0.0</td>\n            </tr><tr>\n                <td><strong>Compartments</strong></td>\n                <td>Av_Av, e, Se_Se, Rt_Rt</td>\n            </tr>\n          </table>"
     },
     "execution_count": 6,
     "metadata": {},
     "output_type": "execute_result"
    }
   ],
   "source": [
    "av_syn_rt_exchange_model_all_ext_m"
   ]
  },
  {
   "cell_type": "code",
   "execution_count": 7,
   "metadata": {
    "pycharm": {
     "name": "#%%\n"
    }
   },
   "outputs": [
    {
     "name": "stdout",
     "output_type": "stream",
     "text": [
      "WARNING: The THREE-WAY list of metabolites is too long for the limits set in place\n",
      "Showing map corresponding to the following file: AvRtSe_Metabolite_Exchange_Model_All_Updated.json\n"
     ]
    }
   ],
   "source": [
    "# Define figure boundaries and spacing between nodes for x & y directions\n",
    "x_vals = {\n",
    "    'min': -20,\n",
    "    'max': 830,\n",
    "    'space': 130\n",
    "}\n",
    "y_vals = {\n",
    "    'min': 10,\n",
    "    'max': 730,\n",
    "    'space': 15\n",
    "}\n",
    "\n",
    "# Generate organism-metabolite map\n",
    "# NOTE: Multi-organism model passed in here to ensure the correct \"all external metabolites\" version is used.\n",
    "#       Otherwise, a \"shared metabolite only\" version is created and used\n",
    "fluxmap_dict = viz_utils.make_3organism_extmetab_viz(\n",
    "    [av, syn, rt],\n",
    "    model_name = combined_model_name_all,\n",
    "    multi_org_model = av_syn_rt_exchange_model_all_ext_m,\n",
    "    \n",
    "    x_min = x_vals['min'],\n",
    "    x_max = x_vals['max'],\n",
    "    d_x = x_vals['space'],\n",
    "    \n",
    "    y_min = y_vals['min'],\n",
    "    y_max = y_vals['max'],\n",
    "    d_y = y_vals['space'],\n",
    ")\n",
    "\n",
    "# Display map\n",
    "#display(fluxmap_dict[\"map\"])"
   ]
  },
  {
   "cell_type": "markdown",
   "metadata": {
    "pycharm": {
     "name": "#%% md\n"
    }
   },
   "source": [
    "## Create Sankey/Alluvial diagrams to track external metabolimic flow between organisms"
   ]
  },
  {
   "cell_type": "markdown",
   "metadata": {
    "pycharm": {
     "name": "#%% md\n"
    }
   },
   "source": [
    "### Create combined model for three organisms, only including shared external metabolites"
   ]
  },
  {
   "cell_type": "code",
   "execution_count": 8,
   "metadata": {
    "pycharm": {
     "name": "#%%\n"
    }
   },
   "outputs": [],
   "source": [
    "# Create a model name used to label the new cobra model and save corresponding json files\n",
    "combined_model_name = \"AvRtSe_Metabolite_Exchange_Model_SharedOnly\"\n",
    "\n",
    "av_syn_rt_exchange_model = viz_utils.make_combined_model_external_mets_shared_only(\n",
    "    [av, syn, rt],\n",
    "    model_name = combined_model_name\n",
    ")"
   ]
  },
  {
   "cell_type": "code",
   "execution_count": 9,
   "metadata": {
    "scrolled": false,
    "pycharm": {
     "name": "#%%\n"
    }
   },
   "outputs": [
    {
     "data": {
      "text/plain": "<Model AvRtSe_Metabolite_Exchange_Model_SharedOnly at 0x25767657520>",
      "text/html": "\n        <table>\n            <tr>\n                <td><strong>Name</strong></td>\n                <td>AvRtSe_Metabolite_Exchange_Model_SharedOnly</td>\n            </tr><tr>\n                <td><strong>Memory address</strong></td>\n                <td>0x025767657520</td>\n            </tr><tr>\n                <td><strong>Number of metabolites</strong></td>\n                <td>196</td>\n            </tr><tr>\n                <td><strong>Number of reactions</strong></td>\n                <td>528</td>\n            </tr><tr>\n                <td><strong>Number of groups</strong></td>\n                <td>0</td>\n            </tr><tr>\n                <td><strong>Objective expression</strong></td>\n                <td>0.0</td>\n            </tr><tr>\n                <td><strong>Compartments</strong></td>\n                <td>Av_Av, e, Se_Se, Rt_Rt</td>\n            </tr>\n          </table>"
     },
     "execution_count": 9,
     "metadata": {},
     "output_type": "execute_result"
    }
   ],
   "source": [
    "av_syn_rt_exchange_model"
   ]
  },
  {
   "cell_type": "markdown",
   "metadata": {
    "pycharm": {
     "name": "#%% md\n"
    }
   },
   "source": [
    "### Import fluxes"
   ]
  },
  {
   "cell_type": "code",
   "execution_count": 25,
   "metadata": {
    "pycharm": {
     "name": "#%%\n"
    }
   },
   "outputs": [
    {
     "data": {
      "text/plain": "['Av_Av', 'Rt_Rt', 'Se_Se']"
     },
     "execution_count": 25,
     "metadata": {},
     "output_type": "execute_result"
    }
   ],
   "source": [
    "org_ids"
   ]
  },
  {
   "cell_type": "code",
   "execution_count": 29,
   "outputs": [
    {
     "data": {
      "text/plain": "                  compartment  10FTHFGLULL  10FTHFGLULLm  12DGR120tipp  \\\nAv_Av             Azotobacter          0.0           NaN           0.0   \nRt_Rt          Rhodosporidium          NaN           0.0           NaN   \nSe_Se                  medium          NaN           NaN           NaN   \nSynechococcus   Synechococcus          0.0           0.0           0.0   \n\n               12DGR140tipp  12DGR141tipp  12DGR160tipp  12DGR161tipp  \\\nAv_Av                   0.0           0.0           0.0           0.0   \nRt_Rt                   NaN           NaN           NaN           NaN   \nSe_Se                   NaN           NaN           NaN           NaN   \nSynechococcus           0.0           0.0           0.0           0.0   \n\n               12DGR180tipp  12DGR181tipp  ...   ZNabcpp  ZYMSTATer_RT  \\\nAv_Av                   0.0           0.0  ...  0.000732           NaN   \nRt_Rt                   NaN           NaN  ...       NaN       0.00367   \nSe_Se                   NaN           NaN  ...       NaN           NaN   \nSynechococcus           0.0           0.0  ...  0.000000       0.00000   \n\n               ZYMSTESTH_RT  ZYMSTESTtrd    ZYMSTt   ZYMSTtr      Zn2t  \\\nAv_Av                   NaN          NaN       NaN       NaN       NaN   \nRt_Rt                   0.0     0.000037 -0.291286 -0.291286  0.001101   \nSe_Se                   NaN          NaN       NaN       NaN       NaN   \nSynechococcus           0.0     0.000000  0.000000  0.000000  0.000000   \n\n                 Zn2tex  ilvg  r0647  \nAv_Av          0.000732   0.0    NaN  \nRt_Rt               NaN   NaN    0.0  \nSe_Se               NaN   NaN    NaN  \nSynechococcus  0.000000   0.0    0.0  \n\n[4 rows x 4761 columns]",
      "text/html": "<div>\n<style scoped>\n    .dataframe tbody tr th:only-of-type {\n        vertical-align: middle;\n    }\n\n    .dataframe tbody tr th {\n        vertical-align: top;\n    }\n\n    .dataframe thead th {\n        text-align: right;\n    }\n</style>\n<table border=\"1\" class=\"dataframe\">\n  <thead>\n    <tr style=\"text-align: right;\">\n      <th></th>\n      <th>compartment</th>\n      <th>10FTHFGLULL</th>\n      <th>10FTHFGLULLm</th>\n      <th>12DGR120tipp</th>\n      <th>12DGR140tipp</th>\n      <th>12DGR141tipp</th>\n      <th>12DGR160tipp</th>\n      <th>12DGR161tipp</th>\n      <th>12DGR180tipp</th>\n      <th>12DGR181tipp</th>\n      <th>...</th>\n      <th>ZNabcpp</th>\n      <th>ZYMSTATer_RT</th>\n      <th>ZYMSTESTH_RT</th>\n      <th>ZYMSTESTtrd</th>\n      <th>ZYMSTt</th>\n      <th>ZYMSTtr</th>\n      <th>Zn2t</th>\n      <th>Zn2tex</th>\n      <th>ilvg</th>\n      <th>r0647</th>\n    </tr>\n  </thead>\n  <tbody>\n    <tr>\n      <th>Av_Av</th>\n      <td>Azotobacter</td>\n      <td>0.0</td>\n      <td>NaN</td>\n      <td>0.0</td>\n      <td>0.0</td>\n      <td>0.0</td>\n      <td>0.0</td>\n      <td>0.0</td>\n      <td>0.0</td>\n      <td>0.0</td>\n      <td>...</td>\n      <td>0.000732</td>\n      <td>NaN</td>\n      <td>NaN</td>\n      <td>NaN</td>\n      <td>NaN</td>\n      <td>NaN</td>\n      <td>NaN</td>\n      <td>0.000732</td>\n      <td>0.0</td>\n      <td>NaN</td>\n    </tr>\n    <tr>\n      <th>Rt_Rt</th>\n      <td>Rhodosporidium</td>\n      <td>NaN</td>\n      <td>0.0</td>\n      <td>NaN</td>\n      <td>NaN</td>\n      <td>NaN</td>\n      <td>NaN</td>\n      <td>NaN</td>\n      <td>NaN</td>\n      <td>NaN</td>\n      <td>...</td>\n      <td>NaN</td>\n      <td>0.00367</td>\n      <td>0.0</td>\n      <td>0.000037</td>\n      <td>-0.291286</td>\n      <td>-0.291286</td>\n      <td>0.001101</td>\n      <td>NaN</td>\n      <td>NaN</td>\n      <td>0.0</td>\n    </tr>\n    <tr>\n      <th>Se_Se</th>\n      <td>medium</td>\n      <td>NaN</td>\n      <td>NaN</td>\n      <td>NaN</td>\n      <td>NaN</td>\n      <td>NaN</td>\n      <td>NaN</td>\n      <td>NaN</td>\n      <td>NaN</td>\n      <td>NaN</td>\n      <td>...</td>\n      <td>NaN</td>\n      <td>NaN</td>\n      <td>NaN</td>\n      <td>NaN</td>\n      <td>NaN</td>\n      <td>NaN</td>\n      <td>NaN</td>\n      <td>NaN</td>\n      <td>NaN</td>\n      <td>NaN</td>\n    </tr>\n    <tr>\n      <th>Synechococcus</th>\n      <td>Synechococcus</td>\n      <td>0.0</td>\n      <td>0.0</td>\n      <td>0.0</td>\n      <td>0.0</td>\n      <td>0.0</td>\n      <td>0.0</td>\n      <td>0.0</td>\n      <td>0.0</td>\n      <td>0.0</td>\n      <td>...</td>\n      <td>0.000000</td>\n      <td>0.00000</td>\n      <td>0.0</td>\n      <td>0.000000</td>\n      <td>0.000000</td>\n      <td>0.000000</td>\n      <td>0.000000</td>\n      <td>0.000000</td>\n      <td>0.0</td>\n      <td>0.0</td>\n    </tr>\n  </tbody>\n</table>\n<p>4 rows × 4761 columns</p>\n</div>"
     },
     "metadata": {},
     "output_type": "display_data"
    }
   ],
   "source": [
    "# Read in and manipulate df for flux info\n",
    "# flux_fname = \"../fluxes/Unedited_Medium_Fluxes.csv\"\n",
    "# flux_fname = \"../fluxes/ternary_consortium_fluxes_w_glc_and_sucr_and_n2_no_leu_no_nh4.csv\"\n",
    "\n",
    "flux_fname = \"../fluxes/test.csv\"\n",
    "# flux_fname = \"../fluxes/ternary_model_co2_n2_growth_reduced_photons.csv\"\n",
    "\n",
    "flux_df = pd.read_csv(flux_fname)\n",
    "\n",
    "# Create dict to match organism id's to df index/rownames\n",
    "orgname_col = 'compartment'\n",
    "\n",
    "\n",
    "# need more robust way. Depends on ordering of orgs. Should be able to use compartment name alone.\n",
    "# pd.DataFrame().rename(dict()) would be agnostic to ordering\n",
    "org_comp2id_dict = {flux_df[orgname_col][i]:org_ids[i] for i in range(num_orgs)}\n",
    "org_comp2id_dict[flux_df[orgname_col][num_orgs]] = flux_df[orgname_col][num_orgs] # medium, currently not used but needed to match nrow(df)\n",
    "\n",
    "# Define the organism IDs as the df index\n",
    "flux_df.index = [org_comp2id_dict[k] for k in org_comp2id_dict]\n",
    "\n",
    "display(flux_df.head())"
   ],
   "metadata": {
    "collapsed": false,
    "pycharm": {
     "name": "#%%\n"
    }
   }
  },
  {
   "cell_type": "markdown",
   "metadata": {
    "pycharm": {
     "name": "#%% md\n"
    }
   },
   "source": [
    "## Organize node and link info for Sankey/Alluvial diagram"
   ]
  },
  {
   "cell_type": "markdown",
   "metadata": {
    "pycharm": {
     "name": "#%% md\n"
    }
   },
   "source": [
    "### Define x-positions for different nodes"
   ]
  },
  {
   "cell_type": "code",
   "execution_count": 30,
   "metadata": {
    "pycharm": {
     "name": "#%%\n"
    }
   },
   "outputs": [],
   "source": [
    "x_pos = {\n",
    "    \"source_m\": 0.001,    # source metabolites that go into the system\n",
    "    \"donor_org\": 0.25,    # organisms acting as donors\n",
    "    \"shared_m\": 0.5,      # metabolites shared between more than two organisms\n",
    "    \"receiver_org\": 0.75, # organisms acting as receivers\n",
    "    \"excreted_m\": 0.999,  # output metabolites that go into the system\n",
    "}"
   ]
  },
  {
   "cell_type": "markdown",
   "metadata": {
    "pycharm": {
     "name": "#%% md\n"
    }
   },
   "source": [
    "### Organize subclasses for metabolites"
   ]
  },
  {
   "cell_type": "code",
   "execution_count": 31,
   "metadata": {
    "pycharm": {
     "name": "#%%\n"
    }
   },
   "outputs": [],
   "source": [
    "carrier_m = {\n",
    "    'C': {\n",
    "        'names': [],\n",
    "        'color': 'rgb(78, 173, 91)' # Hex = 4EAD5B #'green'\n",
    "    },\n",
    "    'N': {\n",
    "        'names': [],\n",
    "        'color': 'rgb(202, 123, 44)' # Hex = CA7B2C # 'orange', #\n",
    "    },\n",
    "    'C+N': {\n",
    "        'names': [],\n",
    "        'color': 'rgb(0,0,1)' # 'blue',\n",
    "    },\n",
    "    'sunlight': {\n",
    "        'names': [],\n",
    "        'color': 'rgb(245, 194, 66)' # Hex = F5C242 # 'yellow',# \n",
    "    },\n",
    "    'jet_fuel': {\n",
    "        'list_of_m': [], # NEEDS TO BE FILLED WITH JET-FUEL CANDIDATE METABOLITES\n",
    "        'names': [],\n",
    "        'color': 'rgb(133, 26, 43)' # Hex = 851A2B # 'red', #\n",
    "    },\n",
    "}"
   ]
  },
  {
   "cell_type": "markdown",
   "metadata": {
    "pycharm": {
     "name": "#%% md\n"
    }
   },
   "source": [
    "### Add organisms into their respective carrier groups"
   ]
  },
  {
   "cell_type": "code",
   "execution_count": 32,
   "metadata": {
    "pycharm": {
     "name": "#%%\n"
    }
   },
   "outputs": [],
   "source": [
    "# Synecococcus is the carbon carrier\n",
    "carrier_m['C']['names'].append('Se_Se')\n",
    "\n",
    "# Azotobacter is the nitrogen carrier\n",
    "carrier_m['N']['names'].append('Av_Av')\n",
    "\n",
    "# Rhodosporidium is the jet fuel creator\n",
    "carrier_m['jet_fuel']['names'].append('Rt_Rt')"
   ]
  },
  {
   "cell_type": "markdown",
   "metadata": {
    "pycharm": {
     "name": "#%% md\n"
    }
   },
   "source": [
    "### Add corresponding metabolites into their respective carrier groups"
   ]
  },
  {
   "cell_type": "code",
   "execution_count": 33,
   "metadata": {
    "pycharm": {
     "name": "#%%\n"
    }
   },
   "outputs": [],
   "source": [
    "for m in av_syn_rt_exchange_model_all_ext_m.metabolites:\n",
    "    if m.id.lower().startswith(\"photon\"):\n",
    "        carrier_m['sunlight']['names'].append(m.id[:-2])\n",
    "    elif ('C' in m.elements) and ('N' not in m.elements):\n",
    "        carrier_m['C']['names'].append(m.id[:-2])\n",
    "    elif ('C' not in m.elements) and ('N' in m.elements):\n",
    "        carrier_m['N']['names'].append(m.id[:-2])\n",
    "    elif ('C' in m.elements) and ('N' in m.elements):\n",
    "        carrier_m['C+N']['names'].append(m.id[:-2])\n",
    "    elif m.id in carrier_m['jet_fuel']['list_of_m']:\n",
    "        carrier_m['jet_fuel']['names'].append(m.id[:-2])\n",
    "\n",
    "carrier_names = []\n",
    "for k in carrier_m:\n",
    "    carrier_names.extend(carrier_m[k]['names'])"
   ]
  },
  {
   "cell_type": "markdown",
   "metadata": {
    "pycharm": {
     "name": "#%% md\n"
    }
   },
   "source": [
    "### Initialize dataframe for node information"
   ]
  },
  {
   "cell_type": "code",
   "execution_count": 34,
   "metadata": {
    "pycharm": {
     "name": "#%%\n"
    }
   },
   "outputs": [],
   "source": [
    "# Construct node df with info about node index, class/type, and coordinates\n",
    "\n",
    "# Add Donor organisms to node df\n",
    "doner_df = pd.DataFrame.from_dict({\n",
    "    \"Node_Idx\": np.arange(0, num_orgs),\n",
    "    \"Node_Name\": org_ids,\n",
    "    \"Type\": [\"donor_org\"]*num_orgs,\n",
    "    \"Xpos\": [x_pos['donor_org']]*num_orgs,\n",
    "    \"Ypos\": [np.nan]*num_orgs, #np.linspace(0.01, 0.99, num=Num_orgs) if Num_orgs>=3 else [0.33, 0.66] if Num_orgs==2 else [0.5],\n",
    "    \"Color\": ['rgb(0,0,0)']*num_orgs\n",
    "})\n",
    "\n",
    "# Add Receiver organisms to node df\n",
    "receiver_df = pd.DataFrame.from_dict({\n",
    "    \"Node_Idx\": np.arange(num_orgs,(2*num_orgs)),\n",
    "    \"Node_Name\": org_ids,\n",
    "    \"Type\": [\"receiver_org\"]*num_orgs,\n",
    "    \"Xpos\": [x_pos['receiver_org']]*num_orgs,\n",
    "    \"Ypos\": [np.nan]*num_orgs, #np.linspace(0.01, 0.99, num=Num_orgs) if Num_orgs>=3 else [0.33, 0.66] if Num_orgs==2 else [0.5],\n",
    "    \"Color\": ['rgb(0,0,0)']*num_orgs\n",
    "})\n",
    "\n",
    "\n",
    "# Add external metabolites to node df\n",
    "# Note: needs refinement after considering reactions (see next cell)\n",
    "ext_ms = [m for m in av_syn_rt_exchange_model_all_ext_m.metabolites if m.id not in org_ids]\n",
    "ext_m_ids = [m.id[:-2] for m in ext_ms]\n",
    "ext_m_ids.sort()\n",
    "num_ms = len(ext_m_ids)\n",
    "\n",
    "external_df = pd.DataFrame.from_dict({\n",
    "    \"Node_Idx\": ((2*num_orgs)+np.arange(num_ms)),\n",
    "    \"Node_Name\": ext_m_ids,\n",
    "    \"Type\": [\"metabolites\"]*num_ms, # Will need updating\n",
    "    \"Xpos\": [np.nan]*num_ms, # Will need updating\n",
    "    \"Ypos\": [np.nan]*num_ms, # Will need updating,\n",
    "    \"Color\": ['rgb(0,0,0)']*num_ms\n",
    "})\n",
    "\n",
    "\n",
    "\n",
    "node_df = pd.concat([doner_df, receiver_df, external_df], ignore_index=True)\n"
   ]
  },
  {
   "cell_type": "markdown",
   "metadata": {
    "pycharm": {
     "name": "#%% md\n"
    }
   },
   "source": [
    "### Generate links between nodes & refine x-positions of nodes"
   ]
  },
  {
   "cell_type": "code",
   "execution_count": 35,
   "metadata": {
    "pycharm": {
     "name": "#%%\n"
    }
   },
   "outputs": [],
   "source": [
    "flux_threshold = 0.001\n",
    "\n",
    "# Construct link df - first pass at connecting organisms to metabolites\n",
    "links_df = pd.DataFrame(columns = [\"Sources\", \"Source_Name\",\"Targets\", \"Target_Name\", \"Values\"])\n",
    "\n",
    "m_in_use = []\n",
    "# I assume the r.id[:-6] are from removing orgID_ordID?\n",
    "# these indexes and namings can be improved.\n",
    "for r in av_syn_rt_exchange_model_all_ext_m.reactions:\n",
    "    if r.id[:-6] in flux_df.columns:\n",
    "        # Recall that each reaction is between a single metabolite and a single organism\n",
    "        this_m = r.id[3:-8]\n",
    "        this_met_idx = node_df[(node_df['Node_Name']==this_m)][\"Node_Idx\"].values[0]\n",
    "        this_org = r.id[-5:]\n",
    "        this_val = flux_df.loc[this_org, r.id[:-6]]\n",
    "        this_col = flux_df.loc[org_ids, r.id[:-6]]\n",
    "        \n",
    "        # Count good fluxes and flow direction\n",
    "        sum_good_flux = num_orgs\n",
    "        sum_pos_flux = 0\n",
    "        sum_neg_flux = 0\n",
    "        for v in this_col:\n",
    "            if np.isnan(v) or abs(v)<=flux_threshold:\n",
    "                sum_good_flux -= 1\n",
    "            else:\n",
    "                if abs(v)>flux_threshold and v>0:\n",
    "                    sum_pos_flux += 1\n",
    "                if abs(v)>flux_threshold and v<0:\n",
    "                    sum_neg_flux += 1\n",
    "        \n",
    "        # Organize info for good reactions\n",
    "        if (sum_good_flux >= 1) and (not np.isnan(this_val)) and (abs(this_val)>flux_threshold): \n",
    "            # Include metabolite into tracked list\n",
    "            m_in_use.append(this_m)\n",
    "            \n",
    "            # Reaction from source-met to donor-org: overall, only negative fluxes\n",
    "            if (sum_pos_flux==0) and (sum_neg_flux>0) and (this_val<0): # negative means uptake from the environment into the organism\n",
    "                this_org_idx = node_df[(node_df[\"Node_Name\"]==this_org) & (node_df[\"Type\"]==\"donor_org\")][\"Node_Idx\"].values[0]\n",
    "                links_df.loc[len(links_df.index)] = [this_met_idx,\n",
    "                                                     this_m,\n",
    "                                                     this_org_idx, \n",
    "                                                     this_org,\n",
    "                                                     abs(this_val)]\n",
    "                if np.isnan(node_df.loc[this_met_idx, \"Xpos\"]):\n",
    "                    node_df.loc[this_met_idx, \"Xpos\"] = x_pos['source_m']\n",
    "                    node_df.loc[this_met_idx, \"Type\"] = 'source_m'            \n",
    "\n",
    "            # Reaction between shared-met and an org\n",
    "            if (sum_pos_flux>0) and (sum_neg_flux>0):\n",
    "                # Reaction from donor-org to shared-met:\n",
    "                if this_val>0: # positive means secretion from the organism into the environment\n",
    "                    this_org_idx = node_df[(node_df[\"Node_Name\"]==this_org) & (node_df[\"Type\"]==\"donor_org\")][\"Node_Idx\"].values[0]\n",
    "                    links_df.loc[len(links_df.index)] = [this_org_idx,\n",
    "                                                         this_org,\n",
    "                                                         this_met_idx,\n",
    "                                                         this_m,\n",
    "                                                         abs(this_val)]\n",
    "                \n",
    "                # Reaction from shared-met to receiver-org:\n",
    "                if this_val<0: # negative means uptake from the environment into the organism\n",
    "                    this_org_idx = node_df[(node_df[\"Node_Name\"]==this_org) & (node_df[\"Type\"]==\"receiver_org\")][\"Node_Idx\"].values[0]\n",
    "                    links_df.loc[len(links_df.index)] = [this_met_idx,\n",
    "                                                         this_m,\n",
    "                                                         this_org_idx,\n",
    "                                                         this_org,\n",
    "                                                         abs(this_val)]\n",
    "                    \n",
    "                if np.isnan(node_df.loc[this_met_idx, \"Xpos\"]):\n",
    "                    if sum_pos_flux>sum_neg_flux: # More excreted than sourced\n",
    "                        node_df.loc[this_met_idx, \"Xpos\"] = x_pos['shared_m'] - 0.15\n",
    "                    elif sum_pos_flux==sum_neg_flux: # Equally excreted and sourced\n",
    "                        node_df.loc[this_met_idx, \"Xpos\"] = x_pos['shared_m']\n",
    "                    elif sum_pos_flux<sum_neg_flux: # More sourced than excreted\n",
    "                        node_df.loc[this_met_idx, \"Xpos\"] = x_pos['shared_m'] + 0.15\n",
    "                    node_df.loc[this_met_idx, \"Type\"] = 'shared_m'\n",
    "            \n",
    "\n",
    "            # Reaction from receiver-org to excreted-met: overall, only negative fluxes\n",
    "            if (sum_pos_flux>0) and (sum_neg_flux==0) and (this_val>0): # positive means secretion from the organism into the environment\n",
    "                this_org_idx = node_df[(node_df[\"Node_Name\"]==this_org) & (node_df[\"Type\"]==\"receiver_org\")][\"Node_Idx\"].values[0]\n",
    "                links_df.loc[len(links_df.index)] = [this_org_idx,\n",
    "                                                     this_org,\n",
    "                                                     this_met_idx,\n",
    "                                                     this_m,\n",
    "                                                     abs(this_val)]\n",
    "                if np.isnan(node_df.loc[this_met_idx, \"Xpos\"]):\n",
    "                    node_df.loc[this_met_idx, \"Xpos\"] = x_pos['excreted_m']\n",
    "                    node_df.loc[this_met_idx,\"Type\"] = 'excreted_m'\n",
    "\n",
    "m_in_use = np.unique(m_in_use)\n"
   ]
  },
  {
   "cell_type": "markdown",
   "metadata": {
    "pycharm": {
     "name": "#%% md\n"
    }
   },
   "source": [
    "### Assign colors to nodes"
   ]
  },
  {
   "cell_type": "code",
   "execution_count": 36,
   "metadata": {
    "pycharm": {
     "name": "#%%\n"
    },
    "scrolled": true
   },
   "outputs": [],
   "source": [
    "\n",
    "# Color palette in hexadecimal format\n",
    "myPalette = np.array(px.colors.qualitative.Light24) #np.array(px.colors.qualitative.Alphabet + px.colors.qualitative.Dark24 + px.colors.qualitative.Light24)\n",
    "\n",
    "# Color palette as RGB tuples\n",
    "myPalette_rgb = [tuple(int(c.lstrip('#')[i:i+2], 16) for i in (0, 2, 4)) for c in myPalette]\n",
    "myPalette_rgb_list = [f'rgb{c}' for c in myPalette_rgb]\n",
    "\n",
    "# Add colors to node_df\n",
    "color_count = 0\n",
    "org_idx = [i for i,n in enumerate(node_df['Node_Name']) if (n in org_ids)]\n",
    "m_in_use_idx = [i for i,n in enumerate(node_df['Node_Name']) if (n in m_in_use)]\n",
    "\n",
    "for i in org_idx+m_in_use_idx:\n",
    "    this_node = node_df.loc[i, 'Node_Name']\n",
    "    if this_node in carrier_names:\n",
    "        for this_type in carrier_m:\n",
    "            if this_node in carrier_m[this_type]['names']:\n",
    "                node_df.loc[i, 'Color'] = carrier_m[this_type]['color']\n",
    "    else:\n",
    "        node_df.loc[i, 'Color'] = myPalette_rgb_list[color_count]\n",
    "        color_count += 1\n",
    "        if color_count==len(myPalette_rgb_list):\n",
    "            color_count=0\n"
   ]
  },
  {
   "cell_type": "markdown",
   "metadata": {
    "pycharm": {
     "name": "#%% md\n"
    }
   },
   "source": [
    "### Assign y-positions to nodes based on color & x-position groupings"
   ]
  },
  {
   "cell_type": "code",
   "execution_count": 37,
   "metadata": {
    "pycharm": {
     "name": "#%%\n"
    }
   },
   "outputs": [],
   "source": [
    "# Carrier type ordering\n",
    "c_type_order = ['sunlight', 'C', 'N', 'jet_fuel']\n",
    "\n",
    "for this_n_type in x_pos.keys():\n",
    "    this_df = node_df[node_df['Type']==this_n_type]\n",
    "    this_n_list = set(this_df['Node_Name'])\n",
    "    this_yPos_N = len(this_n_list)\n",
    "    new_n_list = []\n",
    "    # Collect node-names in preferred ordered list\n",
    "    for this_c_type in c_type_order:\n",
    "        names_in_this_c_type = [n for n in this_df['Node_Name'] if n in carrier_m[this_c_type]['names']]\n",
    "        if len(names_in_this_c_type)>0:\n",
    "            # Include these names in list\n",
    "            new_n_list.extend(names_in_this_c_type)\n",
    "            \n",
    "            # Add a spacer after each group\n",
    "            this_yPos_N += 1\n",
    "            new_n_list.append('space')\n",
    "            # print(this_n_type, this_n_list, names_in_this_c_type)\n",
    "            # Remove included nodes from this_n_list\n",
    "            this_n_list.difference_update(names_in_this_c_type)\n",
    "    # Collect remaining node-names into new_n_list\n",
    "    new_n_list.extend(this_n_list)\n",
    "    \n",
    "    new_n_df = pd.DataFrame.from_dict({'Name': new_n_list, 'Ypos': np.linspace(0.01,0.99,this_yPos_N)})\n",
    "    \n",
    "    # Update node_df with y-values\n",
    "    for i,n in enumerate(new_n_df['Name']):\n",
    "        if not(n=='space'):\n",
    "            node_df.loc[node_df['Node_Name']==n, 'Ypos'] = new_n_df.loc[i, 'Ypos']"
   ]
  },
  {
   "cell_type": "code",
   "execution_count": 38,
   "metadata": {
    "pycharm": {
     "name": "#%%\n"
    }
   },
   "outputs": [
    {
     "data": {
      "text/plain": "   Node_Idx Node_Name          Type  Xpos   Ypos              Color\n0         0     Av_Av     donor_org  0.25  0.402  rgb(202, 123, 44)\n1         1     Rt_Rt     donor_org  0.25  0.794   rgb(133, 26, 43)\n2         2     Se_Se     donor_org  0.25  0.010   rgb(78, 173, 91)\n3         3     Av_Av  receiver_org  0.75  0.402  rgb(202, 123, 44)\n4         4     Rt_Rt  receiver_org  0.75  0.794   rgb(133, 26, 43)",
      "text/html": "<div>\n<style scoped>\n    .dataframe tbody tr th:only-of-type {\n        vertical-align: middle;\n    }\n\n    .dataframe tbody tr th {\n        vertical-align: top;\n    }\n\n    .dataframe thead th {\n        text-align: right;\n    }\n</style>\n<table border=\"1\" class=\"dataframe\">\n  <thead>\n    <tr style=\"text-align: right;\">\n      <th></th>\n      <th>Node_Idx</th>\n      <th>Node_Name</th>\n      <th>Type</th>\n      <th>Xpos</th>\n      <th>Ypos</th>\n      <th>Color</th>\n    </tr>\n  </thead>\n  <tbody>\n    <tr>\n      <th>0</th>\n      <td>0</td>\n      <td>Av_Av</td>\n      <td>donor_org</td>\n      <td>0.25</td>\n      <td>0.402</td>\n      <td>rgb(202, 123, 44)</td>\n    </tr>\n    <tr>\n      <th>1</th>\n      <td>1</td>\n      <td>Rt_Rt</td>\n      <td>donor_org</td>\n      <td>0.25</td>\n      <td>0.794</td>\n      <td>rgb(133, 26, 43)</td>\n    </tr>\n    <tr>\n      <th>2</th>\n      <td>2</td>\n      <td>Se_Se</td>\n      <td>donor_org</td>\n      <td>0.25</td>\n      <td>0.010</td>\n      <td>rgb(78, 173, 91)</td>\n    </tr>\n    <tr>\n      <th>3</th>\n      <td>3</td>\n      <td>Av_Av</td>\n      <td>receiver_org</td>\n      <td>0.75</td>\n      <td>0.402</td>\n      <td>rgb(202, 123, 44)</td>\n    </tr>\n    <tr>\n      <th>4</th>\n      <td>4</td>\n      <td>Rt_Rt</td>\n      <td>receiver_org</td>\n      <td>0.75</td>\n      <td>0.794</td>\n      <td>rgb(133, 26, 43)</td>\n    </tr>\n  </tbody>\n</table>\n</div>"
     },
     "execution_count": 38,
     "metadata": {},
     "output_type": "execute_result"
    }
   ],
   "source": [
    "node_df.head()"
   ]
  },
  {
   "cell_type": "code",
   "execution_count": 39,
   "metadata": {
    "pycharm": {
     "name": "#%%\n"
    }
   },
   "outputs": [
    {
     "data": {
      "text/plain": "     Node_Idx       Node_Name          Type   Xpos   Ypos               Color\n0           0     Azotobacter     donor_org  0.250    NaN   rgb(202, 123, 44)\n1           1  Rhodosporidium     donor_org  0.250    NaN    rgb(133, 26, 43)\n2           2          medium     donor_org  0.250    NaN    rgb(78, 173, 91)\n3           3     Azotobacter  receiver_org  0.750    NaN   rgb(202, 123, 44)\n4           4  Rhodosporidium  receiver_org  0.750    NaN    rgb(133, 26, 43)\n..        ...             ...           ...    ...    ...                 ...\n487       487            xylt   metabolites    NaN    NaN          rgb(0,0,0)\n488       488         xylu__D   metabolites    NaN    NaN          rgb(0,0,0)\n489       489         xylu__L   metabolites    NaN    NaN          rgb(0,0,0)\n490       490             zn2      source_m  0.001  0.794  rgb(201, 251, 229)\n491       491           zymst    excreted_m  0.999  0.500    rgb(78, 173, 91)\n\n[492 rows x 6 columns]",
      "text/html": "<div>\n<style scoped>\n    .dataframe tbody tr th:only-of-type {\n        vertical-align: middle;\n    }\n\n    .dataframe tbody tr th {\n        vertical-align: top;\n    }\n\n    .dataframe thead th {\n        text-align: right;\n    }\n</style>\n<table border=\"1\" class=\"dataframe\">\n  <thead>\n    <tr style=\"text-align: right;\">\n      <th></th>\n      <th>Node_Idx</th>\n      <th>Node_Name</th>\n      <th>Type</th>\n      <th>Xpos</th>\n      <th>Ypos</th>\n      <th>Color</th>\n    </tr>\n  </thead>\n  <tbody>\n    <tr>\n      <th>0</th>\n      <td>0</td>\n      <td>Azotobacter</td>\n      <td>donor_org</td>\n      <td>0.250</td>\n      <td>NaN</td>\n      <td>rgb(202, 123, 44)</td>\n    </tr>\n    <tr>\n      <th>1</th>\n      <td>1</td>\n      <td>Rhodosporidium</td>\n      <td>donor_org</td>\n      <td>0.250</td>\n      <td>NaN</td>\n      <td>rgb(133, 26, 43)</td>\n    </tr>\n    <tr>\n      <th>2</th>\n      <td>2</td>\n      <td>medium</td>\n      <td>donor_org</td>\n      <td>0.250</td>\n      <td>NaN</td>\n      <td>rgb(78, 173, 91)</td>\n    </tr>\n    <tr>\n      <th>3</th>\n      <td>3</td>\n      <td>Azotobacter</td>\n      <td>receiver_org</td>\n      <td>0.750</td>\n      <td>NaN</td>\n      <td>rgb(202, 123, 44)</td>\n    </tr>\n    <tr>\n      <th>4</th>\n      <td>4</td>\n      <td>Rhodosporidium</td>\n      <td>receiver_org</td>\n      <td>0.750</td>\n      <td>NaN</td>\n      <td>rgb(133, 26, 43)</td>\n    </tr>\n    <tr>\n      <th>...</th>\n      <td>...</td>\n      <td>...</td>\n      <td>...</td>\n      <td>...</td>\n      <td>...</td>\n      <td>...</td>\n    </tr>\n    <tr>\n      <th>487</th>\n      <td>487</td>\n      <td>xylt</td>\n      <td>metabolites</td>\n      <td>NaN</td>\n      <td>NaN</td>\n      <td>rgb(0,0,0)</td>\n    </tr>\n    <tr>\n      <th>488</th>\n      <td>488</td>\n      <td>xylu__D</td>\n      <td>metabolites</td>\n      <td>NaN</td>\n      <td>NaN</td>\n      <td>rgb(0,0,0)</td>\n    </tr>\n    <tr>\n      <th>489</th>\n      <td>489</td>\n      <td>xylu__L</td>\n      <td>metabolites</td>\n      <td>NaN</td>\n      <td>NaN</td>\n      <td>rgb(0,0,0)</td>\n    </tr>\n    <tr>\n      <th>490</th>\n      <td>490</td>\n      <td>zn2</td>\n      <td>source_m</td>\n      <td>0.001</td>\n      <td>0.794</td>\n      <td>rgb(201, 251, 229)</td>\n    </tr>\n    <tr>\n      <th>491</th>\n      <td>491</td>\n      <td>zymst</td>\n      <td>excreted_m</td>\n      <td>0.999</td>\n      <td>0.500</td>\n      <td>rgb(78, 173, 91)</td>\n    </tr>\n  </tbody>\n</table>\n<p>492 rows × 6 columns</p>\n</div>"
     },
     "execution_count": 39,
     "metadata": {},
     "output_type": "execute_result"
    }
   ],
   "source": [
    "# Refine node labels for organisms\n",
    "for org in org_ids:\n",
    "    match_idx = node_df['Node_Name']==org\n",
    "    node_df.loc[match_idx, 'Node_Name'] = flux_df.loc[org, \"compartment\"]\n",
    "    node_df.loc[match_idx, 'Ypos'] = np.nan\n",
    "node_df"
   ]
  },
  {
   "cell_type": "code",
   "execution_count": 40,
   "metadata": {
    "pycharm": {
     "name": "#%%\n"
    }
   },
   "outputs": [],
   "source": [
    "# Force photon flux values to 1\n",
    "for sn in links_df['Source_Name']:\n",
    "    if 'photon' in sn:\n",
    "        links_df.loc[links_df['Source_Name']==sn, 'Values'] = 1"
   ]
  },
  {
   "cell_type": "code",
   "execution_count": 41,
   "metadata": {
    "pycharm": {
     "name": "#%%\n"
    }
   },
   "outputs": [
    {
     "data": {
      "application/vnd.plotly.v1+json": {
       "data": [
        {
         "link": {
          "arrowlen": 30,
          "source": [
           3,
           144,
           113,
           331,
           3,
           291,
           0,
           191,
           3,
           312,
           326,
           432,
           0,
           275,
           0,
           341,
           350,
           0,
           129,
           0,
           431,
           392,
           3,
           0,
           4,
           4,
           4,
           1,
           392,
           339,
           341,
           1,
           312,
           357,
           427,
           1,
           432,
           192,
           291,
           113,
           4,
           82,
           4,
           350,
           22,
           251,
           326,
           331,
           144,
           490,
           280
          ],
          "target": [
           132,
           0,
           0,
           0,
           58,
           0,
           82,
           3,
           264,
           0,
           0,
           0,
           357,
           3,
           251,
           0,
           0,
           427,
           0,
           280,
           3,
           0,
           266,
           22,
           264,
           266,
           491,
           191,
           1,
           1,
           1,
           275,
           1,
           4,
           4,
           431,
           1,
           1,
           1,
           1,
           206,
           4,
           132,
           1,
           4,
           4,
           1,
           1,
           1,
           1,
           4
          ],
          "value": [
           45.59831254995071,
           0.0015211073948176,
           0.0111669449788802,
           0.0014824897176572,
           32.907939114484385,
           0.4187722365538067,
           0.0298085559148052,
           0.0344576951596147,
           56.06907574614019,
           34.83457060235125,
           0.0186115749648003,
           0.0093068601956546,
           0.3392510906676176,
           0.2504792283022525,
           0.0014352903344612,
           25.931319931233183,
           43.0291969269917,
           3.538428760807937,
           0.0111669449788802,
           0.0085477214184729,
           0.3378629622928173,
           2.069491283054049,
           104.55055909971888,
           0.2542753472732949,
           0.0713054478212091,
           111.2302584510618,
           0.2912858915423289,
           0.0092472396855558,
           0.5746391019819855,
           0.0563360664223442,
           9.220550369478802,
           0.2504792283022525,
           25.014517318854296,
           0.3392510906676176,
           3.538428760807937,
           0.3378629622928173,
           0.554231965934449,
           0.0133161114893076,
           1.2642707809405067,
           0.0017959158306214,
           0.1385579914836122,
           0.0298085559148052,
           68.42269761424944,
           59.66234410341311,
           0.2542753472732949,
           0.0014352903344612,
           0.1332172372627839,
           0.0013102414773885,
           0.0011332401575436,
           0.001100861867328,
           0.0085477214184729
          ]
         },
         "node": {
          "color": [
           "rgb(202, 123, 44)",
           "rgb(133, 26, 43)",
           "rgb(78, 173, 91)",
           "rgb(202, 123, 44)",
           "rgb(133, 26, 43)",
           "rgb(78, 173, 91)",
           "rgb(0,0,0)",
           "rgb(0,0,0)",
           "rgb(0,0,0)",
           "rgb(0,0,0)",
           "rgb(0,0,0)",
           "rgb(0,0,0)",
           "rgb(0,0,0)",
           "rgb(0,0,0)",
           "rgb(0,0,0)",
           "rgb(0,0,0)",
           "rgb(0,0,0)",
           "rgb(0,0,0)",
           "rgb(0,0,0)",
           "rgb(0,0,0)",
           "rgb(0,0,0)",
           "rgb(0,0,0)",
           "rgb(78, 173, 91)",
           "rgb(0,0,0)",
           "rgb(0,0,0)",
           "rgb(0,0,0)",
           "rgb(0,0,0)",
           "rgb(0,0,0)",
           "rgb(0,0,0)",
           "rgb(0,0,0)",
           "rgb(0,0,0)",
           "rgb(0,0,0)",
           "rgb(0,0,0)",
           "rgb(0,0,0)",
           "rgb(0,0,0)",
           "rgb(0,0,0)",
           "rgb(0,0,0)",
           "rgb(0,0,0)",
           "rgb(0,0,0)",
           "rgb(0,0,0)",
           "rgb(0,0,0)",
           "rgb(0,0,0)",
           "rgb(0,0,0)",
           "rgb(0,0,0)",
           "rgb(0,0,0)",
           "rgb(0,0,0)",
           "rgb(0,0,0)",
           "rgb(0,0,0)",
           "rgb(0,0,0)",
           "rgb(0,0,0)",
           "rgb(0,0,0)",
           "rgb(0,0,0)",
           "rgb(0,0,0)",
           "rgb(0,0,0)",
           "rgb(0,0,0)",
           "rgb(0,0,0)",
           "rgb(0,0,0)",
           "rgb(0,0,0)",
           "rgb(78, 173, 91)",
           "rgb(0,0,0)",
           "rgb(0,0,0)",
           "rgb(0,0,0)",
           "rgb(0,0,0)",
           "rgb(0,0,0)",
           "rgb(0,0,0)",
           "rgb(0,0,0)",
           "rgb(0,0,0)",
           "rgb(0,0,0)",
           "rgb(0,0,0)",
           "rgb(0,0,0)",
           "rgb(0,0,0)",
           "rgb(0,0,0)",
           "rgb(0,0,0)",
           "rgb(0,0,0)",
           "rgb(0,0,0)",
           "rgb(0,0,0)",
           "rgb(0,0,0)",
           "rgb(0,0,0)",
           "rgb(0,0,0)",
           "rgb(0,0,0)",
           "rgb(0,0,0)",
           "rgb(0,0,0)",
           "rgb(0,0,1)",
           "rgb(0,0,0)",
           "rgb(0,0,0)",
           "rgb(0,0,0)",
           "rgb(0,0,0)",
           "rgb(0,0,0)",
           "rgb(0,0,0)",
           "rgb(0,0,0)",
           "rgb(0,0,0)",
           "rgb(0,0,0)",
           "rgb(0,0,0)",
           "rgb(0,0,0)",
           "rgb(0,0,0)",
           "rgb(0,0,0)",
           "rgb(0,0,0)",
           "rgb(0,0,0)",
           "rgb(0,0,0)",
           "rgb(0,0,0)",
           "rgb(0,0,0)",
           "rgb(0,0,0)",
           "rgb(0,0,0)",
           "rgb(0,0,0)",
           "rgb(0,0,0)",
           "rgb(0,0,0)",
           "rgb(0,0,0)",
           "rgb(0,0,0)",
           "rgb(0,0,0)",
           "rgb(0,0,0)",
           "rgb(0,0,0)",
           "rgb(0,0,0)",
           "rgb(0,0,0)",
           "rgb(253, 50, 22)",
           "rgb(0,0,0)",
           "rgb(0,0,0)",
           "rgb(0,0,0)",
           "rgb(0,0,0)",
           "rgb(0,0,0)",
           "rgb(0,0,0)",
           "rgb(0,0,0)",
           "rgb(0,0,0)",
           "rgb(0,0,0)",
           "rgb(0,0,0)",
           "rgb(0,0,0)",
           "rgb(0,0,0)",
           "rgb(0,0,0)",
           "rgb(0,0,0)",
           "rgb(0,0,0)",
           "rgb(0, 254, 53)",
           "rgb(0,0,0)",
           "rgb(0,0,0)",
           "rgb(78, 173, 91)",
           "rgb(0,0,0)",
           "rgb(0,0,0)",
           "rgb(0,0,0)",
           "rgb(0,0,0)",
           "rgb(0,0,0)",
           "rgb(0,0,0)",
           "rgb(0,0,0)",
           "rgb(0,0,0)",
           "rgb(0,0,0)",
           "rgb(0,0,0)",
           "rgb(0,0,0)",
           "rgb(106, 118, 252)",
           "rgb(0,0,0)",
           "rgb(0,0,0)",
           "rgb(0,0,0)",
           "rgb(0,0,0)",
           "rgb(0,0,0)",
           "rgb(0,0,0)",
           "rgb(0,0,0)",
           "rgb(0,0,0)",
           "rgb(0,0,0)",
           "rgb(0,0,0)",
           "rgb(0,0,0)",
           "rgb(0,0,0)",
           "rgb(0,0,0)",
           "rgb(0,0,0)",
           "rgb(0,0,0)",
           "rgb(0,0,0)",
           "rgb(0,0,0)",
           "rgb(0,0,0)",
           "rgb(0,0,0)",
           "rgb(0,0,0)",
           "rgb(0,0,0)",
           "rgb(0,0,0)",
           "rgb(0,0,0)",
           "rgb(0,0,0)",
           "rgb(0,0,0)",
           "rgb(0,0,0)",
           "rgb(0,0,0)",
           "rgb(0,0,0)",
           "rgb(0,0,0)",
           "rgb(0,0,0)",
           "rgb(0,0,0)",
           "rgb(0,0,0)",
           "rgb(0,0,0)",
           "rgb(0,0,0)",
           "rgb(0,0,0)",
           "rgb(0,0,0)",
           "rgb(0,0,0)",
           "rgb(0,0,0)",
           "rgb(0,0,0)",
           "rgb(0,0,0)",
           "rgb(0,0,0)",
           "rgb(0,0,0)",
           "rgb(0,0,0)",
           "rgb(0,0,0)",
           "rgb(0,0,0)",
           "rgb(0,0,0)",
           "rgb(254, 212, 196)",
           "rgb(254, 0, 206)",
           "rgb(0,0,0)",
           "rgb(0,0,0)",
           "rgb(0,0,0)",
           "rgb(0,0,0)",
           "rgb(0,0,0)",
           "rgb(0,0,0)",
           "rgb(0,0,0)",
           "rgb(0,0,0)",
           "rgb(0,0,0)",
           "rgb(0,0,0)",
           "rgb(0,0,0)",
           "rgb(0,0,0)",
           "rgb(0,0,0)",
           "rgb(78, 173, 91)",
           "rgb(0,0,0)",
           "rgb(0,0,0)",
           "rgb(0,0,0)",
           "rgb(0,0,0)",
           "rgb(0,0,0)",
           "rgb(0,0,0)",
           "rgb(0,0,0)",
           "rgb(0,0,0)",
           "rgb(0,0,0)",
           "rgb(0,0,0)",
           "rgb(0,0,0)",
           "rgb(0,0,0)",
           "rgb(0,0,0)",
           "rgb(0,0,0)",
           "rgb(0,0,0)",
           "rgb(0,0,0)",
           "rgb(0,0,0)",
           "rgb(0,0,0)",
           "rgb(0,0,0)",
           "rgb(0,0,0)",
           "rgb(0,0,0)",
           "rgb(0,0,0)",
           "rgb(0,0,0)",
           "rgb(0,0,0)",
           "rgb(0,0,0)",
           "rgb(0,0,0)",
           "rgb(0,0,0)",
           "rgb(0,0,0)",
           "rgb(0,0,0)",
           "rgb(0,0,0)",
           "rgb(0,0,0)",
           "rgb(0,0,0)",
           "rgb(0,0,0)",
           "rgb(0,0,0)",
           "rgb(0,0,0)",
           "rgb(0,0,0)",
           "rgb(0,0,0)",
           "rgb(0,0,0)",
           "rgb(0,0,0)",
           "rgb(0,0,0)",
           "rgb(0,0,0)",
           "rgb(0,0,0)",
           "rgb(0,0,0)",
           "rgb(0,0,0)",
           "rgb(78, 173, 91)",
           "rgb(0,0,0)",
           "rgb(0,0,0)",
           "rgb(0,0,0)",
           "rgb(0,0,0)",
           "rgb(0,0,0)",
           "rgb(0,0,0)",
           "rgb(0,0,0)",
           "rgb(0,0,0)",
           "rgb(0,0,0)",
           "rgb(0,0,0)",
           "rgb(0,0,0)",
           "rgb(0,0,0)",
           "rgb(13, 249, 255)",
           "rgb(0,0,0)",
           "rgb(246, 249, 38)",
           "rgb(0,0,0)",
           "rgb(0,0,0)",
           "rgb(0,0,0)",
           "rgb(0,0,0)",
           "rgb(0,0,0)",
           "rgb(0,0,0)",
           "rgb(0,0,0)",
           "rgb(0,0,0)",
           "rgb(0,0,1)",
           "rgb(0,0,0)",
           "rgb(0,0,0)",
           "rgb(0,0,0)",
           "rgb(0,0,0)",
           "rgb(78, 173, 91)",
           "rgb(0,0,0)",
           "rgb(0,0,0)",
           "rgb(0,0,0)",
           "rgb(0,0,0)",
           "rgb(0,0,0)",
           "rgb(0,0,0)",
           "rgb(0,0,0)",
           "rgb(0,0,0)",
           "rgb(0,0,0)",
           "rgb(0,0,0)",
           "rgb(255, 150, 22)",
           "rgb(0,0,0)",
           "rgb(0,0,0)",
           "rgb(0,0,0)",
           "rgb(0,0,0)",
           "rgb(0,0,0)",
           "rgb(0,0,0)",
           "rgb(0,0,0)",
           "rgb(0,0,0)",
           "rgb(0,0,0)",
           "rgb(0,0,0)",
           "rgb(0,0,0)",
           "rgb(0,0,0)",
           "rgb(0,0,0)",
           "rgb(0,0,0)",
           "rgb(0,0,0)",
           "rgb(0,0,0)",
           "rgb(0,0,0)",
           "rgb(0,0,0)",
           "rgb(0,0,0)",
           "rgb(0,0,0)",
           "rgb(78, 173, 91)",
           "rgb(0,0,0)",
           "rgb(0,0,0)",
           "rgb(0,0,0)",
           "rgb(0,0,0)",
           "rgb(0,0,0)",
           "rgb(0,0,0)",
           "rgb(0,0,0)",
           "rgb(0,0,0)",
           "rgb(0,0,0)",
           "rgb(0,0,0)",
           "rgb(0,0,0)",
           "rgb(0,0,0)",
           "rgb(0,0,0)",
           "rgb(71, 155, 85)",
           "rgb(0,0,0)",
           "rgb(0,0,0)",
           "rgb(0,0,0)",
           "rgb(0,0,0)",
           "rgb(238, 166, 251)",
           "rgb(0,0,0)",
           "rgb(0,0,0)",
           "rgb(0,0,0)",
           "rgb(0,0,0)",
           "rgb(0,0,0)",
           "rgb(0,0,0)",
           "rgb(0,0,0)",
           "rgb(220, 88, 125)",
           "rgb(0,0,0)",
           "rgb(202, 123, 44)",
           "rgb(0,0,0)",
           "rgb(0,0,0)",
           "rgb(0,0,0)",
           "rgb(0,0,0)",
           "rgb(0,0,0)",
           "rgb(0,0,0)",
           "rgb(0,0,0)",
           "rgb(0,0,0)",
           "rgb(214, 38, 255)",
           "rgb(0,0,0)",
           "rgb(0,0,0)",
           "rgb(0,0,0)",
           "rgb(0,0,0)",
           "rgb(0,0,0)",
           "rgb(0,0,0)",
           "rgb(0,0,1)",
           "rgb(0,0,0)",
           "rgb(0,0,0)",
           "rgb(0,0,0)",
           "rgb(0,0,0)",
           "rgb(0,0,0)",
           "rgb(0,0,0)",
           "rgb(0,0,0)",
           "rgb(0,0,0)",
           "rgb(0,0,0)",
           "rgb(0,0,0)",
           "rgb(0,0,0)",
           "rgb(0,0,0)",
           "rgb(0,0,0)",
           "rgb(0,0,0)",
           "rgb(0,0,0)",
           "rgb(0,0,0)",
           "rgb(0,0,0)",
           "rgb(0,0,0)",
           "rgb(0,0,0)",
           "rgb(0,0,0)",
           "rgb(0,0,0)",
           "rgb(0,0,0)",
           "rgb(0,0,0)",
           "rgb(0,0,0)",
           "rgb(0,0,0)",
           "rgb(0,0,0)",
           "rgb(0,0,0)",
           "rgb(0,0,0)",
           "rgb(0,0,0)",
           "rgb(0,0,0)",
           "rgb(0,0,0)",
           "rgb(0,0,0)",
           "rgb(0,0,0)",
           "rgb(0,0,0)",
           "rgb(110, 137, 156)",
           "rgb(0,0,0)",
           "rgb(0,0,0)",
           "rgb(0,0,0)",
           "rgb(0,0,0)",
           "rgb(0,0,0)",
           "rgb(0,0,0)",
           "rgb(0,0,0)",
           "rgb(0,0,0)",
           "rgb(0,0,0)",
           "rgb(0,0,0)",
           "rgb(0,0,0)",
           "rgb(0,0,0)",
           "rgb(0,0,0)",
           "rgb(0,0,0)",
           "rgb(0,0,0)",
           "rgb(0,0,0)",
           "rgb(0,0,0)",
           "rgb(0,0,0)",
           "rgb(0,0,0)",
           "rgb(0,0,0)",
           "rgb(0,0,0)",
           "rgb(0,0,0)",
           "rgb(0,0,0)",
           "rgb(0,0,0)",
           "rgb(0,0,0)",
           "rgb(0,0,0)",
           "rgb(0,0,0)",
           "rgb(0,0,0)",
           "rgb(0,0,0)",
           "rgb(0,0,0)",
           "rgb(0,0,0)",
           "rgb(0,0,0)",
           "rgb(0,0,0)",
           "rgb(0,0,0)",
           "rgb(0,0,1)",
           "rgb(0,0,0)",
           "rgb(0,0,0)",
           "rgb(0,0,0)",
           "rgb(0, 181, 247)",
           "rgb(182, 142, 0)",
           "rgb(0,0,0)",
           "rgb(0,0,0)",
           "rgb(0,0,0)",
           "rgb(0,0,0)",
           "rgb(0,0,0)",
           "rgb(0,0,0)",
           "rgb(0,0,0)",
           "rgb(0,0,0)",
           "rgb(0,0,0)",
           "rgb(0,0,0)",
           "rgb(0,0,0)",
           "rgb(0,0,0)",
           "rgb(0,0,0)",
           "rgb(0,0,0)",
           "rgb(0,0,0)",
           "rgb(0,0,0)",
           "rgb(0,0,0)",
           "rgb(0,0,0)",
           "rgb(0,0,0)",
           "rgb(0,0,0)",
           "rgb(0,0,0)",
           "rgb(0,0,0)",
           "rgb(0,0,0)",
           "rgb(0,0,0)",
           "rgb(0,0,0)",
           "rgb(0,0,0)",
           "rgb(0,0,0)",
           "rgb(0,0,0)",
           "rgb(0,0,0)",
           "rgb(0,0,0)",
           "rgb(0,0,0)",
           "rgb(0,0,0)",
           "rgb(0,0,0)",
           "rgb(0,0,0)",
           "rgb(0,0,0)",
           "rgb(0,0,0)",
           "rgb(0,0,0)",
           "rgb(0,0,0)",
           "rgb(0,0,0)",
           "rgb(0,0,0)",
           "rgb(0,0,0)",
           "rgb(0,0,0)",
           "rgb(0,0,0)",
           "rgb(0,0,0)",
           "rgb(0,0,0)",
           "rgb(0,0,0)",
           "rgb(0,0,0)",
           "rgb(0,0,0)",
           "rgb(0,0,0)",
           "rgb(0,0,0)",
           "rgb(0,0,0)",
           "rgb(0,0,0)",
           "rgb(0,0,0)",
           "rgb(0,0,0)",
           "rgb(0,0,0)",
           "rgb(0,0,0)",
           "rgb(0,0,0)",
           "rgb(201, 251, 229)",
           "rgb(78, 173, 91)"
          ],
          "label": [
           "Azotobacter",
           "Rhodosporidium",
           "medium",
           "Azotobacter",
           "Rhodosporidium",
           "medium",
           "12ppd__R",
           "12ppd__S",
           "13BDglcn",
           "14glucan",
           "15dap",
           "23camp",
           "23ccmp",
           "23cgmp",
           "23cump",
           "23dappa",
           "26dap__M",
           "2ddglcn",
           "2dglc",
           "2doxg6p",
           "2hb",
           "2hxmp",
           "2obut",
           "2pg",
           "34dhpac",
           "35ccmp",
           "35cgmp",
           "3amp",
           "3cmp",
           "3gmp",
           "3hcinnm",
           "3hpp",
           "3hpppn",
           "3pg",
           "3sala",
           "3ump",
           "4abut",
           "4abz",
           "4abzglu",
           "4hbz",
           "4hoxpacd",
           "4hphac",
           "5adtststeroneglc",
           "5aop",
           "5aptn",
           "5dglcn",
           "5flura",
           "5mtr",
           "6mpur",
           "6pgc",
           "LalaDglu",
           "LalaDgluMdap",
           "LalaDgluMdapDala",
           "LalaLglu",
           "Lcyst",
           "T4hcinnm",
           "abt",
           "abt__D",
           "ac",
           "acac",
           "acald",
           "acgal",
           "acgal1p",
           "acgam",
           "acgam1p",
           "acglu",
           "ach",
           "acmana",
           "acmum",
           "acnam",
           "acolipa",
           "acon_C",
           "acser",
           "ad",
           "ade",
           "adn",
           "adocbl",
           "ag",
           "agm",
           "ahandrostanglc",
           "akg",
           "ala_B",
           "ala__D",
           "ala__L",
           "alaala",
           "alg",
           "all__D",
           "alltn",
           "alltt",
           "amet",
           "amp",
           "andrstrnglc",
           "anhgm",
           "arab__D",
           "arab__L",
           "arach",
           "arbt",
           "arbtn",
           "arbtn_fe3",
           "arg__L",
           "ascb__L",
           "asn__L",
           "aso3",
           "asp__D",
           "asp__L",
           "bhb",
           "bildglcur",
           "bilglcur",
           "btd_RR",
           "btn",
           "but",
           "butso3",
           "bz",
           "ca2",
           "camp",
           "cbi",
           "cbl1",
           "cbp",
           "cd2",
           "cellb",
           "cgly",
           "ch4",
           "chol",
           "cholate",
           "cholp",
           "chtbs",
           "chtn",
           "cit",
           "citr__L",
           "cl",
           "cm",
           "cmp",
           "co2",
           "cobalt2",
           "colipa",
           "colipacy",
           "colipap",
           "cpgn",
           "cpgn_un",
           "crn",
           "crn__D",
           "cs1",
           "csn",
           "cu",
           "cu2",
           "cyan",
           "cynt",
           "cys__D",
           "cys__L",
           "cysi__L",
           "cyst__L",
           "cytd",
           "dad_2",
           "damp",
           "dca",
           "dcmp",
           "dcyt",
           "ddca",
           "dgmp",
           "dgsn",
           "dha",
           "dhdascb",
           "dhps",
           "dimp",
           "din",
           "dms",
           "dmso",
           "docosac",
           "dopa",
           "doxrbcn",
           "drib",
           "dtmp",
           "dump",
           "duri",
           "dxylnt",
           "eca4colipa",
           "enlipa",
           "enter",
           "epist",
           "ergst",
           "estradiolglc",
           "estriolglc",
           "estroneglc",
           "etha",
           "ethamp",
           "ethso3",
           "etoh",
           "f",
           "f6p",
           "fad",
           "fald",
           "fe2",
           "fe3",
           "fe3dcit",
           "fe3dhbzs",
           "fe3hox",
           "fe3hox_un",
           "fecost",
           "fecrm",
           "fecrm_un",
           "feenter",
           "feoxam",
           "feoxam_un",
           "fer",
           "fmn",
           "fol",
           "for",
           "frmd",
           "fru",
           "frulys",
           "fruur",
           "fuc__L",
           "fum",
           "fusa",
           "g1p",
           "g3pc",
           "g3pe",
           "g3pg",
           "g3pi",
           "g3ps",
           "g6p",
           "gal",
           "gal1p",
           "gal_bD",
           "galct__D",
           "galctn__D",
           "galctn__L",
           "galt",
           "galur",
           "gam",
           "gam6p",
           "gbbtn",
           "gchola",
           "gdp",
           "ghb",
           "glc__D",
           "glcn",
           "glcr",
           "glcur",
           "glcur1p",
           "gln__L",
           "glu__L",
           "gluala",
           "glx",
           "gly",
           "glyald",
           "glyb",
           "glyc",
           "glyc2p",
           "glyc3p",
           "glyc__R",
           "glyclt",
           "glycogen",
           "glygn2",
           "glygn4",
           "gm1lipa",
           "gm2lipa",
           "gmp",
           "gsn",
           "gthox",
           "gthrd",
           "gtp",
           "gua",
           "gxl",
           "h",
           "h2",
           "h2o",
           "h2o2",
           "h2s",
           "hacolipa",
           "halipa",
           "hco3",
           "hdca",
           "hdcea",
           "hg2",
           "his__L",
           "hista",
           "hom__L",
           "hpdca",
           "hqn",
           "hxa",
           "hxan",
           "hyptaur",
           "idon__L",
           "ile__L",
           "imp",
           "ind3eth",
           "indole",
           "inost",
           "ins",
           "isetac",
           "k",
           "kdo2lipid4",
           "lac__D",
           "lac__L",
           "lanost",
           "lcts",
           "leu__L",
           "lipa",
           "lipa_cold",
           "lipoate",
           "lnlncg",
           "lys__L",
           "lyx__L",
           "mal__D",
           "mal__L",
           "malon",
           "malt",
           "malthx",
           "maltpt",
           "malttr",
           "maltttr",
           "man",
           "man1p",
           "man6p",
           "manglyc",
           "mannan",
           "mbdg",
           "melib",
           "meoh",
           "mepn",
           "met__D",
           "met__L",
           "metglcur",
           "metsox_R__L",
           "metsox_S__L",
           "mg2",
           "mincyc",
           "minohp",
           "mma",
           "mmet",
           "mn2",
           "mnl",
           "mobd",
           "mso3",
           "mthgxl",
           "mththf",
           "n2",
           "n2o",
           "na1",
           "nac",
           "nh4",
           "ni2",
           "nmn",
           "no",
           "no2",
           "no3",
           "novbcn",
           "nrvnc",
           "o16a4colipa",
           "o2",
           "o2s",
           "ocdca",
           "ocdcea",
           "ocdcya",
           "octa",
           "oh1",
           "orn",
           "orot",
           "oxa",
           "pacald",
           "pail1819Z160",
           "pc_RT",
           "pe1801819Z",
           "pe1801829Z12Z",
           "pe1819Z1819Z",
           "pe1819Z1829Z12Z",
           "pe_RT",
           "peamn",
           "pectin",
           "pep",
           "pepd",
           "pg1819Z160",
           "pgp1819Z160",
           "phe__L",
           "pheme",
           "phenol",
           "photon410",
           "photon430",
           "photon450",
           "photon470",
           "photon490",
           "photon510",
           "photon530",
           "photon550",
           "photon570",
           "photon590",
           "photon610",
           "photon630",
           "photon650",
           "photon670",
           "photon690",
           "pi",
           "pnto__R",
           "ppa",
           "ppal",
           "ppi",
           "pppi",
           "pppn",
           "ppt",
           "pro__D",
           "pro__L",
           "progly",
           "prostge1",
           "prostge2",
           "psclys",
           "pser__L",
           "psuri",
           "ptd1ino_RT",
           "ptrc",
           "pydam",
           "pydx",
           "pydxn",
           "pyr",
           "quin",
           "r5p",
           "raffin",
           "rbl__D",
           "rbt",
           "rfamp",
           "rib__D",
           "ribflv",
           "rmn",
           "salcn",
           "sbt__D",
           "sel",
           "ser__D",
           "ser__L",
           "skm",
           "slnt",
           "so2",
           "so3",
           "so4",
           "spmd",
           "sprm",
           "sq",
           "srb__L",
           "strch1",
           "strch2",
           "succ",
           "sucr",
           "sulfac",
           "tartr__D",
           "tartr__L",
           "taur",
           "tchola",
           "tcynt",
           "tega",
           "tgua",
           "thm",
           "thmmp",
           "thmpp",
           "thr__L",
           "thrp",
           "thym",
           "thymd",
           "tma",
           "tmao",
           "tre",
           "trp__L",
           "tststeroneglc",
           "tsul",
           "ttc",
           "ttdca",
           "ttdcea",
           "ttrcyc",
           "tungs",
           "tym",
           "tyr__L",
           "tyrp",
           "uacgam",
           "udcpdp",
           "udcpp",
           "udpacgal",
           "udpg",
           "udpgal",
           "udpglcur",
           "ump",
           "ura",
           "urate",
           "urea",
           "uri",
           "val__L",
           "xan",
           "xmp",
           "xtsn",
           "xyl__D",
           "xylt",
           "xylu__D",
           "xylu__L",
           "zn2",
           "zymst"
          ],
          "pad": 15,
          "thickness": 30,
          "x": [
           0.25,
           0.25,
           0.25,
           0.75,
           0.75,
           0.75,
           null,
           null,
           null,
           null,
           null,
           null,
           null,
           null,
           null,
           null,
           null,
           null,
           null,
           null,
           null,
           null,
           0.5,
           null,
           null,
           null,
           null,
           null,
           null,
           null,
           null,
           null,
           null,
           null,
           null,
           null,
           null,
           null,
           null,
           null,
           null,
           null,
           null,
           null,
           null,
           null,
           null,
           null,
           null,
           null,
           null,
           null,
           null,
           null,
           null,
           null,
           null,
           null,
           0.999,
           null,
           null,
           null,
           null,
           null,
           null,
           null,
           null,
           null,
           null,
           null,
           null,
           null,
           null,
           null,
           null,
           null,
           null,
           null,
           null,
           null,
           null,
           null,
           0.5,
           null,
           null,
           null,
           null,
           null,
           null,
           null,
           null,
           null,
           null,
           null,
           null,
           null,
           null,
           null,
           null,
           null,
           null,
           null,
           null,
           null,
           null,
           null,
           null,
           null,
           null,
           null,
           null,
           null,
           null,
           0.001,
           null,
           null,
           null,
           null,
           null,
           null,
           null,
           null,
           null,
           null,
           null,
           null,
           null,
           null,
           null,
           0.001,
           null,
           null,
           0.999,
           null,
           null,
           null,
           null,
           null,
           null,
           null,
           null,
           null,
           null,
           null,
           0.001,
           null,
           null,
           null,
           null,
           null,
           null,
           null,
           null,
           null,
           null,
           null,
           null,
           null,
           null,
           null,
           null,
           null,
           null,
           null,
           null,
           null,
           null,
           null,
           null,
           null,
           null,
           null,
           null,
           null,
           null,
           null,
           null,
           null,
           null,
           null,
           null,
           null,
           null,
           null,
           null,
           null,
           null,
           null,
           null,
           null,
           null,
           0.5,
           0.001,
           null,
           null,
           null,
           null,
           null,
           null,
           null,
           null,
           null,
           null,
           null,
           null,
           null,
           0.999,
           null,
           null,
           null,
           null,
           null,
           null,
           null,
           null,
           null,
           null,
           null,
           null,
           null,
           null,
           null,
           null,
           null,
           null,
           null,
           null,
           null,
           null,
           null,
           null,
           null,
           null,
           null,
           null,
           null,
           null,
           null,
           null,
           null,
           null,
           null,
           null,
           null,
           null,
           null,
           null,
           null,
           null,
           null,
           null,
           0.5,
           null,
           null,
           null,
           null,
           null,
           null,
           null,
           null,
           null,
           null,
           null,
           null,
           0.999,
           null,
           0.999,
           null,
           null,
           null,
           null,
           null,
           null,
           null,
           null,
           0.5,
           null,
           null,
           null,
           null,
           0.5,
           null,
           null,
           null,
           null,
           null,
           null,
           null,
           null,
           null,
           null,
           0.001,
           null,
           null,
           null,
           null,
           null,
           null,
           null,
           null,
           null,
           null,
           null,
           null,
           null,
           null,
           null,
           null,
           null,
           null,
           null,
           null,
           0.001,
           null,
           null,
           null,
           null,
           null,
           null,
           null,
           null,
           null,
           null,
           null,
           null,
           null,
           0.001,
           null,
           null,
           null,
           null,
           0.001,
           null,
           null,
           null,
           null,
           null,
           null,
           null,
           0.001,
           null,
           0.001,
           null,
           null,
           null,
           null,
           null,
           null,
           null,
           null,
           0.001,
           null,
           null,
           null,
           null,
           null,
           null,
           0.5,
           null,
           null,
           null,
           null,
           null,
           null,
           null,
           null,
           null,
           null,
           null,
           null,
           null,
           null,
           null,
           null,
           null,
           null,
           null,
           null,
           null,
           null,
           null,
           null,
           null,
           null,
           null,
           null,
           null,
           null,
           null,
           null,
           null,
           null,
           0.001,
           null,
           null,
           null,
           null,
           null,
           null,
           null,
           null,
           null,
           null,
           null,
           null,
           null,
           null,
           null,
           null,
           null,
           null,
           null,
           null,
           null,
           null,
           null,
           null,
           null,
           null,
           null,
           null,
           null,
           null,
           null,
           null,
           null,
           null,
           0.5,
           null,
           null,
           null,
           0.5,
           0.001,
           null,
           null,
           null,
           null,
           null,
           null,
           null,
           null,
           null,
           null,
           null,
           null,
           null,
           null,
           null,
           null,
           null,
           null,
           null,
           null,
           null,
           null,
           null,
           null,
           null,
           null,
           null,
           null,
           null,
           null,
           null,
           null,
           null,
           null,
           null,
           null,
           null,
           null,
           null,
           null,
           null,
           null,
           null,
           null,
           null,
           null,
           null,
           null,
           null,
           null,
           null,
           null,
           null,
           null,
           null,
           null,
           null,
           0.001,
           0.999
          ],
          "y": [
           null,
           null,
           null,
           null,
           null,
           null,
           null,
           null,
           null,
           null,
           null,
           null,
           null,
           null,
           null,
           null,
           null,
           null,
           null,
           null,
           null,
           null,
           0.01,
           null,
           null,
           null,
           null,
           null,
           null,
           null,
           null,
           null,
           null,
           null,
           null,
           null,
           null,
           null,
           null,
           null,
           null,
           null,
           null,
           null,
           null,
           null,
           null,
           null,
           null,
           null,
           null,
           null,
           null,
           null,
           null,
           null,
           null,
           null,
           0.01,
           null,
           null,
           null,
           null,
           null,
           null,
           null,
           null,
           null,
           null,
           null,
           null,
           null,
           null,
           null,
           null,
           null,
           null,
           null,
           null,
           null,
           null,
           null,
           0.7722222222222221,
           null,
           null,
           null,
           null,
           null,
           null,
           null,
           null,
           null,
           null,
           null,
           null,
           null,
           null,
           null,
           null,
           null,
           null,
           null,
           null,
           null,
           null,
           null,
           null,
           null,
           null,
           null,
           null,
           null,
           null,
           0.7286666666666666,
           null,
           null,
           null,
           null,
           null,
           null,
           null,
           null,
           null,
           null,
           null,
           null,
           null,
           null,
           null,
           0.9246666666666665,
           null,
           null,
           0.17333333333333334,
           null,
           null,
           null,
           null,
           null,
           null,
           null,
           null,
           null,
           null,
           null,
           0.46733333333333327,
           null,
           null,
           null,
           null,
           null,
           null,
           null,
           null,
           null,
           null,
           null,
           null,
           null,
           null,
           null,
           null,
           null,
           null,
           null,
           null,
           null,
           null,
           null,
           null,
           null,
           null,
           null,
           null,
           null,
           null,
           null,
           null,
           null,
           null,
           null,
           null,
           null,
           null,
           null,
           null,
           null,
           null,
           null,
           null,
           null,
           null,
           0.99,
           0.598,
           null,
           null,
           null,
           null,
           null,
           null,
           null,
           null,
           null,
           null,
           null,
           null,
           null,
           0.33666666666666667,
           null,
           null,
           null,
           null,
           null,
           null,
           null,
           null,
           null,
           null,
           null,
           null,
           null,
           null,
           null,
           null,
           null,
           null,
           null,
           null,
           null,
           null,
           null,
           null,
           null,
           null,
           null,
           null,
           null,
           null,
           null,
           null,
           null,
           null,
           null,
           null,
           null,
           null,
           null,
           null,
           null,
           null,
           null,
           null,
           0.11888888888888888,
           null,
           null,
           null,
           null,
           null,
           null,
           null,
           null,
           null,
           null,
           null,
           null,
           0.99,
           null,
           0.8266666666666667,
           null,
           null,
           null,
           null,
           null,
           null,
           null,
           null,
           0.6633333333333333,
           null,
           null,
           null,
           null,
           0.22777777777777777,
           null,
           null,
           null,
           null,
           null,
           null,
           null,
           null,
           null,
           null,
           0.33666666666666667,
           null,
           null,
           null,
           null,
           null,
           null,
           null,
           null,
           null,
           null,
           null,
           null,
           null,
           null,
           null,
           null,
           null,
           null,
           null,
           null,
           0.01,
           null,
           null,
           null,
           null,
           null,
           null,
           null,
           null,
           null,
           null,
           null,
           null,
           null,
           0.5326666666666666,
           null,
           null,
           null,
           null,
           0.2713333333333333,
           null,
           null,
           null,
           null,
           null,
           null,
           null,
           0.8593333333333333,
           null,
           0.14066666666666666,
           null,
           null,
           null,
           null,
           null,
           null,
           null,
           null,
           0.99,
           null,
           null,
           null,
           null,
           null,
           null,
           0.44555555555555554,
           null,
           null,
           null,
           null,
           null,
           null,
           null,
           null,
           null,
           null,
           null,
           null,
           null,
           null,
           null,
           null,
           null,
           null,
           null,
           null,
           null,
           null,
           null,
           null,
           null,
           null,
           null,
           null,
           null,
           null,
           null,
           null,
           null,
           null,
           0.6633333333333333,
           null,
           null,
           null,
           null,
           null,
           null,
           null,
           null,
           null,
           null,
           null,
           null,
           null,
           null,
           null,
           null,
           null,
           null,
           null,
           null,
           null,
           null,
           null,
           null,
           null,
           null,
           null,
           null,
           null,
           null,
           null,
           null,
           null,
           null,
           0.5544444444444444,
           null,
           null,
           null,
           0.8811111111111111,
           0.40199999999999997,
           null,
           null,
           null,
           null,
           null,
           null,
           null,
           null,
           null,
           null,
           null,
           null,
           null,
           null,
           null,
           null,
           null,
           null,
           null,
           null,
           null,
           null,
           null,
           null,
           null,
           null,
           null,
           null,
           null,
           null,
           null,
           null,
           null,
           null,
           null,
           null,
           null,
           null,
           null,
           null,
           null,
           null,
           null,
           null,
           null,
           null,
           null,
           null,
           null,
           null,
           null,
           null,
           null,
           null,
           null,
           null,
           null,
           0.7939999999999999,
           0.5
          ]
         },
         "valueformat": ".3f",
         "type": "sankey"
        }
       ],
       "layout": {
        "template": {
         "data": {
          "histogram2dcontour": [
           {
            "type": "histogram2dcontour",
            "colorbar": {
             "outlinewidth": 0,
             "ticks": ""
            },
            "colorscale": [
             [
              0.0,
              "#0d0887"
             ],
             [
              0.1111111111111111,
              "#46039f"
             ],
             [
              0.2222222222222222,
              "#7201a8"
             ],
             [
              0.3333333333333333,
              "#9c179e"
             ],
             [
              0.4444444444444444,
              "#bd3786"
             ],
             [
              0.5555555555555556,
              "#d8576b"
             ],
             [
              0.6666666666666666,
              "#ed7953"
             ],
             [
              0.7777777777777778,
              "#fb9f3a"
             ],
             [
              0.8888888888888888,
              "#fdca26"
             ],
             [
              1.0,
              "#f0f921"
             ]
            ]
           }
          ],
          "choropleth": [
           {
            "type": "choropleth",
            "colorbar": {
             "outlinewidth": 0,
             "ticks": ""
            }
           }
          ],
          "histogram2d": [
           {
            "type": "histogram2d",
            "colorbar": {
             "outlinewidth": 0,
             "ticks": ""
            },
            "colorscale": [
             [
              0.0,
              "#0d0887"
             ],
             [
              0.1111111111111111,
              "#46039f"
             ],
             [
              0.2222222222222222,
              "#7201a8"
             ],
             [
              0.3333333333333333,
              "#9c179e"
             ],
             [
              0.4444444444444444,
              "#bd3786"
             ],
             [
              0.5555555555555556,
              "#d8576b"
             ],
             [
              0.6666666666666666,
              "#ed7953"
             ],
             [
              0.7777777777777778,
              "#fb9f3a"
             ],
             [
              0.8888888888888888,
              "#fdca26"
             ],
             [
              1.0,
              "#f0f921"
             ]
            ]
           }
          ],
          "heatmap": [
           {
            "type": "heatmap",
            "colorbar": {
             "outlinewidth": 0,
             "ticks": ""
            },
            "colorscale": [
             [
              0.0,
              "#0d0887"
             ],
             [
              0.1111111111111111,
              "#46039f"
             ],
             [
              0.2222222222222222,
              "#7201a8"
             ],
             [
              0.3333333333333333,
              "#9c179e"
             ],
             [
              0.4444444444444444,
              "#bd3786"
             ],
             [
              0.5555555555555556,
              "#d8576b"
             ],
             [
              0.6666666666666666,
              "#ed7953"
             ],
             [
              0.7777777777777778,
              "#fb9f3a"
             ],
             [
              0.8888888888888888,
              "#fdca26"
             ],
             [
              1.0,
              "#f0f921"
             ]
            ]
           }
          ],
          "heatmapgl": [
           {
            "type": "heatmapgl",
            "colorbar": {
             "outlinewidth": 0,
             "ticks": ""
            },
            "colorscale": [
             [
              0.0,
              "#0d0887"
             ],
             [
              0.1111111111111111,
              "#46039f"
             ],
             [
              0.2222222222222222,
              "#7201a8"
             ],
             [
              0.3333333333333333,
              "#9c179e"
             ],
             [
              0.4444444444444444,
              "#bd3786"
             ],
             [
              0.5555555555555556,
              "#d8576b"
             ],
             [
              0.6666666666666666,
              "#ed7953"
             ],
             [
              0.7777777777777778,
              "#fb9f3a"
             ],
             [
              0.8888888888888888,
              "#fdca26"
             ],
             [
              1.0,
              "#f0f921"
             ]
            ]
           }
          ],
          "contourcarpet": [
           {
            "type": "contourcarpet",
            "colorbar": {
             "outlinewidth": 0,
             "ticks": ""
            }
           }
          ],
          "contour": [
           {
            "type": "contour",
            "colorbar": {
             "outlinewidth": 0,
             "ticks": ""
            },
            "colorscale": [
             [
              0.0,
              "#0d0887"
             ],
             [
              0.1111111111111111,
              "#46039f"
             ],
             [
              0.2222222222222222,
              "#7201a8"
             ],
             [
              0.3333333333333333,
              "#9c179e"
             ],
             [
              0.4444444444444444,
              "#bd3786"
             ],
             [
              0.5555555555555556,
              "#d8576b"
             ],
             [
              0.6666666666666666,
              "#ed7953"
             ],
             [
              0.7777777777777778,
              "#fb9f3a"
             ],
             [
              0.8888888888888888,
              "#fdca26"
             ],
             [
              1.0,
              "#f0f921"
             ]
            ]
           }
          ],
          "surface": [
           {
            "type": "surface",
            "colorbar": {
             "outlinewidth": 0,
             "ticks": ""
            },
            "colorscale": [
             [
              0.0,
              "#0d0887"
             ],
             [
              0.1111111111111111,
              "#46039f"
             ],
             [
              0.2222222222222222,
              "#7201a8"
             ],
             [
              0.3333333333333333,
              "#9c179e"
             ],
             [
              0.4444444444444444,
              "#bd3786"
             ],
             [
              0.5555555555555556,
              "#d8576b"
             ],
             [
              0.6666666666666666,
              "#ed7953"
             ],
             [
              0.7777777777777778,
              "#fb9f3a"
             ],
             [
              0.8888888888888888,
              "#fdca26"
             ],
             [
              1.0,
              "#f0f921"
             ]
            ]
           }
          ],
          "mesh3d": [
           {
            "type": "mesh3d",
            "colorbar": {
             "outlinewidth": 0,
             "ticks": ""
            }
           }
          ],
          "scatter": [
           {
            "marker": {
             "line": {
              "color": "#283442"
             }
            },
            "type": "scatter"
           }
          ],
          "parcoords": [
           {
            "type": "parcoords",
            "line": {
             "colorbar": {
              "outlinewidth": 0,
              "ticks": ""
             }
            }
           }
          ],
          "scatterpolargl": [
           {
            "type": "scatterpolargl",
            "marker": {
             "colorbar": {
              "outlinewidth": 0,
              "ticks": ""
             }
            }
           }
          ],
          "bar": [
           {
            "error_x": {
             "color": "#f2f5fa"
            },
            "error_y": {
             "color": "#f2f5fa"
            },
            "marker": {
             "line": {
              "color": "rgb(17,17,17)",
              "width": 0.5
             },
             "pattern": {
              "fillmode": "overlay",
              "size": 10,
              "solidity": 0.2
             }
            },
            "type": "bar"
           }
          ],
          "scattergeo": [
           {
            "type": "scattergeo",
            "marker": {
             "colorbar": {
              "outlinewidth": 0,
              "ticks": ""
             }
            }
           }
          ],
          "scatterpolar": [
           {
            "type": "scatterpolar",
            "marker": {
             "colorbar": {
              "outlinewidth": 0,
              "ticks": ""
             }
            }
           }
          ],
          "histogram": [
           {
            "marker": {
             "pattern": {
              "fillmode": "overlay",
              "size": 10,
              "solidity": 0.2
             }
            },
            "type": "histogram"
           }
          ],
          "scattergl": [
           {
            "marker": {
             "line": {
              "color": "#283442"
             }
            },
            "type": "scattergl"
           }
          ],
          "scatter3d": [
           {
            "type": "scatter3d",
            "line": {
             "colorbar": {
              "outlinewidth": 0,
              "ticks": ""
             }
            },
            "marker": {
             "colorbar": {
              "outlinewidth": 0,
              "ticks": ""
             }
            }
           }
          ],
          "scattermapbox": [
           {
            "type": "scattermapbox",
            "marker": {
             "colorbar": {
              "outlinewidth": 0,
              "ticks": ""
             }
            }
           }
          ],
          "scatterternary": [
           {
            "type": "scatterternary",
            "marker": {
             "colorbar": {
              "outlinewidth": 0,
              "ticks": ""
             }
            }
           }
          ],
          "scattercarpet": [
           {
            "type": "scattercarpet",
            "marker": {
             "colorbar": {
              "outlinewidth": 0,
              "ticks": ""
             }
            }
           }
          ],
          "carpet": [
           {
            "aaxis": {
             "endlinecolor": "#A2B1C6",
             "gridcolor": "#506784",
             "linecolor": "#506784",
             "minorgridcolor": "#506784",
             "startlinecolor": "#A2B1C6"
            },
            "baxis": {
             "endlinecolor": "#A2B1C6",
             "gridcolor": "#506784",
             "linecolor": "#506784",
             "minorgridcolor": "#506784",
             "startlinecolor": "#A2B1C6"
            },
            "type": "carpet"
           }
          ],
          "table": [
           {
            "cells": {
             "fill": {
              "color": "#506784"
             },
             "line": {
              "color": "rgb(17,17,17)"
             }
            },
            "header": {
             "fill": {
              "color": "#2a3f5f"
             },
             "line": {
              "color": "rgb(17,17,17)"
             }
            },
            "type": "table"
           }
          ],
          "barpolar": [
           {
            "marker": {
             "line": {
              "color": "rgb(17,17,17)",
              "width": 0.5
             },
             "pattern": {
              "fillmode": "overlay",
              "size": 10,
              "solidity": 0.2
             }
            },
            "type": "barpolar"
           }
          ],
          "pie": [
           {
            "automargin": true,
            "type": "pie"
           }
          ]
         },
         "layout": {
          "autotypenumbers": "strict",
          "colorway": [
           "#636efa",
           "#EF553B",
           "#00cc96",
           "#ab63fa",
           "#FFA15A",
           "#19d3f3",
           "#FF6692",
           "#B6E880",
           "#FF97FF",
           "#FECB52"
          ],
          "font": {
           "color": "#f2f5fa"
          },
          "hovermode": "closest",
          "hoverlabel": {
           "align": "left"
          },
          "paper_bgcolor": "rgb(17,17,17)",
          "plot_bgcolor": "rgb(17,17,17)",
          "polar": {
           "bgcolor": "rgb(17,17,17)",
           "angularaxis": {
            "gridcolor": "#506784",
            "linecolor": "#506784",
            "ticks": ""
           },
           "radialaxis": {
            "gridcolor": "#506784",
            "linecolor": "#506784",
            "ticks": ""
           }
          },
          "ternary": {
           "bgcolor": "rgb(17,17,17)",
           "aaxis": {
            "gridcolor": "#506784",
            "linecolor": "#506784",
            "ticks": ""
           },
           "baxis": {
            "gridcolor": "#506784",
            "linecolor": "#506784",
            "ticks": ""
           },
           "caxis": {
            "gridcolor": "#506784",
            "linecolor": "#506784",
            "ticks": ""
           }
          },
          "coloraxis": {
           "colorbar": {
            "outlinewidth": 0,
            "ticks": ""
           }
          },
          "colorscale": {
           "sequential": [
            [
             0.0,
             "#0d0887"
            ],
            [
             0.1111111111111111,
             "#46039f"
            ],
            [
             0.2222222222222222,
             "#7201a8"
            ],
            [
             0.3333333333333333,
             "#9c179e"
            ],
            [
             0.4444444444444444,
             "#bd3786"
            ],
            [
             0.5555555555555556,
             "#d8576b"
            ],
            [
             0.6666666666666666,
             "#ed7953"
            ],
            [
             0.7777777777777778,
             "#fb9f3a"
            ],
            [
             0.8888888888888888,
             "#fdca26"
            ],
            [
             1.0,
             "#f0f921"
            ]
           ],
           "sequentialminus": [
            [
             0.0,
             "#0d0887"
            ],
            [
             0.1111111111111111,
             "#46039f"
            ],
            [
             0.2222222222222222,
             "#7201a8"
            ],
            [
             0.3333333333333333,
             "#9c179e"
            ],
            [
             0.4444444444444444,
             "#bd3786"
            ],
            [
             0.5555555555555556,
             "#d8576b"
            ],
            [
             0.6666666666666666,
             "#ed7953"
            ],
            [
             0.7777777777777778,
             "#fb9f3a"
            ],
            [
             0.8888888888888888,
             "#fdca26"
            ],
            [
             1.0,
             "#f0f921"
            ]
           ],
           "diverging": [
            [
             0,
             "#8e0152"
            ],
            [
             0.1,
             "#c51b7d"
            ],
            [
             0.2,
             "#de77ae"
            ],
            [
             0.3,
             "#f1b6da"
            ],
            [
             0.4,
             "#fde0ef"
            ],
            [
             0.5,
             "#f7f7f7"
            ],
            [
             0.6,
             "#e6f5d0"
            ],
            [
             0.7,
             "#b8e186"
            ],
            [
             0.8,
             "#7fbc41"
            ],
            [
             0.9,
             "#4d9221"
            ],
            [
             1,
             "#276419"
            ]
           ]
          },
          "xaxis": {
           "gridcolor": "#283442",
           "linecolor": "#506784",
           "ticks": "",
           "title": {
            "standoff": 15
           },
           "zerolinecolor": "#283442",
           "automargin": true,
           "zerolinewidth": 2
          },
          "yaxis": {
           "gridcolor": "#283442",
           "linecolor": "#506784",
           "ticks": "",
           "title": {
            "standoff": 15
           },
           "zerolinecolor": "#283442",
           "automargin": true,
           "zerolinewidth": 2
          },
          "scene": {
           "xaxis": {
            "backgroundcolor": "rgb(17,17,17)",
            "gridcolor": "#506784",
            "linecolor": "#506784",
            "showbackground": true,
            "ticks": "",
            "zerolinecolor": "#C8D4E3",
            "gridwidth": 2
           },
           "yaxis": {
            "backgroundcolor": "rgb(17,17,17)",
            "gridcolor": "#506784",
            "linecolor": "#506784",
            "showbackground": true,
            "ticks": "",
            "zerolinecolor": "#C8D4E3",
            "gridwidth": 2
           },
           "zaxis": {
            "backgroundcolor": "rgb(17,17,17)",
            "gridcolor": "#506784",
            "linecolor": "#506784",
            "showbackground": true,
            "ticks": "",
            "zerolinecolor": "#C8D4E3",
            "gridwidth": 2
           }
          },
          "shapedefaults": {
           "line": {
            "color": "#f2f5fa"
           }
          },
          "annotationdefaults": {
           "arrowcolor": "#f2f5fa",
           "arrowhead": 0,
           "arrowwidth": 1
          },
          "geo": {
           "bgcolor": "rgb(17,17,17)",
           "landcolor": "rgb(17,17,17)",
           "subunitcolor": "#506784",
           "showland": true,
           "showlakes": true,
           "lakecolor": "rgb(17,17,17)"
          },
          "title": {
           "x": 0.05
          },
          "updatemenudefaults": {
           "bgcolor": "#506784",
           "borderwidth": 0
          },
          "sliderdefaults": {
           "bgcolor": "#C8D4E3",
           "borderwidth": 1,
           "bordercolor": "rgb(17,17,17)",
           "tickwidth": 0
          },
          "mapbox": {
           "style": "dark"
          }
         }
        },
        "margin": {
         "t": 10,
         "b": 10
        },
        "width": 1200,
        "height": 700,
        "font": {
         "size": 16
        }
       },
       "config": {
        "plotlyServerURL": "https://plot.ly"
       }
      },
      "text/html": "<div>                            <div id=\"202b52c5-f29f-4810-93b7-e2cc92097d8e\" class=\"plotly-graph-div\" style=\"height:700px; width:1200px;\"></div>            <script type=\"text/javascript\">                require([\"plotly\"], function(Plotly) {                    window.PLOTLYENV=window.PLOTLYENV || {};                                    if (document.getElementById(\"202b52c5-f29f-4810-93b7-e2cc92097d8e\")) {                    Plotly.newPlot(                        \"202b52c5-f29f-4810-93b7-e2cc92097d8e\",                        [{\"link\":{\"arrowlen\":30,\"source\":[3,144,113,331,3,291,0,191,3,312,326,432,0,275,0,341,350,0,129,0,431,392,3,0,4,4,4,1,392,339,341,1,312,357,427,1,432,192,291,113,4,82,4,350,22,251,326,331,144,490,280],\"target\":[132,0,0,0,58,0,82,3,264,0,0,0,357,3,251,0,0,427,0,280,3,0,266,22,264,266,491,191,1,1,1,275,1,4,4,431,1,1,1,1,206,4,132,1,4,4,1,1,1,1,4],\"value\":[45.59831254995071,0.0015211073948176,0.0111669449788802,0.0014824897176572,32.907939114484385,0.4187722365538067,0.0298085559148052,0.0344576951596147,56.06907574614019,34.83457060235125,0.0186115749648003,0.0093068601956546,0.3392510906676176,0.2504792283022525,0.0014352903344612,25.931319931233183,43.0291969269917,3.538428760807937,0.0111669449788802,0.0085477214184729,0.3378629622928173,2.069491283054049,104.55055909971888,0.2542753472732949,0.0713054478212091,111.2302584510618,0.2912858915423289,0.0092472396855558,0.5746391019819855,0.0563360664223442,9.220550369478802,0.2504792283022525,25.014517318854296,0.3392510906676176,3.538428760807937,0.3378629622928173,0.554231965934449,0.0133161114893076,1.2642707809405067,0.0017959158306214,0.1385579914836122,0.0298085559148052,68.42269761424944,59.66234410341311,0.2542753472732949,0.0014352903344612,0.1332172372627839,0.0013102414773885,0.0011332401575436,0.001100861867328,0.0085477214184729]},\"node\":{\"color\":[\"rgb(202, 123, 44)\",\"rgb(133, 26, 43)\",\"rgb(78, 173, 91)\",\"rgb(202, 123, 44)\",\"rgb(133, 26, 43)\",\"rgb(78, 173, 91)\",\"rgb(0,0,0)\",\"rgb(0,0,0)\",\"rgb(0,0,0)\",\"rgb(0,0,0)\",\"rgb(0,0,0)\",\"rgb(0,0,0)\",\"rgb(0,0,0)\",\"rgb(0,0,0)\",\"rgb(0,0,0)\",\"rgb(0,0,0)\",\"rgb(0,0,0)\",\"rgb(0,0,0)\",\"rgb(0,0,0)\",\"rgb(0,0,0)\",\"rgb(0,0,0)\",\"rgb(0,0,0)\",\"rgb(78, 173, 91)\",\"rgb(0,0,0)\",\"rgb(0,0,0)\",\"rgb(0,0,0)\",\"rgb(0,0,0)\",\"rgb(0,0,0)\",\"rgb(0,0,0)\",\"rgb(0,0,0)\",\"rgb(0,0,0)\",\"rgb(0,0,0)\",\"rgb(0,0,0)\",\"rgb(0,0,0)\",\"rgb(0,0,0)\",\"rgb(0,0,0)\",\"rgb(0,0,0)\",\"rgb(0,0,0)\",\"rgb(0,0,0)\",\"rgb(0,0,0)\",\"rgb(0,0,0)\",\"rgb(0,0,0)\",\"rgb(0,0,0)\",\"rgb(0,0,0)\",\"rgb(0,0,0)\",\"rgb(0,0,0)\",\"rgb(0,0,0)\",\"rgb(0,0,0)\",\"rgb(0,0,0)\",\"rgb(0,0,0)\",\"rgb(0,0,0)\",\"rgb(0,0,0)\",\"rgb(0,0,0)\",\"rgb(0,0,0)\",\"rgb(0,0,0)\",\"rgb(0,0,0)\",\"rgb(0,0,0)\",\"rgb(0,0,0)\",\"rgb(78, 173, 91)\",\"rgb(0,0,0)\",\"rgb(0,0,0)\",\"rgb(0,0,0)\",\"rgb(0,0,0)\",\"rgb(0,0,0)\",\"rgb(0,0,0)\",\"rgb(0,0,0)\",\"rgb(0,0,0)\",\"rgb(0,0,0)\",\"rgb(0,0,0)\",\"rgb(0,0,0)\",\"rgb(0,0,0)\",\"rgb(0,0,0)\",\"rgb(0,0,0)\",\"rgb(0,0,0)\",\"rgb(0,0,0)\",\"rgb(0,0,0)\",\"rgb(0,0,0)\",\"rgb(0,0,0)\",\"rgb(0,0,0)\",\"rgb(0,0,0)\",\"rgb(0,0,0)\",\"rgb(0,0,0)\",\"rgb(0,0,1)\",\"rgb(0,0,0)\",\"rgb(0,0,0)\",\"rgb(0,0,0)\",\"rgb(0,0,0)\",\"rgb(0,0,0)\",\"rgb(0,0,0)\",\"rgb(0,0,0)\",\"rgb(0,0,0)\",\"rgb(0,0,0)\",\"rgb(0,0,0)\",\"rgb(0,0,0)\",\"rgb(0,0,0)\",\"rgb(0,0,0)\",\"rgb(0,0,0)\",\"rgb(0,0,0)\",\"rgb(0,0,0)\",\"rgb(0,0,0)\",\"rgb(0,0,0)\",\"rgb(0,0,0)\",\"rgb(0,0,0)\",\"rgb(0,0,0)\",\"rgb(0,0,0)\",\"rgb(0,0,0)\",\"rgb(0,0,0)\",\"rgb(0,0,0)\",\"rgb(0,0,0)\",\"rgb(0,0,0)\",\"rgb(0,0,0)\",\"rgb(0,0,0)\",\"rgb(0,0,0)\",\"rgb(253, 50, 22)\",\"rgb(0,0,0)\",\"rgb(0,0,0)\",\"rgb(0,0,0)\",\"rgb(0,0,0)\",\"rgb(0,0,0)\",\"rgb(0,0,0)\",\"rgb(0,0,0)\",\"rgb(0,0,0)\",\"rgb(0,0,0)\",\"rgb(0,0,0)\",\"rgb(0,0,0)\",\"rgb(0,0,0)\",\"rgb(0,0,0)\",\"rgb(0,0,0)\",\"rgb(0,0,0)\",\"rgb(0, 254, 53)\",\"rgb(0,0,0)\",\"rgb(0,0,0)\",\"rgb(78, 173, 91)\",\"rgb(0,0,0)\",\"rgb(0,0,0)\",\"rgb(0,0,0)\",\"rgb(0,0,0)\",\"rgb(0,0,0)\",\"rgb(0,0,0)\",\"rgb(0,0,0)\",\"rgb(0,0,0)\",\"rgb(0,0,0)\",\"rgb(0,0,0)\",\"rgb(0,0,0)\",\"rgb(106, 118, 252)\",\"rgb(0,0,0)\",\"rgb(0,0,0)\",\"rgb(0,0,0)\",\"rgb(0,0,0)\",\"rgb(0,0,0)\",\"rgb(0,0,0)\",\"rgb(0,0,0)\",\"rgb(0,0,0)\",\"rgb(0,0,0)\",\"rgb(0,0,0)\",\"rgb(0,0,0)\",\"rgb(0,0,0)\",\"rgb(0,0,0)\",\"rgb(0,0,0)\",\"rgb(0,0,0)\",\"rgb(0,0,0)\",\"rgb(0,0,0)\",\"rgb(0,0,0)\",\"rgb(0,0,0)\",\"rgb(0,0,0)\",\"rgb(0,0,0)\",\"rgb(0,0,0)\",\"rgb(0,0,0)\",\"rgb(0,0,0)\",\"rgb(0,0,0)\",\"rgb(0,0,0)\",\"rgb(0,0,0)\",\"rgb(0,0,0)\",\"rgb(0,0,0)\",\"rgb(0,0,0)\",\"rgb(0,0,0)\",\"rgb(0,0,0)\",\"rgb(0,0,0)\",\"rgb(0,0,0)\",\"rgb(0,0,0)\",\"rgb(0,0,0)\",\"rgb(0,0,0)\",\"rgb(0,0,0)\",\"rgb(0,0,0)\",\"rgb(0,0,0)\",\"rgb(0,0,0)\",\"rgb(0,0,0)\",\"rgb(0,0,0)\",\"rgb(0,0,0)\",\"rgb(0,0,0)\",\"rgb(0,0,0)\",\"rgb(254, 212, 196)\",\"rgb(254, 0, 206)\",\"rgb(0,0,0)\",\"rgb(0,0,0)\",\"rgb(0,0,0)\",\"rgb(0,0,0)\",\"rgb(0,0,0)\",\"rgb(0,0,0)\",\"rgb(0,0,0)\",\"rgb(0,0,0)\",\"rgb(0,0,0)\",\"rgb(0,0,0)\",\"rgb(0,0,0)\",\"rgb(0,0,0)\",\"rgb(0,0,0)\",\"rgb(78, 173, 91)\",\"rgb(0,0,0)\",\"rgb(0,0,0)\",\"rgb(0,0,0)\",\"rgb(0,0,0)\",\"rgb(0,0,0)\",\"rgb(0,0,0)\",\"rgb(0,0,0)\",\"rgb(0,0,0)\",\"rgb(0,0,0)\",\"rgb(0,0,0)\",\"rgb(0,0,0)\",\"rgb(0,0,0)\",\"rgb(0,0,0)\",\"rgb(0,0,0)\",\"rgb(0,0,0)\",\"rgb(0,0,0)\",\"rgb(0,0,0)\",\"rgb(0,0,0)\",\"rgb(0,0,0)\",\"rgb(0,0,0)\",\"rgb(0,0,0)\",\"rgb(0,0,0)\",\"rgb(0,0,0)\",\"rgb(0,0,0)\",\"rgb(0,0,0)\",\"rgb(0,0,0)\",\"rgb(0,0,0)\",\"rgb(0,0,0)\",\"rgb(0,0,0)\",\"rgb(0,0,0)\",\"rgb(0,0,0)\",\"rgb(0,0,0)\",\"rgb(0,0,0)\",\"rgb(0,0,0)\",\"rgb(0,0,0)\",\"rgb(0,0,0)\",\"rgb(0,0,0)\",\"rgb(0,0,0)\",\"rgb(0,0,0)\",\"rgb(0,0,0)\",\"rgb(0,0,0)\",\"rgb(0,0,0)\",\"rgb(0,0,0)\",\"rgb(0,0,0)\",\"rgb(78, 173, 91)\",\"rgb(0,0,0)\",\"rgb(0,0,0)\",\"rgb(0,0,0)\",\"rgb(0,0,0)\",\"rgb(0,0,0)\",\"rgb(0,0,0)\",\"rgb(0,0,0)\",\"rgb(0,0,0)\",\"rgb(0,0,0)\",\"rgb(0,0,0)\",\"rgb(0,0,0)\",\"rgb(0,0,0)\",\"rgb(13, 249, 255)\",\"rgb(0,0,0)\",\"rgb(246, 249, 38)\",\"rgb(0,0,0)\",\"rgb(0,0,0)\",\"rgb(0,0,0)\",\"rgb(0,0,0)\",\"rgb(0,0,0)\",\"rgb(0,0,0)\",\"rgb(0,0,0)\",\"rgb(0,0,0)\",\"rgb(0,0,1)\",\"rgb(0,0,0)\",\"rgb(0,0,0)\",\"rgb(0,0,0)\",\"rgb(0,0,0)\",\"rgb(78, 173, 91)\",\"rgb(0,0,0)\",\"rgb(0,0,0)\",\"rgb(0,0,0)\",\"rgb(0,0,0)\",\"rgb(0,0,0)\",\"rgb(0,0,0)\",\"rgb(0,0,0)\",\"rgb(0,0,0)\",\"rgb(0,0,0)\",\"rgb(0,0,0)\",\"rgb(255, 150, 22)\",\"rgb(0,0,0)\",\"rgb(0,0,0)\",\"rgb(0,0,0)\",\"rgb(0,0,0)\",\"rgb(0,0,0)\",\"rgb(0,0,0)\",\"rgb(0,0,0)\",\"rgb(0,0,0)\",\"rgb(0,0,0)\",\"rgb(0,0,0)\",\"rgb(0,0,0)\",\"rgb(0,0,0)\",\"rgb(0,0,0)\",\"rgb(0,0,0)\",\"rgb(0,0,0)\",\"rgb(0,0,0)\",\"rgb(0,0,0)\",\"rgb(0,0,0)\",\"rgb(0,0,0)\",\"rgb(0,0,0)\",\"rgb(78, 173, 91)\",\"rgb(0,0,0)\",\"rgb(0,0,0)\",\"rgb(0,0,0)\",\"rgb(0,0,0)\",\"rgb(0,0,0)\",\"rgb(0,0,0)\",\"rgb(0,0,0)\",\"rgb(0,0,0)\",\"rgb(0,0,0)\",\"rgb(0,0,0)\",\"rgb(0,0,0)\",\"rgb(0,0,0)\",\"rgb(0,0,0)\",\"rgb(71, 155, 85)\",\"rgb(0,0,0)\",\"rgb(0,0,0)\",\"rgb(0,0,0)\",\"rgb(0,0,0)\",\"rgb(238, 166, 251)\",\"rgb(0,0,0)\",\"rgb(0,0,0)\",\"rgb(0,0,0)\",\"rgb(0,0,0)\",\"rgb(0,0,0)\",\"rgb(0,0,0)\",\"rgb(0,0,0)\",\"rgb(220, 88, 125)\",\"rgb(0,0,0)\",\"rgb(202, 123, 44)\",\"rgb(0,0,0)\",\"rgb(0,0,0)\",\"rgb(0,0,0)\",\"rgb(0,0,0)\",\"rgb(0,0,0)\",\"rgb(0,0,0)\",\"rgb(0,0,0)\",\"rgb(0,0,0)\",\"rgb(214, 38, 255)\",\"rgb(0,0,0)\",\"rgb(0,0,0)\",\"rgb(0,0,0)\",\"rgb(0,0,0)\",\"rgb(0,0,0)\",\"rgb(0,0,0)\",\"rgb(0,0,1)\",\"rgb(0,0,0)\",\"rgb(0,0,0)\",\"rgb(0,0,0)\",\"rgb(0,0,0)\",\"rgb(0,0,0)\",\"rgb(0,0,0)\",\"rgb(0,0,0)\",\"rgb(0,0,0)\",\"rgb(0,0,0)\",\"rgb(0,0,0)\",\"rgb(0,0,0)\",\"rgb(0,0,0)\",\"rgb(0,0,0)\",\"rgb(0,0,0)\",\"rgb(0,0,0)\",\"rgb(0,0,0)\",\"rgb(0,0,0)\",\"rgb(0,0,0)\",\"rgb(0,0,0)\",\"rgb(0,0,0)\",\"rgb(0,0,0)\",\"rgb(0,0,0)\",\"rgb(0,0,0)\",\"rgb(0,0,0)\",\"rgb(0,0,0)\",\"rgb(0,0,0)\",\"rgb(0,0,0)\",\"rgb(0,0,0)\",\"rgb(0,0,0)\",\"rgb(0,0,0)\",\"rgb(0,0,0)\",\"rgb(0,0,0)\",\"rgb(0,0,0)\",\"rgb(0,0,0)\",\"rgb(110, 137, 156)\",\"rgb(0,0,0)\",\"rgb(0,0,0)\",\"rgb(0,0,0)\",\"rgb(0,0,0)\",\"rgb(0,0,0)\",\"rgb(0,0,0)\",\"rgb(0,0,0)\",\"rgb(0,0,0)\",\"rgb(0,0,0)\",\"rgb(0,0,0)\",\"rgb(0,0,0)\",\"rgb(0,0,0)\",\"rgb(0,0,0)\",\"rgb(0,0,0)\",\"rgb(0,0,0)\",\"rgb(0,0,0)\",\"rgb(0,0,0)\",\"rgb(0,0,0)\",\"rgb(0,0,0)\",\"rgb(0,0,0)\",\"rgb(0,0,0)\",\"rgb(0,0,0)\",\"rgb(0,0,0)\",\"rgb(0,0,0)\",\"rgb(0,0,0)\",\"rgb(0,0,0)\",\"rgb(0,0,0)\",\"rgb(0,0,0)\",\"rgb(0,0,0)\",\"rgb(0,0,0)\",\"rgb(0,0,0)\",\"rgb(0,0,0)\",\"rgb(0,0,0)\",\"rgb(0,0,0)\",\"rgb(0,0,1)\",\"rgb(0,0,0)\",\"rgb(0,0,0)\",\"rgb(0,0,0)\",\"rgb(0, 181, 247)\",\"rgb(182, 142, 0)\",\"rgb(0,0,0)\",\"rgb(0,0,0)\",\"rgb(0,0,0)\",\"rgb(0,0,0)\",\"rgb(0,0,0)\",\"rgb(0,0,0)\",\"rgb(0,0,0)\",\"rgb(0,0,0)\",\"rgb(0,0,0)\",\"rgb(0,0,0)\",\"rgb(0,0,0)\",\"rgb(0,0,0)\",\"rgb(0,0,0)\",\"rgb(0,0,0)\",\"rgb(0,0,0)\",\"rgb(0,0,0)\",\"rgb(0,0,0)\",\"rgb(0,0,0)\",\"rgb(0,0,0)\",\"rgb(0,0,0)\",\"rgb(0,0,0)\",\"rgb(0,0,0)\",\"rgb(0,0,0)\",\"rgb(0,0,0)\",\"rgb(0,0,0)\",\"rgb(0,0,0)\",\"rgb(0,0,0)\",\"rgb(0,0,0)\",\"rgb(0,0,0)\",\"rgb(0,0,0)\",\"rgb(0,0,0)\",\"rgb(0,0,0)\",\"rgb(0,0,0)\",\"rgb(0,0,0)\",\"rgb(0,0,0)\",\"rgb(0,0,0)\",\"rgb(0,0,0)\",\"rgb(0,0,0)\",\"rgb(0,0,0)\",\"rgb(0,0,0)\",\"rgb(0,0,0)\",\"rgb(0,0,0)\",\"rgb(0,0,0)\",\"rgb(0,0,0)\",\"rgb(0,0,0)\",\"rgb(0,0,0)\",\"rgb(0,0,0)\",\"rgb(0,0,0)\",\"rgb(0,0,0)\",\"rgb(0,0,0)\",\"rgb(0,0,0)\",\"rgb(0,0,0)\",\"rgb(0,0,0)\",\"rgb(0,0,0)\",\"rgb(0,0,0)\",\"rgb(0,0,0)\",\"rgb(0,0,0)\",\"rgb(201, 251, 229)\",\"rgb(78, 173, 91)\"],\"label\":[\"Azotobacter\",\"Rhodosporidium\",\"medium\",\"Azotobacter\",\"Rhodosporidium\",\"medium\",\"12ppd__R\",\"12ppd__S\",\"13BDglcn\",\"14glucan\",\"15dap\",\"23camp\",\"23ccmp\",\"23cgmp\",\"23cump\",\"23dappa\",\"26dap__M\",\"2ddglcn\",\"2dglc\",\"2doxg6p\",\"2hb\",\"2hxmp\",\"2obut\",\"2pg\",\"34dhpac\",\"35ccmp\",\"35cgmp\",\"3amp\",\"3cmp\",\"3gmp\",\"3hcinnm\",\"3hpp\",\"3hpppn\",\"3pg\",\"3sala\",\"3ump\",\"4abut\",\"4abz\",\"4abzglu\",\"4hbz\",\"4hoxpacd\",\"4hphac\",\"5adtststeroneglc\",\"5aop\",\"5aptn\",\"5dglcn\",\"5flura\",\"5mtr\",\"6mpur\",\"6pgc\",\"LalaDglu\",\"LalaDgluMdap\",\"LalaDgluMdapDala\",\"LalaLglu\",\"Lcyst\",\"T4hcinnm\",\"abt\",\"abt__D\",\"ac\",\"acac\",\"acald\",\"acgal\",\"acgal1p\",\"acgam\",\"acgam1p\",\"acglu\",\"ach\",\"acmana\",\"acmum\",\"acnam\",\"acolipa\",\"acon_C\",\"acser\",\"ad\",\"ade\",\"adn\",\"adocbl\",\"ag\",\"agm\",\"ahandrostanglc\",\"akg\",\"ala_B\",\"ala__D\",\"ala__L\",\"alaala\",\"alg\",\"all__D\",\"alltn\",\"alltt\",\"amet\",\"amp\",\"andrstrnglc\",\"anhgm\",\"arab__D\",\"arab__L\",\"arach\",\"arbt\",\"arbtn\",\"arbtn_fe3\",\"arg__L\",\"ascb__L\",\"asn__L\",\"aso3\",\"asp__D\",\"asp__L\",\"bhb\",\"bildglcur\",\"bilglcur\",\"btd_RR\",\"btn\",\"but\",\"butso3\",\"bz\",\"ca2\",\"camp\",\"cbi\",\"cbl1\",\"cbp\",\"cd2\",\"cellb\",\"cgly\",\"ch4\",\"chol\",\"cholate\",\"cholp\",\"chtbs\",\"chtn\",\"cit\",\"citr__L\",\"cl\",\"cm\",\"cmp\",\"co2\",\"cobalt2\",\"colipa\",\"colipacy\",\"colipap\",\"cpgn\",\"cpgn_un\",\"crn\",\"crn__D\",\"cs1\",\"csn\",\"cu\",\"cu2\",\"cyan\",\"cynt\",\"cys__D\",\"cys__L\",\"cysi__L\",\"cyst__L\",\"cytd\",\"dad_2\",\"damp\",\"dca\",\"dcmp\",\"dcyt\",\"ddca\",\"dgmp\",\"dgsn\",\"dha\",\"dhdascb\",\"dhps\",\"dimp\",\"din\",\"dms\",\"dmso\",\"docosac\",\"dopa\",\"doxrbcn\",\"drib\",\"dtmp\",\"dump\",\"duri\",\"dxylnt\",\"eca4colipa\",\"enlipa\",\"enter\",\"epist\",\"ergst\",\"estradiolglc\",\"estriolglc\",\"estroneglc\",\"etha\",\"ethamp\",\"ethso3\",\"etoh\",\"f\",\"f6p\",\"fad\",\"fald\",\"fe2\",\"fe3\",\"fe3dcit\",\"fe3dhbzs\",\"fe3hox\",\"fe3hox_un\",\"fecost\",\"fecrm\",\"fecrm_un\",\"feenter\",\"feoxam\",\"feoxam_un\",\"fer\",\"fmn\",\"fol\",\"for\",\"frmd\",\"fru\",\"frulys\",\"fruur\",\"fuc__L\",\"fum\",\"fusa\",\"g1p\",\"g3pc\",\"g3pe\",\"g3pg\",\"g3pi\",\"g3ps\",\"g6p\",\"gal\",\"gal1p\",\"gal_bD\",\"galct__D\",\"galctn__D\",\"galctn__L\",\"galt\",\"galur\",\"gam\",\"gam6p\",\"gbbtn\",\"gchola\",\"gdp\",\"ghb\",\"glc__D\",\"glcn\",\"glcr\",\"glcur\",\"glcur1p\",\"gln__L\",\"glu__L\",\"gluala\",\"glx\",\"gly\",\"glyald\",\"glyb\",\"glyc\",\"glyc2p\",\"glyc3p\",\"glyc__R\",\"glyclt\",\"glycogen\",\"glygn2\",\"glygn4\",\"gm1lipa\",\"gm2lipa\",\"gmp\",\"gsn\",\"gthox\",\"gthrd\",\"gtp\",\"gua\",\"gxl\",\"h\",\"h2\",\"h2o\",\"h2o2\",\"h2s\",\"hacolipa\",\"halipa\",\"hco3\",\"hdca\",\"hdcea\",\"hg2\",\"his__L\",\"hista\",\"hom__L\",\"hpdca\",\"hqn\",\"hxa\",\"hxan\",\"hyptaur\",\"idon__L\",\"ile__L\",\"imp\",\"ind3eth\",\"indole\",\"inost\",\"ins\",\"isetac\",\"k\",\"kdo2lipid4\",\"lac__D\",\"lac__L\",\"lanost\",\"lcts\",\"leu__L\",\"lipa\",\"lipa_cold\",\"lipoate\",\"lnlncg\",\"lys__L\",\"lyx__L\",\"mal__D\",\"mal__L\",\"malon\",\"malt\",\"malthx\",\"maltpt\",\"malttr\",\"maltttr\",\"man\",\"man1p\",\"man6p\",\"manglyc\",\"mannan\",\"mbdg\",\"melib\",\"meoh\",\"mepn\",\"met__D\",\"met__L\",\"metglcur\",\"metsox_R__L\",\"metsox_S__L\",\"mg2\",\"mincyc\",\"minohp\",\"mma\",\"mmet\",\"mn2\",\"mnl\",\"mobd\",\"mso3\",\"mthgxl\",\"mththf\",\"n2\",\"n2o\",\"na1\",\"nac\",\"nh4\",\"ni2\",\"nmn\",\"no\",\"no2\",\"no3\",\"novbcn\",\"nrvnc\",\"o16a4colipa\",\"o2\",\"o2s\",\"ocdca\",\"ocdcea\",\"ocdcya\",\"octa\",\"oh1\",\"orn\",\"orot\",\"oxa\",\"pacald\",\"pail1819Z160\",\"pc_RT\",\"pe1801819Z\",\"pe1801829Z12Z\",\"pe1819Z1819Z\",\"pe1819Z1829Z12Z\",\"pe_RT\",\"peamn\",\"pectin\",\"pep\",\"pepd\",\"pg1819Z160\",\"pgp1819Z160\",\"phe__L\",\"pheme\",\"phenol\",\"photon410\",\"photon430\",\"photon450\",\"photon470\",\"photon490\",\"photon510\",\"photon530\",\"photon550\",\"photon570\",\"photon590\",\"photon610\",\"photon630\",\"photon650\",\"photon670\",\"photon690\",\"pi\",\"pnto__R\",\"ppa\",\"ppal\",\"ppi\",\"pppi\",\"pppn\",\"ppt\",\"pro__D\",\"pro__L\",\"progly\",\"prostge1\",\"prostge2\",\"psclys\",\"pser__L\",\"psuri\",\"ptd1ino_RT\",\"ptrc\",\"pydam\",\"pydx\",\"pydxn\",\"pyr\",\"quin\",\"r5p\",\"raffin\",\"rbl__D\",\"rbt\",\"rfamp\",\"rib__D\",\"ribflv\",\"rmn\",\"salcn\",\"sbt__D\",\"sel\",\"ser__D\",\"ser__L\",\"skm\",\"slnt\",\"so2\",\"so3\",\"so4\",\"spmd\",\"sprm\",\"sq\",\"srb__L\",\"strch1\",\"strch2\",\"succ\",\"sucr\",\"sulfac\",\"tartr__D\",\"tartr__L\",\"taur\",\"tchola\",\"tcynt\",\"tega\",\"tgua\",\"thm\",\"thmmp\",\"thmpp\",\"thr__L\",\"thrp\",\"thym\",\"thymd\",\"tma\",\"tmao\",\"tre\",\"trp__L\",\"tststeroneglc\",\"tsul\",\"ttc\",\"ttdca\",\"ttdcea\",\"ttrcyc\",\"tungs\",\"tym\",\"tyr__L\",\"tyrp\",\"uacgam\",\"udcpdp\",\"udcpp\",\"udpacgal\",\"udpg\",\"udpgal\",\"udpglcur\",\"ump\",\"ura\",\"urate\",\"urea\",\"uri\",\"val__L\",\"xan\",\"xmp\",\"xtsn\",\"xyl__D\",\"xylt\",\"xylu__D\",\"xylu__L\",\"zn2\",\"zymst\"],\"pad\":15,\"thickness\":30,\"x\":[0.25,0.25,0.25,0.75,0.75,0.75,null,null,null,null,null,null,null,null,null,null,null,null,null,null,null,null,0.5,null,null,null,null,null,null,null,null,null,null,null,null,null,null,null,null,null,null,null,null,null,null,null,null,null,null,null,null,null,null,null,null,null,null,null,0.999,null,null,null,null,null,null,null,null,null,null,null,null,null,null,null,null,null,null,null,null,null,null,null,0.5,null,null,null,null,null,null,null,null,null,null,null,null,null,null,null,null,null,null,null,null,null,null,null,null,null,null,null,null,null,null,0.001,null,null,null,null,null,null,null,null,null,null,null,null,null,null,null,0.001,null,null,0.999,null,null,null,null,null,null,null,null,null,null,null,0.001,null,null,null,null,null,null,null,null,null,null,null,null,null,null,null,null,null,null,null,null,null,null,null,null,null,null,null,null,null,null,null,null,null,null,null,null,null,null,null,null,null,null,null,null,null,null,0.5,0.001,null,null,null,null,null,null,null,null,null,null,null,null,null,0.999,null,null,null,null,null,null,null,null,null,null,null,null,null,null,null,null,null,null,null,null,null,null,null,null,null,null,null,null,null,null,null,null,null,null,null,null,null,null,null,null,null,null,null,null,0.5,null,null,null,null,null,null,null,null,null,null,null,null,0.999,null,0.999,null,null,null,null,null,null,null,null,0.5,null,null,null,null,0.5,null,null,null,null,null,null,null,null,null,null,0.001,null,null,null,null,null,null,null,null,null,null,null,null,null,null,null,null,null,null,null,null,0.001,null,null,null,null,null,null,null,null,null,null,null,null,null,0.001,null,null,null,null,0.001,null,null,null,null,null,null,null,0.001,null,0.001,null,null,null,null,null,null,null,null,0.001,null,null,null,null,null,null,0.5,null,null,null,null,null,null,null,null,null,null,null,null,null,null,null,null,null,null,null,null,null,null,null,null,null,null,null,null,null,null,null,null,null,null,0.001,null,null,null,null,null,null,null,null,null,null,null,null,null,null,null,null,null,null,null,null,null,null,null,null,null,null,null,null,null,null,null,null,null,null,0.5,null,null,null,0.5,0.001,null,null,null,null,null,null,null,null,null,null,null,null,null,null,null,null,null,null,null,null,null,null,null,null,null,null,null,null,null,null,null,null,null,null,null,null,null,null,null,null,null,null,null,null,null,null,null,null,null,null,null,null,null,null,null,null,null,0.001,0.999],\"y\":[null,null,null,null,null,null,null,null,null,null,null,null,null,null,null,null,null,null,null,null,null,null,0.01,null,null,null,null,null,null,null,null,null,null,null,null,null,null,null,null,null,null,null,null,null,null,null,null,null,null,null,null,null,null,null,null,null,null,null,0.01,null,null,null,null,null,null,null,null,null,null,null,null,null,null,null,null,null,null,null,null,null,null,null,0.7722222222222221,null,null,null,null,null,null,null,null,null,null,null,null,null,null,null,null,null,null,null,null,null,null,null,null,null,null,null,null,null,null,0.7286666666666666,null,null,null,null,null,null,null,null,null,null,null,null,null,null,null,0.9246666666666665,null,null,0.17333333333333334,null,null,null,null,null,null,null,null,null,null,null,0.46733333333333327,null,null,null,null,null,null,null,null,null,null,null,null,null,null,null,null,null,null,null,null,null,null,null,null,null,null,null,null,null,null,null,null,null,null,null,null,null,null,null,null,null,null,null,null,null,null,0.99,0.598,null,null,null,null,null,null,null,null,null,null,null,null,null,0.33666666666666667,null,null,null,null,null,null,null,null,null,null,null,null,null,null,null,null,null,null,null,null,null,null,null,null,null,null,null,null,null,null,null,null,null,null,null,null,null,null,null,null,null,null,null,null,0.11888888888888888,null,null,null,null,null,null,null,null,null,null,null,null,0.99,null,0.8266666666666667,null,null,null,null,null,null,null,null,0.6633333333333333,null,null,null,null,0.22777777777777777,null,null,null,null,null,null,null,null,null,null,0.33666666666666667,null,null,null,null,null,null,null,null,null,null,null,null,null,null,null,null,null,null,null,null,0.01,null,null,null,null,null,null,null,null,null,null,null,null,null,0.5326666666666666,null,null,null,null,0.2713333333333333,null,null,null,null,null,null,null,0.8593333333333333,null,0.14066666666666666,null,null,null,null,null,null,null,null,0.99,null,null,null,null,null,null,0.44555555555555554,null,null,null,null,null,null,null,null,null,null,null,null,null,null,null,null,null,null,null,null,null,null,null,null,null,null,null,null,null,null,null,null,null,null,0.6633333333333333,null,null,null,null,null,null,null,null,null,null,null,null,null,null,null,null,null,null,null,null,null,null,null,null,null,null,null,null,null,null,null,null,null,null,0.5544444444444444,null,null,null,0.8811111111111111,0.40199999999999997,null,null,null,null,null,null,null,null,null,null,null,null,null,null,null,null,null,null,null,null,null,null,null,null,null,null,null,null,null,null,null,null,null,null,null,null,null,null,null,null,null,null,null,null,null,null,null,null,null,null,null,null,null,null,null,null,null,0.7939999999999999,0.5]},\"valueformat\":\".3f\",\"type\":\"sankey\"}],                        {\"template\":{\"data\":{\"histogram2dcontour\":[{\"type\":\"histogram2dcontour\",\"colorbar\":{\"outlinewidth\":0,\"ticks\":\"\"},\"colorscale\":[[0.0,\"#0d0887\"],[0.1111111111111111,\"#46039f\"],[0.2222222222222222,\"#7201a8\"],[0.3333333333333333,\"#9c179e\"],[0.4444444444444444,\"#bd3786\"],[0.5555555555555556,\"#d8576b\"],[0.6666666666666666,\"#ed7953\"],[0.7777777777777778,\"#fb9f3a\"],[0.8888888888888888,\"#fdca26\"],[1.0,\"#f0f921\"]]}],\"choropleth\":[{\"type\":\"choropleth\",\"colorbar\":{\"outlinewidth\":0,\"ticks\":\"\"}}],\"histogram2d\":[{\"type\":\"histogram2d\",\"colorbar\":{\"outlinewidth\":0,\"ticks\":\"\"},\"colorscale\":[[0.0,\"#0d0887\"],[0.1111111111111111,\"#46039f\"],[0.2222222222222222,\"#7201a8\"],[0.3333333333333333,\"#9c179e\"],[0.4444444444444444,\"#bd3786\"],[0.5555555555555556,\"#d8576b\"],[0.6666666666666666,\"#ed7953\"],[0.7777777777777778,\"#fb9f3a\"],[0.8888888888888888,\"#fdca26\"],[1.0,\"#f0f921\"]]}],\"heatmap\":[{\"type\":\"heatmap\",\"colorbar\":{\"outlinewidth\":0,\"ticks\":\"\"},\"colorscale\":[[0.0,\"#0d0887\"],[0.1111111111111111,\"#46039f\"],[0.2222222222222222,\"#7201a8\"],[0.3333333333333333,\"#9c179e\"],[0.4444444444444444,\"#bd3786\"],[0.5555555555555556,\"#d8576b\"],[0.6666666666666666,\"#ed7953\"],[0.7777777777777778,\"#fb9f3a\"],[0.8888888888888888,\"#fdca26\"],[1.0,\"#f0f921\"]]}],\"heatmapgl\":[{\"type\":\"heatmapgl\",\"colorbar\":{\"outlinewidth\":0,\"ticks\":\"\"},\"colorscale\":[[0.0,\"#0d0887\"],[0.1111111111111111,\"#46039f\"],[0.2222222222222222,\"#7201a8\"],[0.3333333333333333,\"#9c179e\"],[0.4444444444444444,\"#bd3786\"],[0.5555555555555556,\"#d8576b\"],[0.6666666666666666,\"#ed7953\"],[0.7777777777777778,\"#fb9f3a\"],[0.8888888888888888,\"#fdca26\"],[1.0,\"#f0f921\"]]}],\"contourcarpet\":[{\"type\":\"contourcarpet\",\"colorbar\":{\"outlinewidth\":0,\"ticks\":\"\"}}],\"contour\":[{\"type\":\"contour\",\"colorbar\":{\"outlinewidth\":0,\"ticks\":\"\"},\"colorscale\":[[0.0,\"#0d0887\"],[0.1111111111111111,\"#46039f\"],[0.2222222222222222,\"#7201a8\"],[0.3333333333333333,\"#9c179e\"],[0.4444444444444444,\"#bd3786\"],[0.5555555555555556,\"#d8576b\"],[0.6666666666666666,\"#ed7953\"],[0.7777777777777778,\"#fb9f3a\"],[0.8888888888888888,\"#fdca26\"],[1.0,\"#f0f921\"]]}],\"surface\":[{\"type\":\"surface\",\"colorbar\":{\"outlinewidth\":0,\"ticks\":\"\"},\"colorscale\":[[0.0,\"#0d0887\"],[0.1111111111111111,\"#46039f\"],[0.2222222222222222,\"#7201a8\"],[0.3333333333333333,\"#9c179e\"],[0.4444444444444444,\"#bd3786\"],[0.5555555555555556,\"#d8576b\"],[0.6666666666666666,\"#ed7953\"],[0.7777777777777778,\"#fb9f3a\"],[0.8888888888888888,\"#fdca26\"],[1.0,\"#f0f921\"]]}],\"mesh3d\":[{\"type\":\"mesh3d\",\"colorbar\":{\"outlinewidth\":0,\"ticks\":\"\"}}],\"scatter\":[{\"marker\":{\"line\":{\"color\":\"#283442\"}},\"type\":\"scatter\"}],\"parcoords\":[{\"type\":\"parcoords\",\"line\":{\"colorbar\":{\"outlinewidth\":0,\"ticks\":\"\"}}}],\"scatterpolargl\":[{\"type\":\"scatterpolargl\",\"marker\":{\"colorbar\":{\"outlinewidth\":0,\"ticks\":\"\"}}}],\"bar\":[{\"error_x\":{\"color\":\"#f2f5fa\"},\"error_y\":{\"color\":\"#f2f5fa\"},\"marker\":{\"line\":{\"color\":\"rgb(17,17,17)\",\"width\":0.5},\"pattern\":{\"fillmode\":\"overlay\",\"size\":10,\"solidity\":0.2}},\"type\":\"bar\"}],\"scattergeo\":[{\"type\":\"scattergeo\",\"marker\":{\"colorbar\":{\"outlinewidth\":0,\"ticks\":\"\"}}}],\"scatterpolar\":[{\"type\":\"scatterpolar\",\"marker\":{\"colorbar\":{\"outlinewidth\":0,\"ticks\":\"\"}}}],\"histogram\":[{\"marker\":{\"pattern\":{\"fillmode\":\"overlay\",\"size\":10,\"solidity\":0.2}},\"type\":\"histogram\"}],\"scattergl\":[{\"marker\":{\"line\":{\"color\":\"#283442\"}},\"type\":\"scattergl\"}],\"scatter3d\":[{\"type\":\"scatter3d\",\"line\":{\"colorbar\":{\"outlinewidth\":0,\"ticks\":\"\"}},\"marker\":{\"colorbar\":{\"outlinewidth\":0,\"ticks\":\"\"}}}],\"scattermapbox\":[{\"type\":\"scattermapbox\",\"marker\":{\"colorbar\":{\"outlinewidth\":0,\"ticks\":\"\"}}}],\"scatterternary\":[{\"type\":\"scatterternary\",\"marker\":{\"colorbar\":{\"outlinewidth\":0,\"ticks\":\"\"}}}],\"scattercarpet\":[{\"type\":\"scattercarpet\",\"marker\":{\"colorbar\":{\"outlinewidth\":0,\"ticks\":\"\"}}}],\"carpet\":[{\"aaxis\":{\"endlinecolor\":\"#A2B1C6\",\"gridcolor\":\"#506784\",\"linecolor\":\"#506784\",\"minorgridcolor\":\"#506784\",\"startlinecolor\":\"#A2B1C6\"},\"baxis\":{\"endlinecolor\":\"#A2B1C6\",\"gridcolor\":\"#506784\",\"linecolor\":\"#506784\",\"minorgridcolor\":\"#506784\",\"startlinecolor\":\"#A2B1C6\"},\"type\":\"carpet\"}],\"table\":[{\"cells\":{\"fill\":{\"color\":\"#506784\"},\"line\":{\"color\":\"rgb(17,17,17)\"}},\"header\":{\"fill\":{\"color\":\"#2a3f5f\"},\"line\":{\"color\":\"rgb(17,17,17)\"}},\"type\":\"table\"}],\"barpolar\":[{\"marker\":{\"line\":{\"color\":\"rgb(17,17,17)\",\"width\":0.5},\"pattern\":{\"fillmode\":\"overlay\",\"size\":10,\"solidity\":0.2}},\"type\":\"barpolar\"}],\"pie\":[{\"automargin\":true,\"type\":\"pie\"}]},\"layout\":{\"autotypenumbers\":\"strict\",\"colorway\":[\"#636efa\",\"#EF553B\",\"#00cc96\",\"#ab63fa\",\"#FFA15A\",\"#19d3f3\",\"#FF6692\",\"#B6E880\",\"#FF97FF\",\"#FECB52\"],\"font\":{\"color\":\"#f2f5fa\"},\"hovermode\":\"closest\",\"hoverlabel\":{\"align\":\"left\"},\"paper_bgcolor\":\"rgb(17,17,17)\",\"plot_bgcolor\":\"rgb(17,17,17)\",\"polar\":{\"bgcolor\":\"rgb(17,17,17)\",\"angularaxis\":{\"gridcolor\":\"#506784\",\"linecolor\":\"#506784\",\"ticks\":\"\"},\"radialaxis\":{\"gridcolor\":\"#506784\",\"linecolor\":\"#506784\",\"ticks\":\"\"}},\"ternary\":{\"bgcolor\":\"rgb(17,17,17)\",\"aaxis\":{\"gridcolor\":\"#506784\",\"linecolor\":\"#506784\",\"ticks\":\"\"},\"baxis\":{\"gridcolor\":\"#506784\",\"linecolor\":\"#506784\",\"ticks\":\"\"},\"caxis\":{\"gridcolor\":\"#506784\",\"linecolor\":\"#506784\",\"ticks\":\"\"}},\"coloraxis\":{\"colorbar\":{\"outlinewidth\":0,\"ticks\":\"\"}},\"colorscale\":{\"sequential\":[[0.0,\"#0d0887\"],[0.1111111111111111,\"#46039f\"],[0.2222222222222222,\"#7201a8\"],[0.3333333333333333,\"#9c179e\"],[0.4444444444444444,\"#bd3786\"],[0.5555555555555556,\"#d8576b\"],[0.6666666666666666,\"#ed7953\"],[0.7777777777777778,\"#fb9f3a\"],[0.8888888888888888,\"#fdca26\"],[1.0,\"#f0f921\"]],\"sequentialminus\":[[0.0,\"#0d0887\"],[0.1111111111111111,\"#46039f\"],[0.2222222222222222,\"#7201a8\"],[0.3333333333333333,\"#9c179e\"],[0.4444444444444444,\"#bd3786\"],[0.5555555555555556,\"#d8576b\"],[0.6666666666666666,\"#ed7953\"],[0.7777777777777778,\"#fb9f3a\"],[0.8888888888888888,\"#fdca26\"],[1.0,\"#f0f921\"]],\"diverging\":[[0,\"#8e0152\"],[0.1,\"#c51b7d\"],[0.2,\"#de77ae\"],[0.3,\"#f1b6da\"],[0.4,\"#fde0ef\"],[0.5,\"#f7f7f7\"],[0.6,\"#e6f5d0\"],[0.7,\"#b8e186\"],[0.8,\"#7fbc41\"],[0.9,\"#4d9221\"],[1,\"#276419\"]]},\"xaxis\":{\"gridcolor\":\"#283442\",\"linecolor\":\"#506784\",\"ticks\":\"\",\"title\":{\"standoff\":15},\"zerolinecolor\":\"#283442\",\"automargin\":true,\"zerolinewidth\":2},\"yaxis\":{\"gridcolor\":\"#283442\",\"linecolor\":\"#506784\",\"ticks\":\"\",\"title\":{\"standoff\":15},\"zerolinecolor\":\"#283442\",\"automargin\":true,\"zerolinewidth\":2},\"scene\":{\"xaxis\":{\"backgroundcolor\":\"rgb(17,17,17)\",\"gridcolor\":\"#506784\",\"linecolor\":\"#506784\",\"showbackground\":true,\"ticks\":\"\",\"zerolinecolor\":\"#C8D4E3\",\"gridwidth\":2},\"yaxis\":{\"backgroundcolor\":\"rgb(17,17,17)\",\"gridcolor\":\"#506784\",\"linecolor\":\"#506784\",\"showbackground\":true,\"ticks\":\"\",\"zerolinecolor\":\"#C8D4E3\",\"gridwidth\":2},\"zaxis\":{\"backgroundcolor\":\"rgb(17,17,17)\",\"gridcolor\":\"#506784\",\"linecolor\":\"#506784\",\"showbackground\":true,\"ticks\":\"\",\"zerolinecolor\":\"#C8D4E3\",\"gridwidth\":2}},\"shapedefaults\":{\"line\":{\"color\":\"#f2f5fa\"}},\"annotationdefaults\":{\"arrowcolor\":\"#f2f5fa\",\"arrowhead\":0,\"arrowwidth\":1},\"geo\":{\"bgcolor\":\"rgb(17,17,17)\",\"landcolor\":\"rgb(17,17,17)\",\"subunitcolor\":\"#506784\",\"showland\":true,\"showlakes\":true,\"lakecolor\":\"rgb(17,17,17)\"},\"title\":{\"x\":0.05},\"updatemenudefaults\":{\"bgcolor\":\"#506784\",\"borderwidth\":0},\"sliderdefaults\":{\"bgcolor\":\"#C8D4E3\",\"borderwidth\":1,\"bordercolor\":\"rgb(17,17,17)\",\"tickwidth\":0},\"mapbox\":{\"style\":\"dark\"}}},\"margin\":{\"t\":10,\"b\":10},\"width\":1200,\"height\":700,\"font\":{\"size\":16}},                        {\"responsive\": true}                    ).then(function(){\n                            \nvar gd = document.getElementById('202b52c5-f29f-4810-93b7-e2cc92097d8e');\nvar x = new MutationObserver(function (mutations, observer) {{\n        var display = window.getComputedStyle(gd).display;\n        if (!display || display === 'none') {{\n            console.log([gd, 'removed!']);\n            Plotly.purge(gd);\n            observer.disconnect();\n        }}\n}});\n\n// Listen for the removal of the full notebook cells\nvar notebookContainer = gd.closest('#notebook-container');\nif (notebookContainer) {{\n    x.observe(notebookContainer, {childList: true});\n}}\n\n// Listen for the clearing of the current output cell\nvar outputEl = gd.closest('.output');\nif (outputEl) {{\n    x.observe(outputEl, {childList: true});\n}}\n\n                        })                };                });            </script>        </div>"
     },
     "metadata": {},
     "output_type": "display_data"
    }
   ],
   "source": [
    "flux_plot_filename = \"Alluvial_Diagram_Ternary_CO2_N2_Growth_NoScale.html\"\n",
    "\n",
    "# Generate diagram\n",
    "fig = go.Figure(go.Sankey(\n",
    "    valueformat = \".3f\",\n",
    "    node=dict(\n",
    "        pad = 15,\n",
    "        thickness = 30,\n",
    "        label=node_df['Node_Name'].values,\n",
    "        x=list(node_df['Xpos'].values),\n",
    "        y=list(node_df['Ypos'].values),\n",
    "        color=node_df['Color'].values\n",
    "            \n",
    "    ),\n",
    "    link=dict(\n",
    "        arrowlen=30,\n",
    "        source=links_df[\"Sources\"].values,\n",
    "        target=links_df[\"Targets\"].values,\n",
    "        value=links_df[\"Values\"].values\n",
    "    )\n",
    "))\n",
    "\n",
    "fig.update_layout(width=1200, height=700, margin={'t':10,'b':10})\n",
    "fig.update_layout(font_size=16)\n",
    "# fig.update_layout(title_text=\"Ternary Model Flux\")\n",
    "# fig.update_yaxes(autorange=True)\n",
    "# fig.update_yaxes(autoshift=True)\n",
    "fig.write_html(flux_plot_filename)\n",
    "fig.show()"
   ]
  },
  {
   "cell_type": "code",
   "execution_count": null,
   "metadata": {
    "pycharm": {
     "name": "#%%\n"
    }
   },
   "outputs": [],
   "source": []
  }
 ],
 "metadata": {
  "kernelspec": {
   "display_name": "Python 3 (ipykernel)",
   "language": "python",
   "name": "python3"
  },
  "language_info": {
   "codemirror_mode": {
    "name": "ipython",
    "version": 3
   },
   "file_extension": ".py",
   "mimetype": "text/x-python",
   "name": "python",
   "nbconvert_exporter": "python",
   "pygments_lexer": "ipython3",
   "version": "3.10.6"
  }
 },
 "nbformat": 4,
 "nbformat_minor": 4
}
